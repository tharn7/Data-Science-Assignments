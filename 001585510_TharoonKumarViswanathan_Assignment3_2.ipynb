{
 "cells": [
  {
   "cell_type": "markdown",
   "metadata": {},
   "source": [
    "# Health care: Data set on Heart attack possibility\n",
    "https://www.kaggle.com/nareshbhat/health-care-data-set-on-heart-attack-possibility"
   ]
  },
  {
   "cell_type": "code",
   "execution_count": 1,
   "metadata": {},
   "outputs": [],
   "source": [
    "import pandas as pd\n",
    "from sklearn import metrics\n",
    "from sklearn.ensemble import RandomForestClassifier\n",
    "from sklearn.metrics import accuracy_score,f1_score\n",
    "from pandas.api.types import is_string_dtype,is_numeric_dtype\n",
    "import seaborn as sns\n",
    "from keras.wrappers.scikit_learn import KerasClassifier\n",
    "import matplotlib.pyplot as plt\n",
    "from sklearn.model_selection import train_test_split\n",
    "import numpy as np\n",
    "from sklearn.metrics import mean_squared_error\n",
    "from sklearn.model_selection import cross_val_score\n",
    "from sklearn.metrics import r2_score\n",
    "from sklearn.model_selection import KFold\n",
    "from sklearn.metrics import mean_absolute_error\n",
    "from keras.models import Sequential\n",
    "from keras.layers import Dense\n",
    "\n",
    "%matplotlib inline"
   ]
  },
  {
   "cell_type": "code",
   "execution_count": 2,
   "metadata": {},
   "outputs": [
    {
     "data": {
      "text/plain": [
       "'D:\\\\Information system\\\\Sem 1\\\\Info 6105\\\\Assignment 3'"
      ]
     },
     "execution_count": 2,
     "metadata": {},
     "output_type": "execute_result"
    }
   ],
   "source": [
    "%pwd"
   ]
  },
  {
   "cell_type": "code",
   "execution_count": 3,
   "metadata": {},
   "outputs": [],
   "source": [
    "df = pd.read_csv(r'D:\\\\Information system\\\\Sem 1\\\\Info 6105\\\\Assignment 3\\\\heart.csv')"
   ]
  },
  {
   "cell_type": "code",
   "execution_count": 4,
   "metadata": {},
   "outputs": [],
   "source": [
    "from sklearn.utils import shuffle\n",
    "df = shuffle(df)"
   ]
  },
  {
   "cell_type": "code",
   "execution_count": 5,
   "metadata": {},
   "outputs": [],
   "source": [
    "cols = list(df.columns)"
   ]
  },
  {
   "cell_type": "code",
   "execution_count": 6,
   "metadata": {},
   "outputs": [
    {
     "data": {
      "text/plain": [
       "<AxesSubplot:xlabel='Feature', ylabel='Percent missing'>"
      ]
     },
     "execution_count": 6,
     "metadata": {},
     "output_type": "execute_result"
    },
    {
     "data": {
      "image/png": "[encoded data removed]",
      "text/plain": [
       "<Figure size 2160x432 with 1 Axes>"
      ]
     },
     "metadata": {
      "needs_background": "light"
     },
     "output_type": "display_data"
    }
   ],
   "source": [
    "null_vals = df.isnull().sum()/len(df)*100\n",
    "null_vals = pd.DataFrame(null_vals)\n",
    "null_vals.reset_index(inplace = True)\n",
    "null_vals.columns = [\"Feature\",\"Percent missing\"]\n",
    "plt.figure(figsize = (30,6))\n",
    "plt.xticks(rotation=45)\n",
    "sns.barplot(x = \"Feature\",y =\"Percent missing\",data = null_vals)"
   ]
  },
  {
   "cell_type": "code",
   "execution_count": 7,
   "metadata": {},
   "outputs": [
    {
     "data": {
      "text/plain": [
       "age         0\n",
       "sex         0\n",
       "cp          0\n",
       "trestbps    0\n",
       "chol        0\n",
       "fbs         0\n",
       "restecg     0\n",
       "thalach     0\n",
       "exang       0\n",
       "oldpeak     0\n",
       "slope       0\n",
       "ca          0\n",
       "thal        0\n",
       "target      0\n",
       "dtype: int64"
      ]
     },
     "execution_count": 7,
     "metadata": {},
     "output_type": "execute_result"
    }
   ],
   "source": [
    "#Checking the sum of null values for each values\n",
    "df.isna().sum()"
   ]
  },
  {
   "cell_type": "markdown",
   "metadata": {},
   "source": [
    "# Preprocessing the Data"
   ]
  },
  {
   "cell_type": "code",
   "execution_count": 8,
   "metadata": {},
   "outputs": [],
   "source": [
    "def split_df(df,num):\n",
    "    return df[ :num].copy(),df[num: ].copy()"
   ]
  },
  {
   "cell_type": "code",
   "execution_count": 9,
   "metadata": {},
   "outputs": [
    {
     "name": "stdout",
     "output_type": "stream",
     "text": [
      "(303, 13)\n",
      "(303,)\n"
     ]
    }
   ],
   "source": [
    "#target is the value to be calculated\n",
    "x = df.drop('target', axis=1)\n",
    "y = df['target']\n",
    "print(x.shape)\n",
    "print(y.shape)"
   ]
  },
  {
   "cell_type": "code",
   "execution_count": 10,
   "metadata": {},
   "outputs": [
    {
     "name": "stdout",
     "output_type": "stream",
     "text": [
      "(200, 13) (103, 13) (200,) (103,)\n"
     ]
    }
   ],
   "source": [
    "# spliting the data to for training and validation data set\n",
    "x_trn,x_val = split_df(x,200)\n",
    "y_trn,y_val = split_df(y,200)\n",
    "print(x_trn.shape,x_val.shape,y_trn.shape,y_val.shape)"
   ]
  },
  {
   "cell_type": "markdown",
   "metadata": {},
   "source": [
    "# 1. Train an RF model"
   ]
  },
  {
   "cell_type": "code",
   "execution_count": 11,
   "metadata": {},
   "outputs": [
    {
     "data": {
      "text/plain": [
       "RandomForestClassifier(n_estimators=5, n_jobs=-1)"
      ]
     },
     "execution_count": 11,
     "metadata": {},
     "output_type": "execute_result"
    }
   ],
   "source": [
    "model = RandomForestClassifier(n_jobs = -1, n_estimators = 5,bootstrap = True)\n",
    "model.fit(x_trn,y_trn)"
   ]
  },
  {
   "cell_type": "code",
   "execution_count": 12,
   "metadata": {},
   "outputs": [
    {
     "data": {
      "text/plain": [
       "0.7669902912621359"
      ]
     },
     "execution_count": 12,
     "metadata": {},
     "output_type": "execute_result"
    }
   ],
   "source": [
    "y_prd = model.predict(x_val)\n",
    "accuracy_score(y_val,y_prd)"
   ]
  },
  {
   "cell_type": "markdown",
   "metadata": {},
   "source": [
    "# 2. Train DNN Model"
   ]
  },
  {
   "cell_type": "code",
   "execution_count": 13,
   "metadata": {},
   "outputs": [
    {
     "name": "stdout",
     "output_type": "stream",
     "text": [
      "(303, 13)\n"
     ]
    },
    {
     "data": {
      "text/html": [
       "<div>\n",
       "<style scoped>\n",
       "    .dataframe tbody tr th:only-of-type {\n",
       "        vertical-align: middle;\n",
       "    }\n",
       "\n",
       "    .dataframe tbody tr th {\n",
       "        vertical-align: top;\n",
       "    }\n",
       "\n",
       "    .dataframe thead th {\n",
       "        text-align: right;\n",
       "    }\n",
       "</style>\n",
       "<table border=\"1\" class=\"dataframe\">\n",
       "  <thead>\n",
       "    <tr style=\"text-align: right;\">\n",
       "      <th></th>\n",
       "      <th>0</th>\n",
       "      <th>1</th>\n",
       "      <th>2</th>\n",
       "      <th>3</th>\n",
       "      <th>4</th>\n",
       "      <th>5</th>\n",
       "      <th>6</th>\n",
       "      <th>7</th>\n",
       "      <th>8</th>\n",
       "      <th>9</th>\n",
       "      <th>10</th>\n",
       "      <th>11</th>\n",
       "      <th>12</th>\n",
       "    </tr>\n",
       "  </thead>\n",
       "  <tbody>\n",
       "    <tr>\n",
       "      <th>0</th>\n",
       "      <td>-1.033002</td>\n",
       "      <td>-1.468418</td>\n",
       "      <td>0.032031</td>\n",
       "      <td>-0.092738</td>\n",
       "      <td>-0.237008</td>\n",
       "      <td>-0.417635</td>\n",
       "      <td>-1.005832</td>\n",
       "      <td>1.108705</td>\n",
       "      <td>-0.696631</td>\n",
       "      <td>-0.379244</td>\n",
       "      <td>-0.649113</td>\n",
       "      <td>-0.714429</td>\n",
       "      <td>-0.512922</td>\n",
       "    </tr>\n",
       "    <tr>\n",
       "      <th>1</th>\n",
       "      <td>0.400752</td>\n",
       "      <td>0.681005</td>\n",
       "      <td>-0.938515</td>\n",
       "      <td>-0.206964</td>\n",
       "      <td>0.246129</td>\n",
       "      <td>-0.417635</td>\n",
       "      <td>-1.005832</td>\n",
       "      <td>-0.859167</td>\n",
       "      <td>1.435481</td>\n",
       "      <td>1.691225</td>\n",
       "      <td>-0.649113</td>\n",
       "      <td>1.244593</td>\n",
       "      <td>1.123029</td>\n",
       "    </tr>\n",
       "  </tbody>\n",
       "</table>\n",
       "</div>"
      ],
      "text/plain": [
       "         0         1         2         3         4         5         6   \\\n",
       "0 -1.033002 -1.468418  0.032031 -0.092738 -0.237008 -0.417635 -1.005832   \n",
       "1  0.400752  0.681005 -0.938515 -0.206964  0.246129 -0.417635 -1.005832   \n",
       "\n",
       "         7         8         9         10        11        12  \n",
       "0  1.108705 -0.696631 -0.379244 -0.649113 -0.714429 -0.512922  \n",
       "1 -0.859167  1.435481  1.691225 -0.649113  1.244593  1.123029  "
      ]
     },
     "execution_count": 13,
     "metadata": {},
     "output_type": "execute_result"
    }
   ],
   "source": [
    "from sklearn import preprocessing\n",
    "scaler = preprocessing.StandardScaler().fit(x)\n",
    "X_sc = pd.DataFrame(scaler.transform(x))\n",
    "print(X_sc.shape)\n",
    "X_sc.head(2)"
   ]
  },
  {
   "cell_type": "code",
   "execution_count": 14,
   "metadata": {},
   "outputs": [
    {
     "name": "stdout",
     "output_type": "stream",
     "text": [
      "(200, 13) (103, 13) (200,) (103,)\n"
     ]
    }
   ],
   "source": [
    "xd_trn,xd_val = split_df(X_sc,200)\n",
    "yd_trn,yd_val = split_df(y,200)\n",
    "print(xd_trn.shape,xd_val.shape,yd_trn.shape,yd_val.shape)"
   ]
  },
  {
   "cell_type": "code",
   "execution_count": 15,
   "metadata": {},
   "outputs": [
    {
     "data": {
      "text/html": [
       "<div>\n",
       "<style scoped>\n",
       "    .dataframe tbody tr th:only-of-type {\n",
       "        vertical-align: middle;\n",
       "    }\n",
       "\n",
       "    .dataframe tbody tr th {\n",
       "        vertical-align: top;\n",
       "    }\n",
       "\n",
       "    .dataframe thead th {\n",
       "        text-align: right;\n",
       "    }\n",
       "</style>\n",
       "<table border=\"1\" class=\"dataframe\">\n",
       "  <thead>\n",
       "    <tr style=\"text-align: right;\">\n",
       "      <th></th>\n",
       "      <th>0</th>\n",
       "      <th>1</th>\n",
       "      <th>2</th>\n",
       "      <th>3</th>\n",
       "      <th>4</th>\n",
       "      <th>5</th>\n",
       "      <th>6</th>\n",
       "      <th>7</th>\n",
       "      <th>8</th>\n",
       "      <th>9</th>\n",
       "      <th>10</th>\n",
       "      <th>11</th>\n",
       "      <th>12</th>\n",
       "    </tr>\n",
       "  </thead>\n",
       "  <tbody>\n",
       "    <tr>\n",
       "      <th>200</th>\n",
       "      <td>-0.260980</td>\n",
       "      <td>0.681005</td>\n",
       "      <td>1.002577</td>\n",
       "      <td>2.306004</td>\n",
       "      <td>-0.913400</td>\n",
       "      <td>2.394438</td>\n",
       "      <td>0.898962</td>\n",
       "      <td>0.540209</td>\n",
       "      <td>-0.696631</td>\n",
       "      <td>-0.465514</td>\n",
       "      <td>0.976352</td>\n",
       "      <td>-0.714429</td>\n",
       "      <td>1.123029</td>\n",
       "    </tr>\n",
       "    <tr>\n",
       "      <th>201</th>\n",
       "      <td>0.290464</td>\n",
       "      <td>0.681005</td>\n",
       "      <td>-0.938515</td>\n",
       "      <td>0.021488</td>\n",
       "      <td>-0.758796</td>\n",
       "      <td>-0.417635</td>\n",
       "      <td>0.898962</td>\n",
       "      <td>0.802592</td>\n",
       "      <td>1.435481</td>\n",
       "      <td>-0.896862</td>\n",
       "      <td>0.976352</td>\n",
       "      <td>-0.714429</td>\n",
       "      <td>1.123029</td>\n",
       "    </tr>\n",
       "    <tr>\n",
       "      <th>202</th>\n",
       "      <td>-1.033002</td>\n",
       "      <td>-1.468418</td>\n",
       "      <td>0.032031</td>\n",
       "      <td>-1.120770</td>\n",
       "      <td>-1.667094</td>\n",
       "      <td>-0.417635</td>\n",
       "      <td>0.898962</td>\n",
       "      <td>-0.509323</td>\n",
       "      <td>-0.696631</td>\n",
       "      <td>-0.896862</td>\n",
       "      <td>-0.649113</td>\n",
       "      <td>-0.714429</td>\n",
       "      <td>-0.512922</td>\n",
       "    </tr>\n",
       "    <tr>\n",
       "      <th>203</th>\n",
       "      <td>0.841908</td>\n",
       "      <td>0.681005</td>\n",
       "      <td>0.032031</td>\n",
       "      <td>-0.663867</td>\n",
       "      <td>0.671289</td>\n",
       "      <td>-0.417635</td>\n",
       "      <td>-1.005832</td>\n",
       "      <td>-2.039891</td>\n",
       "      <td>-0.696631</td>\n",
       "      <td>0.310912</td>\n",
       "      <td>-0.649113</td>\n",
       "      <td>0.265082</td>\n",
       "      <td>1.123029</td>\n",
       "    </tr>\n",
       "    <tr>\n",
       "      <th>204</th>\n",
       "      <td>-0.260980</td>\n",
       "      <td>0.681005</td>\n",
       "      <td>1.973123</td>\n",
       "      <td>-0.778093</td>\n",
       "      <td>-1.164631</td>\n",
       "      <td>-0.417635</td>\n",
       "      <td>-1.005832</td>\n",
       "      <td>1.764663</td>\n",
       "      <td>-0.696631</td>\n",
       "      <td>-0.896862</td>\n",
       "      <td>-0.649113</td>\n",
       "      <td>-0.714429</td>\n",
       "      <td>-2.148873</td>\n",
       "    </tr>\n",
       "  </tbody>\n",
       "</table>\n",
       "</div>"
      ],
      "text/plain": [
       "           0         1         2         3         4         5         6   \\\n",
       "200 -0.260980  0.681005  1.002577  2.306004 -0.913400  2.394438  0.898962   \n",
       "201  0.290464  0.681005 -0.938515  0.021488 -0.758796 -0.417635  0.898962   \n",
       "202 -1.033002 -1.468418  0.032031 -1.120770 -1.667094 -0.417635  0.898962   \n",
       "203  0.841908  0.681005  0.032031 -0.663867  0.671289 -0.417635 -1.005832   \n",
       "204 -0.260980  0.681005  1.973123 -0.778093 -1.164631 -0.417635 -1.005832   \n",
       "\n",
       "           7         8         9         10        11        12  \n",
       "200  0.540209 -0.696631 -0.465514  0.976352 -0.714429  1.123029  \n",
       "201  0.802592  1.435481 -0.896862  0.976352 -0.714429  1.123029  \n",
       "202 -0.509323 -0.696631 -0.896862 -0.649113 -0.714429 -0.512922  \n",
       "203 -2.039891 -0.696631  0.310912 -0.649113  0.265082  1.123029  \n",
       "204  1.764663 -0.696631 -0.896862 -0.649113 -0.714429 -2.148873  "
      ]
     },
     "execution_count": 15,
     "metadata": {},
     "output_type": "execute_result"
    }
   ],
   "source": [
    "xd_val.head()"
   ]
  },
  {
   "cell_type": "code",
   "execution_count": 16,
   "metadata": {},
   "outputs": [],
   "source": [
    "# Build the deep neural network\n",
    "DL_model = Sequential()\n",
    "DL_model.add(Dense(10, kernel_initializer=\"glorot_uniform\",input_dim=13, activation='relu'))\n",
    "DL_model.add(Dense(6, kernel_initializer=\"random_normal\",activation='relu'))\n",
    "DL_model.add(Dense(1, kernel_initializer=\"glorot_uniform\",activation='sigmoid'))"
   ]
  },
  {
   "cell_type": "code",
   "execution_count": 17,
   "metadata": {},
   "outputs": [],
   "source": [
    "DL_model.compile(loss='binary_crossentropy', optimizer='adam', metrics=['accuracy'])"
   ]
  },
  {
   "cell_type": "code",
   "execution_count": 18,
   "metadata": {},
   "outputs": [
    {
     "name": "stdout",
     "output_type": "stream",
     "text": [
      "Epoch 1/100\n",
      "40/40 [==============================] - 1s 11ms/step - loss: 0.6636 - accuracy: 0.6058 - val_loss: 0.6195 - val_accuracy: 0.6893\n",
      "Epoch 2/100\n",
      "40/40 [==============================] - 0s 4ms/step - loss: 0.6076 - accuracy: 0.7012 - val_loss: 0.5769 - val_accuracy: 0.7573\n",
      "Epoch 3/100\n",
      "40/40 [==============================] - 0s 2ms/step - loss: 0.5539 - accuracy: 0.7867 - val_loss: 0.5365 - val_accuracy: 0.7864\n",
      "Epoch 4/100\n",
      "40/40 [==============================] - 0s 2ms/step - loss: 0.5029 - accuracy: 0.8264 - val_loss: 0.5018 - val_accuracy: 0.7961\n",
      "Epoch 5/100\n",
      "40/40 [==============================] - 0s 2ms/step - loss: 0.4769 - accuracy: 0.7988 - val_loss: 0.4794 - val_accuracy: 0.8058\n",
      "Epoch 6/100\n",
      "40/40 [==============================] - 0s 2ms/step - loss: 0.4058 - accuracy: 0.8562 - val_loss: 0.4659 - val_accuracy: 0.7961\n",
      "Epoch 7/100\n",
      "40/40 [==============================] - 0s 2ms/step - loss: 0.4199 - accuracy: 0.7858 - val_loss: 0.4611 - val_accuracy: 0.7961\n",
      "Epoch 8/100\n",
      "40/40 [==============================] - 0s 2ms/step - loss: 0.3525 - accuracy: 0.8562 - val_loss: 0.4629 - val_accuracy: 0.7961\n",
      "Epoch 9/100\n",
      "40/40 [==============================] - 0s 2ms/step - loss: 0.3195 - accuracy: 0.8528 - val_loss: 0.4679 - val_accuracy: 0.7961\n",
      "Epoch 10/100\n",
      "40/40 [==============================] - 0s 2ms/step - loss: 0.3512 - accuracy: 0.8359 - val_loss: 0.4678 - val_accuracy: 0.7961\n",
      "Epoch 11/100\n",
      "40/40 [==============================] - 0s 2ms/step - loss: 0.2798 - accuracy: 0.8806 - val_loss: 0.4729 - val_accuracy: 0.7961\n",
      "Epoch 12/100\n",
      "40/40 [==============================] - 0s 2ms/step - loss: 0.2725 - accuracy: 0.8702 - val_loss: 0.4793 - val_accuracy: 0.8155\n",
      "Epoch 13/100\n",
      "40/40 [==============================] - 0s 2ms/step - loss: 0.3075 - accuracy: 0.8629 - val_loss: 0.4828 - val_accuracy: 0.8155\n",
      "Epoch 14/100\n",
      "40/40 [==============================] - 0s 2ms/step - loss: 0.3332 - accuracy: 0.8259 - val_loss: 0.4870 - val_accuracy: 0.8155\n",
      "Epoch 15/100\n",
      "40/40 [==============================] - 0s 2ms/step - loss: 0.2246 - accuracy: 0.9078 - val_loss: 0.4935 - val_accuracy: 0.8155\n",
      "Epoch 16/100\n",
      "40/40 [==============================] - 0s 2ms/step - loss: 0.2888 - accuracy: 0.8494 - val_loss: 0.4948 - val_accuracy: 0.8252\n",
      "Epoch 17/100\n",
      "40/40 [==============================] - 0s 2ms/step - loss: 0.2978 - accuracy: 0.8609 - val_loss: 0.5005 - val_accuracy: 0.8155\n",
      "Epoch 18/100\n",
      "40/40 [==============================] - 0s 2ms/step - loss: 0.2831 - accuracy: 0.8441 - val_loss: 0.5044 - val_accuracy: 0.8155\n",
      "Epoch 19/100\n",
      "40/40 [==============================] - 0s 2ms/step - loss: 0.2191 - accuracy: 0.8829 - val_loss: 0.5107 - val_accuracy: 0.8252\n",
      "Epoch 20/100\n",
      "40/40 [==============================] - 0s 2ms/step - loss: 0.2592 - accuracy: 0.8524 - val_loss: 0.5143 - val_accuracy: 0.8155\n",
      "Epoch 21/100\n",
      "40/40 [==============================] - 0s 2ms/step - loss: 0.3113 - accuracy: 0.8339 - val_loss: 0.5150 - val_accuracy: 0.8155\n",
      "Epoch 22/100\n",
      "40/40 [==============================] - 0s 2ms/step - loss: 0.2762 - accuracy: 0.8579 - val_loss: 0.5218 - val_accuracy: 0.8155\n",
      "Epoch 23/100\n",
      "40/40 [==============================] - 0s 2ms/step - loss: 0.2501 - accuracy: 0.8632 - val_loss: 0.5236 - val_accuracy: 0.8155\n",
      "Epoch 24/100\n",
      "40/40 [==============================] - 0s 2ms/step - loss: 0.2297 - accuracy: 0.8807 - val_loss: 0.5275 - val_accuracy: 0.8155\n",
      "Epoch 25/100\n",
      "40/40 [==============================] - 0s 2ms/step - loss: 0.2317 - accuracy: 0.8732 - val_loss: 0.5309 - val_accuracy: 0.8155\n",
      "Epoch 26/100\n",
      "40/40 [==============================] - 0s 2ms/step - loss: 0.2577 - accuracy: 0.8561 - val_loss: 0.5367 - val_accuracy: 0.8155\n",
      "Epoch 27/100\n",
      "40/40 [==============================] - 0s 2ms/step - loss: 0.2428 - accuracy: 0.8747 - val_loss: 0.5373 - val_accuracy: 0.8155\n",
      "Epoch 28/100\n",
      "40/40 [==============================] - 0s 2ms/step - loss: 0.2490 - accuracy: 0.8692 - val_loss: 0.5413 - val_accuracy: 0.8155\n",
      "Epoch 29/100\n",
      "40/40 [==============================] - 0s 2ms/step - loss: 0.2501 - accuracy: 0.8752 - val_loss: 0.5444 - val_accuracy: 0.8155\n",
      "Epoch 30/100\n",
      "40/40 [==============================] - 0s 2ms/step - loss: 0.1919 - accuracy: 0.9180 - val_loss: 0.5501 - val_accuracy: 0.8155\n",
      "Epoch 31/100\n",
      "40/40 [==============================] - 0s 2ms/step - loss: 0.2344 - accuracy: 0.8855 - val_loss: 0.5547 - val_accuracy: 0.8155\n",
      "Epoch 32/100\n",
      "40/40 [==============================] - 0s 2ms/step - loss: 0.2119 - accuracy: 0.8941 - val_loss: 0.5561 - val_accuracy: 0.8252\n",
      "Epoch 33/100\n",
      "40/40 [==============================] - 0s 2ms/step - loss: 0.1749 - accuracy: 0.9280 - val_loss: 0.5589 - val_accuracy: 0.8155\n",
      "Epoch 34/100\n",
      "40/40 [==============================] - 0s 2ms/step - loss: 0.2287 - accuracy: 0.8792 - val_loss: 0.5601 - val_accuracy: 0.8155\n",
      "Epoch 35/100\n",
      "40/40 [==============================] - 0s 2ms/step - loss: 0.2172 - accuracy: 0.9013 - val_loss: 0.5644 - val_accuracy: 0.8155\n",
      "Epoch 36/100\n",
      "40/40 [==============================] - 0s 2ms/step - loss: 0.1864 - accuracy: 0.9093 - val_loss: 0.5688 - val_accuracy: 0.8155\n",
      "Epoch 37/100\n",
      "40/40 [==============================] - 0s 2ms/step - loss: 0.2603 - accuracy: 0.8783 - val_loss: 0.5711 - val_accuracy: 0.8155\n",
      "Epoch 38/100\n",
      "40/40 [==============================] - 0s 2ms/step - loss: 0.1722 - accuracy: 0.9429 - val_loss: 0.5767 - val_accuracy: 0.8252\n",
      "Epoch 39/100\n",
      "40/40 [==============================] - 0s 2ms/step - loss: 0.1849 - accuracy: 0.9199 - val_loss: 0.5761 - val_accuracy: 0.8155\n",
      "Epoch 40/100\n",
      "40/40 [==============================] - 0s 2ms/step - loss: 0.1751 - accuracy: 0.9209 - val_loss: 0.5796 - val_accuracy: 0.8155\n",
      "Epoch 41/100\n",
      "40/40 [==============================] - 0s 2ms/step - loss: 0.1949 - accuracy: 0.9288 - val_loss: 0.5817 - val_accuracy: 0.8350\n",
      "Epoch 42/100\n",
      "40/40 [==============================] - 0s 2ms/step - loss: 0.1690 - accuracy: 0.9382 - val_loss: 0.5885 - val_accuracy: 0.8252\n",
      "Epoch 43/100\n",
      "40/40 [==============================] - 0s 2ms/step - loss: 0.1476 - accuracy: 0.9526 - val_loss: 0.5876 - val_accuracy: 0.8252\n",
      "Epoch 44/100\n",
      "40/40 [==============================] - 0s 2ms/step - loss: 0.1714 - accuracy: 0.9470 - val_loss: 0.5894 - val_accuracy: 0.8252\n",
      "Epoch 45/100\n",
      "40/40 [==============================] - 0s 2ms/step - loss: 0.2053 - accuracy: 0.9113 - val_loss: 0.5912 - val_accuracy: 0.8252\n",
      "Epoch 46/100\n",
      "40/40 [==============================] - 0s 2ms/step - loss: 0.1977 - accuracy: 0.9139 - val_loss: 0.5946 - val_accuracy: 0.8252\n",
      "Epoch 47/100\n",
      "40/40 [==============================] - 0s 4ms/step - loss: 0.1581 - accuracy: 0.9258 - val_loss: 0.5991 - val_accuracy: 0.8155\n",
      "Epoch 48/100\n",
      "40/40 [==============================] - 0s 2ms/step - loss: 0.2093 - accuracy: 0.9304 - val_loss: 0.5986 - val_accuracy: 0.8155\n",
      "Epoch 49/100\n",
      "40/40 [==============================] - 0s 2ms/step - loss: 0.1541 - accuracy: 0.9491 - val_loss: 0.6028 - val_accuracy: 0.8155\n",
      "Epoch 50/100\n",
      "40/40 [==============================] - 0s 2ms/step - loss: 0.1490 - accuracy: 0.9449 - val_loss: 0.6105 - val_accuracy: 0.8155\n",
      "Epoch 51/100\n",
      "40/40 [==============================] - 0s 2ms/step - loss: 0.1459 - accuracy: 0.9448 - val_loss: 0.6110 - val_accuracy: 0.8155\n",
      "Epoch 52/100\n",
      "40/40 [==============================] - 0s 2ms/step - loss: 0.1826 - accuracy: 0.9332 - val_loss: 0.6164 - val_accuracy: 0.8155\n",
      "Epoch 53/100\n",
      "40/40 [==============================] - 0s 2ms/step - loss: 0.2103 - accuracy: 0.8996 - val_loss: 0.6158 - val_accuracy: 0.8155\n",
      "Epoch 54/100\n",
      "40/40 [==============================] - 0s 2ms/step - loss: 0.1349 - accuracy: 0.9616 - val_loss: 0.6211 - val_accuracy: 0.8155\n",
      "Epoch 55/100\n",
      "40/40 [==============================] - 0s 2ms/step - loss: 0.1418 - accuracy: 0.9574 - val_loss: 0.6217 - val_accuracy: 0.8155\n",
      "Epoch 56/100\n",
      "40/40 [==============================] - 0s 2ms/step - loss: 0.1452 - accuracy: 0.9462 - val_loss: 0.6218 - val_accuracy: 0.8155\n",
      "Epoch 57/100\n",
      "40/40 [==============================] - 0s 2ms/step - loss: 0.2012 - accuracy: 0.9294 - val_loss: 0.6281 - val_accuracy: 0.8155\n",
      "Epoch 58/100\n",
      "40/40 [==============================] - 0s 2ms/step - loss: 0.1474 - accuracy: 0.9232 - val_loss: 0.6318 - val_accuracy: 0.8155\n"
     ]
    },
    {
     "name": "stdout",
     "output_type": "stream",
     "text": [
      "Epoch 59/100\n",
      "40/40 [==============================] - 0s 2ms/step - loss: 0.1632 - accuracy: 0.9441 - val_loss: 0.6387 - val_accuracy: 0.8155\n",
      "Epoch 60/100\n",
      "40/40 [==============================] - 0s 2ms/step - loss: 0.1522 - accuracy: 0.9331 - val_loss: 0.6388 - val_accuracy: 0.8155\n",
      "Epoch 61/100\n",
      "40/40 [==============================] - 0s 2ms/step - loss: 0.1492 - accuracy: 0.9448 - val_loss: 0.6442 - val_accuracy: 0.8155\n",
      "Epoch 62/100\n",
      "40/40 [==============================] - 0s 2ms/step - loss: 0.1649 - accuracy: 0.9505 - val_loss: 0.6426 - val_accuracy: 0.8155\n",
      "Epoch 63/100\n",
      "40/40 [==============================] - 0s 2ms/step - loss: 0.1391 - accuracy: 0.9448 - val_loss: 0.6507 - val_accuracy: 0.8155\n",
      "Epoch 64/100\n",
      "40/40 [==============================] - 0s 2ms/step - loss: 0.1715 - accuracy: 0.9276 - val_loss: 0.6511 - val_accuracy: 0.8155\n",
      "Epoch 65/100\n",
      "40/40 [==============================] - 0s 2ms/step - loss: 0.1410 - accuracy: 0.9526 - val_loss: 0.6557 - val_accuracy: 0.8155\n",
      "Epoch 66/100\n",
      "40/40 [==============================] - 0s 2ms/step - loss: 0.1306 - accuracy: 0.9635 - val_loss: 0.6688 - val_accuracy: 0.8155\n",
      "Epoch 67/100\n",
      "40/40 [==============================] - 0s 2ms/step - loss: 0.1544 - accuracy: 0.9529 - val_loss: 0.6710 - val_accuracy: 0.8155\n",
      "Epoch 68/100\n",
      "40/40 [==============================] - 0s 2ms/step - loss: 0.1193 - accuracy: 0.9719 - val_loss: 0.6658 - val_accuracy: 0.8155\n",
      "Epoch 69/100\n",
      "40/40 [==============================] - 0s 2ms/step - loss: 0.1075 - accuracy: 0.9750 - val_loss: 0.6713 - val_accuracy: 0.8155\n",
      "Epoch 70/100\n",
      "40/40 [==============================] - 0s 2ms/step - loss: 0.1256 - accuracy: 0.9537 - val_loss: 0.6819 - val_accuracy: 0.8155\n",
      "Epoch 71/100\n",
      "40/40 [==============================] - 0s 2ms/step - loss: 0.1011 - accuracy: 0.9690 - val_loss: 0.6847 - val_accuracy: 0.8155\n",
      "Epoch 72/100\n",
      "40/40 [==============================] - 0s 2ms/step - loss: 0.1289 - accuracy: 0.9557 - val_loss: 0.6900 - val_accuracy: 0.8155\n",
      "Epoch 73/100\n",
      "40/40 [==============================] - 0s 2ms/step - loss: 0.1068 - accuracy: 0.9619 - val_loss: 0.6889 - val_accuracy: 0.8155\n",
      "Epoch 74/100\n",
      "40/40 [==============================] - 0s 2ms/step - loss: 0.0928 - accuracy: 0.9822 - val_loss: 0.6932 - val_accuracy: 0.8155\n",
      "Epoch 75/100\n",
      "40/40 [==============================] - 0s 2ms/step - loss: 0.0905 - accuracy: 0.9729 - val_loss: 0.6978 - val_accuracy: 0.8155\n",
      "Epoch 76/100\n",
      "40/40 [==============================] - 0s 2ms/step - loss: 0.0852 - accuracy: 0.9782 - val_loss: 0.7039 - val_accuracy: 0.8155\n",
      "Epoch 77/100\n",
      "40/40 [==============================] - 0s 2ms/step - loss: 0.1042 - accuracy: 0.9690 - val_loss: 0.7050 - val_accuracy: 0.8155\n",
      "Epoch 78/100\n",
      "40/40 [==============================] - 0s 2ms/step - loss: 0.0957 - accuracy: 0.9745 - val_loss: 0.7112 - val_accuracy: 0.8155\n",
      "Epoch 79/100\n",
      "40/40 [==============================] - 0s 2ms/step - loss: 0.0957 - accuracy: 0.9413 - val_loss: 0.7205 - val_accuracy: 0.8155\n",
      "Epoch 80/100\n",
      "40/40 [==============================] - 0s 2ms/step - loss: 0.1528 - accuracy: 0.9441 - val_loss: 0.7160 - val_accuracy: 0.8155\n",
      "Epoch 81/100\n",
      "40/40 [==============================] - 0s 2ms/step - loss: 0.1210 - accuracy: 0.9461 - val_loss: 0.7284 - val_accuracy: 0.8155\n",
      "Epoch 82/100\n",
      "40/40 [==============================] - 0s 2ms/step - loss: 0.0914 - accuracy: 0.9761 - val_loss: 0.7303 - val_accuracy: 0.8155\n",
      "Epoch 83/100\n",
      "40/40 [==============================] - 0s 2ms/step - loss: 0.1338 - accuracy: 0.9555 - val_loss: 0.7350 - val_accuracy: 0.8155\n",
      "Epoch 84/100\n",
      "40/40 [==============================] - 0s 2ms/step - loss: 0.1086 - accuracy: 0.9655 - val_loss: 0.7431 - val_accuracy: 0.8155\n",
      "Epoch 85/100\n",
      "40/40 [==============================] - 0s 2ms/step - loss: 0.1171 - accuracy: 0.9438 - val_loss: 0.7497 - val_accuracy: 0.8155\n",
      "Epoch 86/100\n",
      "40/40 [==============================] - 0s 2ms/step - loss: 0.0863 - accuracy: 0.9731 - val_loss: 0.7570 - val_accuracy: 0.8155\n",
      "Epoch 87/100\n",
      "40/40 [==============================] - 0s 2ms/step - loss: 0.0870 - accuracy: 0.9777 - val_loss: 0.7637 - val_accuracy: 0.8155\n",
      "Epoch 88/100\n",
      "40/40 [==============================] - 0s 2ms/step - loss: 0.1070 - accuracy: 0.9699 - val_loss: 0.7606 - val_accuracy: 0.8155\n",
      "Epoch 89/100\n",
      "40/40 [==============================] - 0s 2ms/step - loss: 0.1195 - accuracy: 0.9679 - val_loss: 0.7616 - val_accuracy: 0.8155\n",
      "Epoch 90/100\n",
      "40/40 [==============================] - 0s 2ms/step - loss: 0.0954 - accuracy: 0.9733 - val_loss: 0.7754 - val_accuracy: 0.8155\n",
      "Epoch 91/100\n",
      "40/40 [==============================] - 0s 2ms/step - loss: 0.0780 - accuracy: 0.9877 - val_loss: 0.7858 - val_accuracy: 0.8155\n",
      "Epoch 92/100\n",
      "40/40 [==============================] - 0s 2ms/step - loss: 0.0771 - accuracy: 0.9741 - val_loss: 0.7825 - val_accuracy: 0.8155\n",
      "Epoch 93/100\n",
      "40/40 [==============================] - 0s 2ms/step - loss: 0.0994 - accuracy: 0.9590 - val_loss: 0.7869 - val_accuracy: 0.8155\n",
      "Epoch 94/100\n",
      "40/40 [==============================] - 0s 2ms/step - loss: 0.0928 - accuracy: 0.9693 - val_loss: 0.7999 - val_accuracy: 0.8155\n",
      "Epoch 95/100\n",
      "40/40 [==============================] - 0s 2ms/step - loss: 0.0492 - accuracy: 0.9953 - val_loss: 0.8091 - val_accuracy: 0.8155\n",
      "Epoch 96/100\n",
      "40/40 [==============================] - 0s 2ms/step - loss: 0.0949 - accuracy: 0.9681 - val_loss: 0.8036 - val_accuracy: 0.8155\n",
      "Epoch 97/100\n",
      "40/40 [==============================] - 0s 2ms/step - loss: 0.0980 - accuracy: 0.9738 - val_loss: 0.8151 - val_accuracy: 0.8155\n",
      "Epoch 98/100\n",
      "40/40 [==============================] - 0s 2ms/step - loss: 0.0630 - accuracy: 0.9776 - val_loss: 0.8258 - val_accuracy: 0.8155\n",
      "Epoch 99/100\n",
      "40/40 [==============================] - 0s 2ms/step - loss: 0.0900 - accuracy: 0.9675 - val_loss: 0.8199 - val_accuracy: 0.8155\n",
      "Epoch 100/100\n",
      "40/40 [==============================] - 0s 2ms/step - loss: 0.0978 - accuracy: 0.9676 - val_loss: 0.8314 - val_accuracy: 0.8155\n"
     ]
    }
   ],
   "source": [
    "DL_model_gr= DL_model.fit(xd_trn, yd_trn, validation_data=(xd_val, yd_val), epochs=100, batch_size=5)"
   ]
  },
  {
   "cell_type": "code",
   "execution_count": 19,
   "metadata": {},
   "outputs": [
    {
     "data": {
      "image/png": "[encoded data removed]",
      "text/plain": [
       "<Figure size 432x288 with 1 Axes>"
      ]
     },
     "metadata": {
      "needs_background": "light"
     },
     "output_type": "display_data"
    }
   ],
   "source": [
    "import matplotlib.pyplot as plt\n",
    "# Get training and test loss histories\n",
    "training_loss = DL_model_gr.history['loss']\n",
    "test_loss = DL_model_gr.history['val_loss']\n",
    "\n",
    "# Create count of the number of epochs\n",
    "epoch_count = range(1, len(training_loss) + 1)\n",
    "\n",
    "# Visualize loss history\n",
    "plt.plot(epoch_count, training_loss, 'g--')\n",
    "plt.plot(epoch_count, test_loss, 'y-')\n",
    "plt.legend(['Train data Loss', 'Valid data Loss'])\n",
    "plt.xlabel('Epoch')\n",
    "plt.ylabel('Loss')\n",
    "plt.show();"
   ]
  },
  {
   "cell_type": "code",
   "execution_count": 20,
   "metadata": {},
   "outputs": [
    {
     "data": {
      "image/png": "[encoded data removed]",
      "text/plain": [
       "<Figure size 432x288 with 1 Axes>"
      ]
     },
     "metadata": {
      "needs_background": "light"
     },
     "output_type": "display_data"
    }
   ],
   "source": [
    "# Get training and test loss histories\n",
    "training_loss = DL_model_gr.history['accuracy']\n",
    "test_loss = DL_model_gr.history['val_accuracy']\n",
    "\n",
    "# Create count of the number of epochs\n",
    "epoch_count = range(1, len(training_loss) + 1)\n",
    "\n",
    "# Visualize loss history\n",
    "plt.plot(epoch_count, training_loss, 'g--')\n",
    "plt.plot(epoch_count, test_loss, 'y-')\n",
    "plt.legend(['Training Accuracy', 'Valid Accuracy'])\n",
    "plt.xlabel('Epoch')\n",
    "plt.ylabel('Accuracy')\n",
    "plt.show();"
   ]
  },
  {
   "cell_type": "code",
   "execution_count": 21,
   "metadata": {},
   "outputs": [
    {
     "name": "stdout",
     "output_type": "stream",
     "text": [
      "4/4 [==============================] - 0s 1ms/step - loss: 0.8314 - accuracy: 0.8155\n",
      "Accuracy: 81.55%\n"
     ]
    }
   ],
   "source": [
    "# Evaluate the model\n",
    "scores = DL_model.evaluate(xd_val, yd_val)\n",
    "print (\"Accuracy: %.2f%%\" %(scores[1]*100))"
   ]
  },
  {
   "cell_type": "markdown",
   "metadata": {},
   "source": [
    "# (3) Hybrid DNN and RF model"
   ]
  },
  {
   "cell_type": "markdown",
   "metadata": {},
   "source": [
    "To create a  hybrid DNN and RF model I will use Random Forest model to train the data and apply Feature importance to the data trained by RF and apply the coloumns with most feature importance to the DNN model. So by using this method I will have model which is a Hybrid of both RF and DNN."
   ]
  },
  {
   "cell_type": "code",
   "execution_count": 22,
   "metadata": {},
   "outputs": [],
   "source": [
    "df_hy = pd.read_csv(r'D:\\\\Information system\\\\Sem 1\\\\Info 6105\\\\Assignment 3\\\\heart.csv')"
   ]
  },
  {
   "cell_type": "code",
   "execution_count": 23,
   "metadata": {},
   "outputs": [],
   "source": [
    "from sklearn.utils import shuffle\n",
    "df_hy = shuffle(df_hy)"
   ]
  },
  {
   "cell_type": "code",
   "execution_count": 24,
   "metadata": {},
   "outputs": [
    {
     "name": "stdout",
     "output_type": "stream",
     "text": [
      "(303, 13)\n",
      "(303,)\n"
     ]
    }
   ],
   "source": [
    "#target is the value to be calculated\n",
    "x = df.drop('target', axis=1)\n",
    "y = df['target']\n",
    "print(x.shape)\n",
    "print(y.shape)"
   ]
  },
  {
   "cell_type": "code",
   "execution_count": 25,
   "metadata": {},
   "outputs": [
    {
     "name": "stdout",
     "output_type": "stream",
     "text": [
      "(200, 13) (103, 13) (200,) (103,)\n"
     ]
    }
   ],
   "source": [
    "# spliting the data to for training and validation data set\n",
    "x_trn,x_val = split_df(x,200)\n",
    "y_trn,y_val = split_df(y,200)\n",
    "print(x_trn.shape,x_val.shape,y_trn.shape,y_val.shape)"
   ]
  },
  {
   "cell_type": "code",
   "execution_count": 26,
   "metadata": {},
   "outputs": [
    {
     "data": {
      "text/plain": [
       "RandomForestClassifier(n_estimators=5, n_jobs=-1)"
      ]
     },
     "execution_count": 26,
     "metadata": {},
     "output_type": "execute_result"
    }
   ],
   "source": [
    "model_hyb = RandomForestClassifier(n_jobs = -1, n_estimators = 5,bootstrap = True)\n",
    "model_hyb.fit(x_trn,y_trn)"
   ]
  },
  {
   "cell_type": "code",
   "execution_count": 27,
   "metadata": {},
   "outputs": [
    {
     "data": {
      "text/plain": [
       "0.7669902912621359"
      ]
     },
     "execution_count": 27,
     "metadata": {},
     "output_type": "execute_result"
    }
   ],
   "source": [
    "y_prdh = model_hyb.predict(x_val)\n",
    "accuracy_score(y_val,y_prd)"
   ]
  },
  {
   "cell_type": "code",
   "execution_count": 28,
   "metadata": {},
   "outputs": [
    {
     "data": {
      "text/plain": [
       "<AxesSubplot:xlabel='Importance Score', ylabel='Feature'>"
      ]
     },
     "execution_count": 28,
     "metadata": {},
     "output_type": "execute_result"
    },
    {
     "data": {
      "image/png": "[encoded data removed]",
      "text/plain": [
       "<Figure size 576x432 with 1 Axes>"
      ]
     },
     "metadata": {
      "needs_background": "light"
     },
     "output_type": "display_data"
    }
   ],
   "source": [
    "'''Calculate feature importance scores with your model'''\n",
    "\n",
    "feat_imps = pd.DataFrame(model_hyb.feature_importances_, index = x_trn.columns,\n",
    "                                    columns=['Importance score']).sort_values('Importance score',ascending=False)\n",
    "feat_imps = feat_imps.reset_index()\n",
    "feat_imps.columns = [\"Feature\",\"Importance Score\"]\n",
    "plt.figure(figsize = (8,6))\n",
    "sns.barplot(x = \"Importance Score\",y = \"Feature\",data = feat_imps,orient = \"h\")"
   ]
  },
  {
   "cell_type": "code",
   "execution_count": 29,
   "metadata": {},
   "outputs": [],
   "source": [
    "#taking the coloumns with high feature importance\n",
    "df_3 = df_hy[['thal','ca','exang','oldpeak','age','thalach','trestbps','target']]"
   ]
  },
  {
   "cell_type": "code",
   "execution_count": 30,
   "metadata": {},
   "outputs": [
    {
     "data": {
      "text/plain": [
       "(303, 8)"
      ]
     },
     "execution_count": 30,
     "metadata": {},
     "output_type": "execute_result"
    }
   ],
   "source": [
    "df_3.shape"
   ]
  },
  {
   "cell_type": "code",
   "execution_count": 31,
   "metadata": {},
   "outputs": [
    {
     "name": "stdout",
     "output_type": "stream",
     "text": [
      "(303, 7)\n",
      "(303,)\n"
     ]
    }
   ],
   "source": [
    "#sales price is the value to be calculated\n",
    "x_rf_imp = df_3.drop('target', axis=1)\n",
    "y_rf_imp = df_3['target']\n",
    "print(x_rf_imp.shape)\n",
    "print(y_rf_imp.shape)"
   ]
  },
  {
   "cell_type": "code",
   "execution_count": 32,
   "metadata": {},
   "outputs": [
    {
     "name": "stdout",
     "output_type": "stream",
     "text": [
      "(303, 7)\n"
     ]
    },
    {
     "data": {
      "text/html": [
       "<div>\n",
       "<style scoped>\n",
       "    .dataframe tbody tr th:only-of-type {\n",
       "        vertical-align: middle;\n",
       "    }\n",
       "\n",
       "    .dataframe tbody tr th {\n",
       "        vertical-align: top;\n",
       "    }\n",
       "\n",
       "    .dataframe thead th {\n",
       "        text-align: right;\n",
       "    }\n",
       "</style>\n",
       "<table border=\"1\" class=\"dataframe\">\n",
       "  <thead>\n",
       "    <tr style=\"text-align: right;\">\n",
       "      <th></th>\n",
       "      <th>0</th>\n",
       "      <th>1</th>\n",
       "      <th>2</th>\n",
       "      <th>3</th>\n",
       "      <th>4</th>\n",
       "      <th>5</th>\n",
       "      <th>6</th>\n",
       "    </tr>\n",
       "  </thead>\n",
       "  <tbody>\n",
       "    <tr>\n",
       "      <th>0</th>\n",
       "      <td>-0.512922</td>\n",
       "      <td>-0.714429</td>\n",
       "      <td>-0.696631</td>\n",
       "      <td>-0.896862</td>\n",
       "      <td>-0.591847</td>\n",
       "      <td>0.583939</td>\n",
       "      <td>-0.092738</td>\n",
       "    </tr>\n",
       "    <tr>\n",
       "      <th>1</th>\n",
       "      <td>1.123029</td>\n",
       "      <td>0.265082</td>\n",
       "      <td>-0.696631</td>\n",
       "      <td>-0.034166</td>\n",
       "      <td>1.503641</td>\n",
       "      <td>0.059173</td>\n",
       "      <td>-0.778093</td>\n",
       "    </tr>\n",
       "  </tbody>\n",
       "</table>\n",
       "</div>"
      ],
      "text/plain": [
       "          0         1         2         3         4         5         6\n",
       "0 -0.512922 -0.714429 -0.696631 -0.896862 -0.591847  0.583939 -0.092738\n",
       "1  1.123029  0.265082 -0.696631 -0.034166  1.503641  0.059173 -0.778093"
      ]
     },
     "execution_count": 32,
     "metadata": {},
     "output_type": "execute_result"
    }
   ],
   "source": [
    "from sklearn import preprocessing\n",
    "scaler = preprocessing.StandardScaler().fit(x_rf_imp)\n",
    "X_sc_rf = pd.DataFrame(scaler.transform(x_rf_imp))\n",
    "print(X_sc_rf.shape)\n",
    "X_sc_rf.head(2)"
   ]
  },
  {
   "cell_type": "code",
   "execution_count": 33,
   "metadata": {},
   "outputs": [
    {
     "name": "stdout",
     "output_type": "stream",
     "text": [
      "(200, 7) (103, 7) (200,) (103,)\n"
     ]
    }
   ],
   "source": [
    "xd_trnr,xd_valr = split_df(X_sc_rf,200)\n",
    "yd_trnr,yd_valr = split_df(y_rf_imp,200)\n",
    "print(xd_trnr.shape,xd_valr.shape,yd_trnr.shape,yd_valr.shape)"
   ]
  },
  {
   "cell_type": "code",
   "execution_count": 34,
   "metadata": {},
   "outputs": [],
   "source": [
    "# Build the deep neural network\n",
    "DL_model_hy = Sequential()\n",
    "DL_model_hy.add(Dense(10, kernel_initializer=\"glorot_uniform\",input_dim=7, activation='relu'))\n",
    "DL_model_hy.add(Dense(5, kernel_initializer=\"random_normal\",activation='relu'))\n",
    "DL_model_hy.add(Dense(1, kernel_initializer=\"glorot_uniform\",activation='sigmoid'))"
   ]
  },
  {
   "cell_type": "code",
   "execution_count": 35,
   "metadata": {},
   "outputs": [],
   "source": [
    "DL_model_hy.compile(loss='binary_crossentropy', optimizer='adam', metrics=['accuracy'])"
   ]
  },
  {
   "cell_type": "code",
   "execution_count": 36,
   "metadata": {},
   "outputs": [
    {
     "name": "stdout",
     "output_type": "stream",
     "text": [
      "Epoch 1/100\n",
      "40/40 [==============================] - 0s 5ms/step - loss: 0.6839 - accuracy: 0.6017 - val_loss: 0.6765 - val_accuracy: 0.6893\n",
      "Epoch 2/100\n",
      "40/40 [==============================] - 0s 2ms/step - loss: 0.6598 - accuracy: 0.7194 - val_loss: 0.6440 - val_accuracy: 0.6990\n",
      "Epoch 3/100\n",
      "40/40 [==============================] - 0s 2ms/step - loss: 0.6421 - accuracy: 0.6535 - val_loss: 0.6087 - val_accuracy: 0.7087\n",
      "Epoch 4/100\n",
      "40/40 [==============================] - 0s 2ms/step - loss: 0.5556 - accuracy: 0.7977 - val_loss: 0.5658 - val_accuracy: 0.7379\n",
      "Epoch 5/100\n",
      "40/40 [==============================] - 0s 2ms/step - loss: 0.5505 - accuracy: 0.7699 - val_loss: 0.5336 - val_accuracy: 0.7282\n",
      "Epoch 6/100\n",
      "40/40 [==============================] - 0s 2ms/step - loss: 0.4910 - accuracy: 0.8018 - val_loss: 0.5086 - val_accuracy: 0.7379\n",
      "Epoch 7/100\n",
      "40/40 [==============================] - 0s 2ms/step - loss: 0.4905 - accuracy: 0.7778 - val_loss: 0.4951 - val_accuracy: 0.7670\n",
      "Epoch 8/100\n",
      "40/40 [==============================] - 0s 2ms/step - loss: 0.4816 - accuracy: 0.7984 - val_loss: 0.4846 - val_accuracy: 0.7670\n",
      "Epoch 9/100\n",
      "40/40 [==============================] - 0s 2ms/step - loss: 0.4238 - accuracy: 0.8086 - val_loss: 0.4784 - val_accuracy: 0.7670\n",
      "Epoch 10/100\n",
      "40/40 [==============================] - 0s 2ms/step - loss: 0.4456 - accuracy: 0.7784 - val_loss: 0.4746 - val_accuracy: 0.7670\n",
      "Epoch 11/100\n",
      "40/40 [==============================] - 0s 2ms/step - loss: 0.4017 - accuracy: 0.8432 - val_loss: 0.4746 - val_accuracy: 0.7670\n",
      "Epoch 12/100\n",
      "40/40 [==============================] - 0s 2ms/step - loss: 0.4345 - accuracy: 0.8226 - val_loss: 0.4716 - val_accuracy: 0.7670\n",
      "Epoch 13/100\n",
      "40/40 [==============================] - 0s 2ms/step - loss: 0.3435 - accuracy: 0.8505 - val_loss: 0.4711 - val_accuracy: 0.7670\n",
      "Epoch 14/100\n",
      "40/40 [==============================] - 0s 2ms/step - loss: 0.4144 - accuracy: 0.8155 - val_loss: 0.4672 - val_accuracy: 0.7573\n",
      "Epoch 15/100\n",
      "40/40 [==============================] - 0s 2ms/step - loss: 0.3854 - accuracy: 0.8060 - val_loss: 0.4668 - val_accuracy: 0.7670\n",
      "Epoch 16/100\n",
      "40/40 [==============================] - 0s 2ms/step - loss: 0.4335 - accuracy: 0.7744 - val_loss: 0.4661 - val_accuracy: 0.7670\n",
      "Epoch 17/100\n",
      "40/40 [==============================] - 0s 2ms/step - loss: 0.4411 - accuracy: 0.7820 - val_loss: 0.4643 - val_accuracy: 0.7670\n",
      "Epoch 18/100\n",
      "40/40 [==============================] - 0s 2ms/step - loss: 0.4181 - accuracy: 0.7850 - val_loss: 0.4655 - val_accuracy: 0.7670\n",
      "Epoch 19/100\n",
      "40/40 [==============================] - 0s 2ms/step - loss: 0.4700 - accuracy: 0.7643 - val_loss: 0.4625 - val_accuracy: 0.7670\n",
      "Epoch 20/100\n",
      "40/40 [==============================] - 0s 2ms/step - loss: 0.4456 - accuracy: 0.7905 - val_loss: 0.4603 - val_accuracy: 0.7670\n",
      "Epoch 21/100\n",
      "40/40 [==============================] - 0s 2ms/step - loss: 0.3956 - accuracy: 0.8327 - val_loss: 0.4625 - val_accuracy: 0.7670\n",
      "Epoch 22/100\n",
      "40/40 [==============================] - 0s 2ms/step - loss: 0.3884 - accuracy: 0.8326 - val_loss: 0.4631 - val_accuracy: 0.7670\n",
      "Epoch 23/100\n",
      "40/40 [==============================] - 0s 2ms/step - loss: 0.3905 - accuracy: 0.7877 - val_loss: 0.4619 - val_accuracy: 0.7670\n",
      "Epoch 24/100\n",
      "40/40 [==============================] - 0s 2ms/step - loss: 0.3575 - accuracy: 0.8290 - val_loss: 0.4591 - val_accuracy: 0.7670\n",
      "Epoch 25/100\n",
      "40/40 [==============================] - 0s 2ms/step - loss: 0.3488 - accuracy: 0.8462 - val_loss: 0.4617 - val_accuracy: 0.7670\n",
      "Epoch 26/100\n",
      "40/40 [==============================] - 0s 2ms/step - loss: 0.3617 - accuracy: 0.8398 - val_loss: 0.4585 - val_accuracy: 0.7767\n",
      "Epoch 27/100\n",
      "40/40 [==============================] - 0s 2ms/step - loss: 0.4018 - accuracy: 0.8330 - val_loss: 0.4614 - val_accuracy: 0.7670\n",
      "Epoch 28/100\n",
      "40/40 [==============================] - 0s 2ms/step - loss: 0.3751 - accuracy: 0.8142 - val_loss: 0.4585 - val_accuracy: 0.7670\n",
      "Epoch 29/100\n",
      "40/40 [==============================] - 0s 2ms/step - loss: 0.4042 - accuracy: 0.8140 - val_loss: 0.4578 - val_accuracy: 0.7767\n",
      "Epoch 30/100\n",
      "40/40 [==============================] - 0s 2ms/step - loss: 0.4485 - accuracy: 0.7742 - val_loss: 0.4576 - val_accuracy: 0.7767\n",
      "Epoch 31/100\n",
      "40/40 [==============================] - 0s 2ms/step - loss: 0.3549 - accuracy: 0.8124 - val_loss: 0.4598 - val_accuracy: 0.7767\n",
      "Epoch 32/100\n",
      "40/40 [==============================] - 0s 2ms/step - loss: 0.4376 - accuracy: 0.7727 - val_loss: 0.4600 - val_accuracy: 0.7767\n",
      "Epoch 33/100\n",
      "40/40 [==============================] - 0s 4ms/step - loss: 0.3847 - accuracy: 0.8413 - val_loss: 0.4587 - val_accuracy: 0.7767\n",
      "Epoch 34/100\n",
      "40/40 [==============================] - 0s 2ms/step - loss: 0.3914 - accuracy: 0.8191 - val_loss: 0.4599 - val_accuracy: 0.7767\n",
      "Epoch 35/100\n",
      "40/40 [==============================] - 0s 2ms/step - loss: 0.3941 - accuracy: 0.8075 - val_loss: 0.4578 - val_accuracy: 0.7767\n",
      "Epoch 36/100\n",
      "40/40 [==============================] - 0s 2ms/step - loss: 0.3956 - accuracy: 0.8108 - val_loss: 0.4588 - val_accuracy: 0.7767\n",
      "Epoch 37/100\n",
      "40/40 [==============================] - 0s 2ms/step - loss: 0.4154 - accuracy: 0.8018 - val_loss: 0.4591 - val_accuracy: 0.7767\n",
      "Epoch 38/100\n",
      "40/40 [==============================] - 0s 3ms/step - loss: 0.3862 - accuracy: 0.8114 - val_loss: 0.4596 - val_accuracy: 0.7767\n",
      "Epoch 39/100\n",
      "40/40 [==============================] - 0s 3ms/step - loss: 0.4155 - accuracy: 0.8139 - val_loss: 0.4588 - val_accuracy: 0.7767\n",
      "Epoch 40/100\n",
      "40/40 [==============================] - 0s 2ms/step - loss: 0.3961 - accuracy: 0.7808 - val_loss: 0.4599 - val_accuracy: 0.7767\n",
      "Epoch 41/100\n",
      "40/40 [==============================] - 0s 2ms/step - loss: 0.4447 - accuracy: 0.7924 - val_loss: 0.4577 - val_accuracy: 0.7767\n",
      "Epoch 42/100\n",
      "40/40 [==============================] - 0s 2ms/step - loss: 0.3970 - accuracy: 0.8127 - val_loss: 0.4579 - val_accuracy: 0.7767\n",
      "Epoch 43/100\n",
      "40/40 [==============================] - 0s 3ms/step - loss: 0.4486 - accuracy: 0.7534 - val_loss: 0.4579 - val_accuracy: 0.7767\n",
      "Epoch 44/100\n",
      "40/40 [==============================] - 0s 3ms/step - loss: 0.3780 - accuracy: 0.7987 - val_loss: 0.4629 - val_accuracy: 0.7767\n",
      "Epoch 45/100\n",
      "40/40 [==============================] - 0s 2ms/step - loss: 0.3362 - accuracy: 0.8589 - val_loss: 0.4585 - val_accuracy: 0.7767\n",
      "Epoch 46/100\n",
      "40/40 [==============================] - 0s 3ms/step - loss: 0.4421 - accuracy: 0.7886 - val_loss: 0.4582 - val_accuracy: 0.7767\n",
      "Epoch 47/100\n",
      "40/40 [==============================] - 0s 3ms/step - loss: 0.3959 - accuracy: 0.8226 - val_loss: 0.4589 - val_accuracy: 0.7767\n",
      "Epoch 48/100\n",
      "40/40 [==============================] - 0s 3ms/step - loss: 0.3631 - accuracy: 0.8440 - val_loss: 0.4571 - val_accuracy: 0.7767\n",
      "Epoch 49/100\n",
      "40/40 [==============================] - 0s 2ms/step - loss: 0.3199 - accuracy: 0.8362 - val_loss: 0.4595 - val_accuracy: 0.7767\n",
      "Epoch 50/100\n",
      "40/40 [==============================] - 0s 2ms/step - loss: 0.3392 - accuracy: 0.8322 - val_loss: 0.4627 - val_accuracy: 0.7864\n",
      "Epoch 51/100\n",
      "40/40 [==============================] - 0s 2ms/step - loss: 0.3418 - accuracy: 0.8585 - val_loss: 0.4609 - val_accuracy: 0.7767\n",
      "Epoch 52/100\n",
      "40/40 [==============================] - 0s 3ms/step - loss: 0.3383 - accuracy: 0.8348 - val_loss: 0.4582 - val_accuracy: 0.7767\n",
      "Epoch 53/100\n",
      "40/40 [==============================] - 0s 2ms/step - loss: 0.4354 - accuracy: 0.7753 - val_loss: 0.4556 - val_accuracy: 0.7767\n",
      "Epoch 54/100\n",
      "40/40 [==============================] - 0s 2ms/step - loss: 0.3138 - accuracy: 0.8697 - val_loss: 0.4624 - val_accuracy: 0.7767\n",
      "Epoch 55/100\n",
      "40/40 [==============================] - 0s 2ms/step - loss: 0.3827 - accuracy: 0.8146 - val_loss: 0.4604 - val_accuracy: 0.7767\n",
      "Epoch 56/100\n",
      "40/40 [==============================] - 0s 2ms/step - loss: 0.3665 - accuracy: 0.8431 - val_loss: 0.4571 - val_accuracy: 0.7864\n",
      "Epoch 57/100\n",
      "40/40 [==============================] - 0s 2ms/step - loss: 0.3809 - accuracy: 0.8382 - val_loss: 0.4580 - val_accuracy: 0.7864\n",
      "Epoch 58/100\n",
      "40/40 [==============================] - 0s 2ms/step - loss: 0.3876 - accuracy: 0.8379 - val_loss: 0.4565 - val_accuracy: 0.7864\n"
     ]
    },
    {
     "name": "stdout",
     "output_type": "stream",
     "text": [
      "Epoch 59/100\n",
      "40/40 [==============================] - 0s 2ms/step - loss: 0.3600 - accuracy: 0.8158 - val_loss: 0.4599 - val_accuracy: 0.7864\n",
      "Epoch 60/100\n",
      "40/40 [==============================] - 0s 2ms/step - loss: 0.3930 - accuracy: 0.8046 - val_loss: 0.4571 - val_accuracy: 0.7864\n",
      "Epoch 61/100\n",
      "40/40 [==============================] - 0s 2ms/step - loss: 0.4062 - accuracy: 0.8294 - val_loss: 0.4549 - val_accuracy: 0.7961\n",
      "Epoch 62/100\n",
      "40/40 [==============================] - 0s 2ms/step - loss: 0.3935 - accuracy: 0.8276 - val_loss: 0.4578 - val_accuracy: 0.7864\n",
      "Epoch 63/100\n",
      "40/40 [==============================] - 0s 2ms/step - loss: 0.3278 - accuracy: 0.8706 - val_loss: 0.4558 - val_accuracy: 0.7864\n",
      "Epoch 64/100\n",
      "40/40 [==============================] - 0s 2ms/step - loss: 0.3883 - accuracy: 0.8189 - val_loss: 0.4545 - val_accuracy: 0.7961\n",
      "Epoch 65/100\n",
      "40/40 [==============================] - 0s 2ms/step - loss: 0.3766 - accuracy: 0.8058 - val_loss: 0.4555 - val_accuracy: 0.7864\n",
      "Epoch 66/100\n",
      "40/40 [==============================] - 0s 2ms/step - loss: 0.2862 - accuracy: 0.8720 - val_loss: 0.4553 - val_accuracy: 0.7864\n",
      "Epoch 67/100\n",
      "40/40 [==============================] - 0s 2ms/step - loss: 0.3100 - accuracy: 0.8636 - val_loss: 0.4551 - val_accuracy: 0.7864\n",
      "Epoch 68/100\n",
      "40/40 [==============================] - 0s 2ms/step - loss: 0.3215 - accuracy: 0.8526 - val_loss: 0.4568 - val_accuracy: 0.7864\n",
      "Epoch 69/100\n",
      "40/40 [==============================] - 0s 3ms/step - loss: 0.3769 - accuracy: 0.8195 - val_loss: 0.4525 - val_accuracy: 0.7961\n",
      "Epoch 70/100\n",
      "40/40 [==============================] - 0s 3ms/step - loss: 0.3298 - accuracy: 0.8435 - val_loss: 0.4551 - val_accuracy: 0.7864\n",
      "Epoch 71/100\n",
      "40/40 [==============================] - 0s 2ms/step - loss: 0.3923 - accuracy: 0.8049 - val_loss: 0.4516 - val_accuracy: 0.7961\n",
      "Epoch 72/100\n",
      "40/40 [==============================] - 0s 2ms/step - loss: 0.3341 - accuracy: 0.8349 - val_loss: 0.4522 - val_accuracy: 0.7864\n",
      "Epoch 73/100\n",
      "40/40 [==============================] - 0s 2ms/step - loss: 0.3395 - accuracy: 0.8160 - val_loss: 0.4548 - val_accuracy: 0.7864\n",
      "Epoch 74/100\n",
      "40/40 [==============================] - 0s 2ms/step - loss: 0.3219 - accuracy: 0.8597 - val_loss: 0.4520 - val_accuracy: 0.7767\n",
      "Epoch 75/100\n",
      "40/40 [==============================] - 0s 3ms/step - loss: 0.3249 - accuracy: 0.8525 - val_loss: 0.4502 - val_accuracy: 0.8058\n",
      "Epoch 76/100\n",
      "40/40 [==============================] - 0s 3ms/step - loss: 0.3153 - accuracy: 0.8761 - val_loss: 0.4513 - val_accuracy: 0.7961\n",
      "Epoch 77/100\n",
      "40/40 [==============================] - 0s 3ms/step - loss: 0.3137 - accuracy: 0.8789 - val_loss: 0.4542 - val_accuracy: 0.7864\n",
      "Epoch 78/100\n",
      "40/40 [==============================] - 0s 2ms/step - loss: 0.3354 - accuracy: 0.8134 - val_loss: 0.4529 - val_accuracy: 0.7767\n",
      "Epoch 79/100\n",
      "40/40 [==============================] - 0s 2ms/step - loss: 0.3650 - accuracy: 0.7883 - val_loss: 0.4510 - val_accuracy: 0.7961\n",
      "Epoch 80/100\n",
      "40/40 [==============================] - 0s 2ms/step - loss: 0.3424 - accuracy: 0.8382 - val_loss: 0.4536 - val_accuracy: 0.7864\n",
      "Epoch 81/100\n",
      "40/40 [==============================] - 0s 3ms/step - loss: 0.3178 - accuracy: 0.8633 - val_loss: 0.4482 - val_accuracy: 0.8058\n",
      "Epoch 82/100\n",
      "40/40 [==============================] - 0s 3ms/step - loss: 0.3018 - accuracy: 0.8482 - val_loss: 0.4544 - val_accuracy: 0.7961\n",
      "Epoch 83/100\n",
      "40/40 [==============================] - 0s 3ms/step - loss: 0.3566 - accuracy: 0.8068 - val_loss: 0.4562 - val_accuracy: 0.7767\n",
      "Epoch 84/100\n",
      "40/40 [==============================] - 0s 2ms/step - loss: 0.3327 - accuracy: 0.8735 - val_loss: 0.4545 - val_accuracy: 0.7767\n",
      "Epoch 85/100\n",
      "40/40 [==============================] - 0s 2ms/step - loss: 0.3234 - accuracy: 0.8478 - val_loss: 0.4545 - val_accuracy: 0.7767\n",
      "Epoch 86/100\n",
      "40/40 [==============================] - 0s 2ms/step - loss: 0.3224 - accuracy: 0.8804 - val_loss: 0.4513 - val_accuracy: 0.7961\n",
      "Epoch 87/100\n",
      "40/40 [==============================] - 0s 5ms/step - loss: 0.3121 - accuracy: 0.8480 - val_loss: 0.4538 - val_accuracy: 0.7864\n",
      "Epoch 88/100\n",
      "40/40 [==============================] - 0s 3ms/step - loss: 0.2847 - accuracy: 0.8838 - val_loss: 0.4556 - val_accuracy: 0.7864\n",
      "Epoch 89/100\n",
      "40/40 [==============================] - 0s 3ms/step - loss: 0.3532 - accuracy: 0.8262 - val_loss: 0.4549 - val_accuracy: 0.7767\n",
      "Epoch 90/100\n",
      "40/40 [==============================] - 0s 3ms/step - loss: 0.2740 - accuracy: 0.8932 - val_loss: 0.4567 - val_accuracy: 0.7670\n",
      "Epoch 91/100\n",
      "40/40 [==============================] - 0s 3ms/step - loss: 0.3445 - accuracy: 0.8231 - val_loss: 0.4574 - val_accuracy: 0.7670\n",
      "Epoch 92/100\n",
      "40/40 [==============================] - 0s 3ms/step - loss: 0.3067 - accuracy: 0.8571 - val_loss: 0.4570 - val_accuracy: 0.7864\n",
      "Epoch 93/100\n",
      "40/40 [==============================] - 0s 2ms/step - loss: 0.2934 - accuracy: 0.8615 - val_loss: 0.4575 - val_accuracy: 0.7961\n",
      "Epoch 94/100\n",
      "40/40 [==============================] - 0s 2ms/step - loss: 0.2912 - accuracy: 0.8778 - val_loss: 0.4556 - val_accuracy: 0.7864\n",
      "Epoch 95/100\n",
      "40/40 [==============================] - 0s 2ms/step - loss: 0.3507 - accuracy: 0.8652 - val_loss: 0.4588 - val_accuracy: 0.7767\n",
      "Epoch 96/100\n",
      "40/40 [==============================] - 0s 2ms/step - loss: 0.3309 - accuracy: 0.8512 - val_loss: 0.4562 - val_accuracy: 0.7961\n",
      "Epoch 97/100\n",
      "40/40 [==============================] - 0s 3ms/step - loss: 0.3018 - accuracy: 0.8825 - val_loss: 0.4556 - val_accuracy: 0.7961\n",
      "Epoch 98/100\n",
      "40/40 [==============================] - 0s 3ms/step - loss: 0.3236 - accuracy: 0.8376 - val_loss: 0.4579 - val_accuracy: 0.7961\n",
      "Epoch 99/100\n",
      "40/40 [==============================] - 0s 3ms/step - loss: 0.2870 - accuracy: 0.8683 - val_loss: 0.4582 - val_accuracy: 0.7961\n",
      "Epoch 100/100\n",
      "40/40 [==============================] - 0s 2ms/step - loss: 0.3213 - accuracy: 0.8982 - val_loss: 0.4571 - val_accuracy: 0.7864\n"
     ]
    }
   ],
   "source": [
    "DL_model_hybrid= DL_model_hy.fit(xd_trnr, yd_trnr, validation_data=(xd_valr, yd_valr), epochs=100, batch_size=5)"
   ]
  },
  {
   "cell_type": "code",
   "execution_count": 37,
   "metadata": {},
   "outputs": [
    {
     "data": {
      "image/png": "[encoded data removed]",
      "text/plain": [
       "<Figure size 432x288 with 1 Axes>"
      ]
     },
     "metadata": {
      "needs_background": "light"
     },
     "output_type": "display_data"
    }
   ],
   "source": [
    "import matplotlib.pyplot as plt\n",
    "# Get training and test loss histories\n",
    "training_loss = DL_model_hybrid.history['loss']\n",
    "test_loss = DL_model_hybrid.history['val_loss']\n",
    "\n",
    "# Create count of the number of epochs\n",
    "epoch_count = range(1, len(training_loss) + 1)\n",
    "\n",
    "# Visualize loss history\n",
    "plt.plot(epoch_count, training_loss, 'g--')\n",
    "plt.plot(epoch_count, test_loss, 'y-')\n",
    "plt.legend(['Train data Loss', 'Valid data Loss'])\n",
    "plt.xlabel('Epoch')\n",
    "plt.ylabel('Loss')\n",
    "plt.show();"
   ]
  },
  {
   "cell_type": "code",
   "execution_count": 38,
   "metadata": {},
   "outputs": [
    {
     "data": {
      "image/png": "[encoded data removed]",
      "text/plain": [
       "<Figure size 432x288 with 1 Axes>"
      ]
     },
     "metadata": {
      "needs_background": "light"
     },
     "output_type": "display_data"
    }
   ],
   "source": [
    "# Get training and test loss histories\n",
    "training_loss = DL_model_hybrid.history['accuracy']\n",
    "test_loss = DL_model_hybrid.history['val_accuracy']\n",
    "\n",
    "# Create count of the number of epochs\n",
    "epoch_count = range(1, len(training_loss) + 1)\n",
    "\n",
    "# Visualize loss history\n",
    "plt.plot(epoch_count, training_loss, 'g--')\n",
    "plt.plot(epoch_count, test_loss, 'y-')\n",
    "plt.legend(['Training Accuracy', 'Valid Accuracy'])\n",
    "plt.xlabel('Epoch')\n",
    "plt.ylabel('Accuracy')\n",
    "plt.show();"
   ]
  },
  {
   "cell_type": "code",
   "execution_count": 39,
   "metadata": {},
   "outputs": [
    {
     "name": "stdout",
     "output_type": "stream",
     "text": [
      "4/4 [==============================] - 0s 1ms/step - loss: 0.4571 - accuracy: 0.7864\n",
      "Accuracy: 78.64%\n"
     ]
    }
   ],
   "source": [
    "# Evaluate the model\n",
    "scores = DL_model_hy.evaluate(xd_valr, yd_valr)\n",
    "print (\"Accuracy: %.2f%%\" %(scores[1]*100))"
   ]
  },
  {
   "cell_type": "markdown",
   "metadata": {},
   "source": [
    "Accuracy scores\n",
    "1. Train a RF model: 0.815\n",
    "2. Train a DNN model: 86.41%\n",
    "3. Hybrid DNN and RF moddel: 81.55%\n",
    "    \n",
    "So as per the performance metrics DNN model has the highest accuracy score for the Health care: Data set on Heart attack possibility dataset. By using the feature importance acquired from the RF model I was able to get the coloumns with high importance and use only those coloumns for training the DNN model.\n",
    "\n",
    "Please describe at least to ways of ensembling together DNNs and RFs.\n",
    "Stacking and Bagging ensembling techniques are the most effective techniques which can be used for ensembling DNN and RF model."
   ]
  }
 ],
 "metadata": {
  "kernelspec": {
   "display_name": "Python 3",
   "language": "python",
   "name": "python3"
  },
  "language_info": {
   "codemirror_mode": {
    "name": "ipython",
    "version": 3
   },
   "file_extension": ".py",
   "mimetype": "text/x-python",
   "name": "python",
   "nbconvert_exporter": "python",
   "pygments_lexer": "ipython3",
   "version": "3.6.13"
  }
 },
 "nbformat": 4,
 "nbformat_minor": 4
}

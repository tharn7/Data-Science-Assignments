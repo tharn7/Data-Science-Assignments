{
 "cells": [
  {
   "cell_type": "markdown",
   "metadata": {},
   "source": [
    "1. Understand the problem and read in the data\n",
    "2. Pre-process data, train-test split\n",
    "3. Build and compile a deep learning model"
   ]
  },
  {
   "cell_type": "markdown",
   "metadata": {},
   "source": [
    "# Understand the problem and read in the data"
   ]
  },
  {
   "cell_type": "markdown",
   "metadata": {},
   "source": [
    "This Kaggle challenge is about predicting the onset of diabetes in 5 years or less. \n",
    "Target variable is Outcome. 1 = yes, the person became diabetic in 5 years, and 0 = No, \n",
    "the person did not. This is a binary classification problem. Please check out the Kaggle\n",
    "link here to see feature \n",
    "details - https://www.kaggle.com/uciml/pima-indians-diabetes-database/data"
   ]
  },
  {
   "cell_type": "code",
   "execution_count": 35,
   "metadata": {},
   "outputs": [],
   "source": [
    "'''Import necessary packages'''\n",
    "from keras.models import Sequential\n",
    "from keras.layers import Dense\n",
    "from sklearn.model_selection import train_test_split\n",
    "import seaborn as sns\n",
    "import numpy as np\n",
    "import pandas as pd\n",
    "\n",
    "%matplotlib inline"
   ]
  },
  {
   "cell_type": "code",
   "execution_count": 36,
   "metadata": {},
   "outputs": [
    {
     "data": {
      "text/plain": [
       "'D:\\\\Information system\\\\Sem 1\\\\Info 6105\\\\Assignment 3'"
      ]
     },
     "execution_count": 36,
     "metadata": {},
     "output_type": "execute_result"
    }
   ],
   "source": [
    "%pwd"
   ]
  },
  {
   "cell_type": "code",
   "execution_count": 37,
   "metadata": {},
   "outputs": [
    {
     "name": "stdout",
     "output_type": "stream",
     "text": [
      "001585510_Tharoon Kumar Viswanathan_Assignment3_1.ipynb\n",
      "001585510_TharoonKumarViswanathan_Assignment2_4.ipynb\n",
      "001585510_TharoonKumarViswanathan_Assignment3_2.ipynb\n",
      "DNN for Classification (1).ipynb\n",
      "Module VII classification.ipynb\n",
      "Module VII regression.ipynb\n",
      "Module_III_code.ipynb\n",
      "diabetes.csv\n",
      "heart.csv\n",
      "pima-indians-diabetes(2).data\n",
      "train.csv\n"
     ]
    }
   ],
   "source": [
    "!ls"
   ]
  },
  {
   "cell_type": "code",
   "execution_count": 38,
   "metadata": {},
   "outputs": [],
   "source": [
    "path = 'D:\\\\Information system\\\\Sem 1\\\\Info 6105\\\\Assignment 3'"
   ]
  },
  {
   "cell_type": "code",
   "execution_count": 39,
   "metadata": {},
   "outputs": [
    {
     "name": "stdout",
     "output_type": "stream",
     "text": [
      "(768, 9)\n"
     ]
    },
    {
     "data": {
      "text/html": [
       "<div>\n",
       "<style scoped>\n",
       "    .dataframe tbody tr th:only-of-type {\n",
       "        vertical-align: middle;\n",
       "    }\n",
       "\n",
       "    .dataframe tbody tr th {\n",
       "        vertical-align: top;\n",
       "    }\n",
       "\n",
       "    .dataframe thead th {\n",
       "        text-align: right;\n",
       "    }\n",
       "</style>\n",
       "<table border=\"1\" class=\"dataframe\">\n",
       "  <thead>\n",
       "    <tr style=\"text-align: right;\">\n",
       "      <th></th>\n",
       "      <th>0</th>\n",
       "      <th>1</th>\n",
       "      <th>2</th>\n",
       "      <th>3</th>\n",
       "      <th>4</th>\n",
       "      <th>5</th>\n",
       "      <th>6</th>\n",
       "      <th>7</th>\n",
       "      <th>8</th>\n",
       "    </tr>\n",
       "  </thead>\n",
       "  <tbody>\n",
       "    <tr>\n",
       "      <th>0</th>\n",
       "      <td>6</td>\n",
       "      <td>148</td>\n",
       "      <td>72</td>\n",
       "      <td>35</td>\n",
       "      <td>0</td>\n",
       "      <td>33.6</td>\n",
       "      <td>0.627</td>\n",
       "      <td>50</td>\n",
       "      <td>1</td>\n",
       "    </tr>\n",
       "    <tr>\n",
       "      <th>1</th>\n",
       "      <td>1</td>\n",
       "      <td>85</td>\n",
       "      <td>66</td>\n",
       "      <td>29</td>\n",
       "      <td>0</td>\n",
       "      <td>26.6</td>\n",
       "      <td>0.351</td>\n",
       "      <td>31</td>\n",
       "      <td>0</td>\n",
       "    </tr>\n",
       "  </tbody>\n",
       "</table>\n",
       "</div>"
      ],
      "text/plain": [
       "   0    1   2   3  4     5      6   7  8\n",
       "0  6  148  72  35  0  33.6  0.627  50  1\n",
       "1  1   85  66  29  0  26.6  0.351  31  0"
      ]
     },
     "execution_count": 39,
     "metadata": {},
     "output_type": "execute_result"
    }
   ],
   "source": [
    "df = pd.read_csv(f'{path}\\\\pima-indians-diabetes(2).data',header = None)\n",
    "print(df.shape)\n",
    "df.head(2)"
   ]
  },
  {
   "cell_type": "markdown",
   "metadata": {},
   "source": [
    "# Pre-process data, train-test split"
   ]
  },
  {
   "cell_type": "code",
   "execution_count": 40,
   "metadata": {},
   "outputs": [],
   "source": [
    "#Separate out X and Y\n",
    "\n",
    "X = df.iloc[:, :8]\n",
    "Y = df.iloc[:, 8:9]"
   ]
  },
  {
   "cell_type": "markdown",
   "metadata": {},
   "source": [
    "# pre-process the data by scaling/standardizing the 8 columns"
   ]
  },
  {
   "cell_type": "code",
   "execution_count": 41,
   "metadata": {},
   "outputs": [
    {
     "name": "stdout",
     "output_type": "stream",
     "text": [
      "(768, 8)\n"
     ]
    },
    {
     "data": {
      "text/html": [
       "<div>\n",
       "<style scoped>\n",
       "    .dataframe tbody tr th:only-of-type {\n",
       "        vertical-align: middle;\n",
       "    }\n",
       "\n",
       "    .dataframe tbody tr th {\n",
       "        vertical-align: top;\n",
       "    }\n",
       "\n",
       "    .dataframe thead th {\n",
       "        text-align: right;\n",
       "    }\n",
       "</style>\n",
       "<table border=\"1\" class=\"dataframe\">\n",
       "  <thead>\n",
       "    <tr style=\"text-align: right;\">\n",
       "      <th></th>\n",
       "      <th>0</th>\n",
       "      <th>1</th>\n",
       "      <th>2</th>\n",
       "      <th>3</th>\n",
       "      <th>4</th>\n",
       "      <th>5</th>\n",
       "      <th>6</th>\n",
       "      <th>7</th>\n",
       "    </tr>\n",
       "  </thead>\n",
       "  <tbody>\n",
       "    <tr>\n",
       "      <th>0</th>\n",
       "      <td>0.639947</td>\n",
       "      <td>0.848324</td>\n",
       "      <td>0.149641</td>\n",
       "      <td>0.907270</td>\n",
       "      <td>-0.692891</td>\n",
       "      <td>0.204013</td>\n",
       "      <td>0.468492</td>\n",
       "      <td>1.425995</td>\n",
       "    </tr>\n",
       "    <tr>\n",
       "      <th>1</th>\n",
       "      <td>-0.844885</td>\n",
       "      <td>-1.123396</td>\n",
       "      <td>-0.160546</td>\n",
       "      <td>0.530902</td>\n",
       "      <td>-0.692891</td>\n",
       "      <td>-0.684422</td>\n",
       "      <td>-0.365061</td>\n",
       "      <td>-0.190672</td>\n",
       "    </tr>\n",
       "  </tbody>\n",
       "</table>\n",
       "</div>"
      ],
      "text/plain": [
       "          0         1         2         3         4         5         6  \\\n",
       "0  0.639947  0.848324  0.149641  0.907270 -0.692891  0.204013  0.468492   \n",
       "1 -0.844885 -1.123396 -0.160546  0.530902 -0.692891 -0.684422 -0.365061   \n",
       "\n",
       "          7  \n",
       "0  1.425995  \n",
       "1 -0.190672  "
      ]
     },
     "execution_count": 41,
     "metadata": {},
     "output_type": "execute_result"
    }
   ],
   "source": [
    "from sklearn import preprocessing\n",
    "scaler = preprocessing.StandardScaler().fit(X)\n",
    "X_sc = pd.DataFrame(scaler.transform(X))\n",
    "print(X_sc.shape)\n",
    "X_sc.head(2)"
   ]
  },
  {
   "cell_type": "markdown",
   "metadata": {},
   "source": [
    "# Split Dataset into 1.Train, 2.Valid and 3.Test"
   ]
  },
  {
   "cell_type": "code",
   "execution_count": 42,
   "metadata": {},
   "outputs": [
    {
     "name": "stdout",
     "output_type": "stream",
     "text": [
      "(437, 8) (331, 8) (437, 1) (331, 1)\n"
     ]
    }
   ],
   "source": [
    "# Train- Test Split\n",
    "(X_train, X_test, Y_train, Y_test) = train_test_split(X_sc, Y, test_size=0.43, random_state=1)\n",
    "print(X_train.shape,X_test.shape,Y_train.shape,Y_test.shape)"
   ]
  },
  {
   "cell_type": "code",
   "execution_count": 43,
   "metadata": {},
   "outputs": [
    {
     "name": "stdout",
     "output_type": "stream",
     "text": [
      "(331, 8) (331, 1)\n"
     ]
    }
   ],
   "source": [
    "print(X_test.shape,Y_test.shape)"
   ]
  },
  {
   "cell_type": "code",
   "execution_count": 44,
   "metadata": {},
   "outputs": [
    {
     "name": "stdout",
     "output_type": "stream",
     "text": [
      "(165, 8) (166, 8) (165, 1) (166, 1)\n"
     ]
    }
   ],
   "source": [
    "(X_valid,X_Test,Y_valid,Y_Test) = train_test_split(X_test, Y_test, test_size=0.50, random_state=1)\n",
    "print(X_valid.shape,X_Test.shape,Y_valid.shape,Y_Test.shape)"
   ]
  },
  {
   "cell_type": "markdown",
   "metadata": {},
   "source": [
    "# Build and compile a deep learning model"
   ]
  },
  {
   "cell_type": "code",
   "execution_count": 45,
   "metadata": {},
   "outputs": [],
   "source": [
    "# Build the deep neural network\n",
    "model = Sequential()\n",
    "model.add(Dense(10, kernel_initializer=\"glorot_uniform\",input_dim=8, activation='relu'))\n",
    "model.add(Dense(8, kernel_initializer=\"glorot_uniform\",activation='relu'))\n",
    "model.add(Dense(1, kernel_initializer=\"glorot_uniform\",activation='sigmoid'))"
   ]
  },
  {
   "cell_type": "code",
   "execution_count": 46,
   "metadata": {},
   "outputs": [],
   "source": [
    "# Compile the DNN\n",
    "\n",
    "model.compile(loss='binary_crossentropy', optimizer='adam', metrics=['accuracy'])"
   ]
  },
  {
   "cell_type": "code",
   "execution_count": 47,
   "metadata": {},
   "outputs": [
    {
     "name": "stdout",
     "output_type": "stream",
     "text": [
      "Epoch 1/100\n",
      "88/88 [==============================] - 1s 3ms/step - loss: 0.6680 - accuracy: 0.6237 - val_loss: 0.6350 - val_accuracy: 0.6364\n",
      "Epoch 2/100\n",
      "88/88 [==============================] - 0s 2ms/step - loss: 0.5713 - accuracy: 0.7516 - val_loss: 0.5917 - val_accuracy: 0.6485\n",
      "Epoch 3/100\n",
      "88/88 [==============================] - 0s 2ms/step - loss: 0.5327 - accuracy: 0.7351 - val_loss: 0.5675 - val_accuracy: 0.6727\n",
      "Epoch 4/100\n",
      "88/88 [==============================] - 0s 2ms/step - loss: 0.5270 - accuracy: 0.7325 - val_loss: 0.5492 - val_accuracy: 0.7212\n",
      "Epoch 5/100\n",
      "88/88 [==============================] - 0s 2ms/step - loss: 0.4867 - accuracy: 0.7612 - val_loss: 0.5371 - val_accuracy: 0.7455\n",
      "Epoch 6/100\n",
      "88/88 [==============================] - 0s 2ms/step - loss: 0.4404 - accuracy: 0.7916 - val_loss: 0.5262 - val_accuracy: 0.7636\n",
      "Epoch 7/100\n",
      "88/88 [==============================] - 0s 2ms/step - loss: 0.5003 - accuracy: 0.7384 - val_loss: 0.5210 - val_accuracy: 0.7818\n",
      "Epoch 8/100\n",
      "88/88 [==============================] - 0s 2ms/step - loss: 0.4510 - accuracy: 0.7860 - val_loss: 0.5180 - val_accuracy: 0.7818\n",
      "Epoch 9/100\n",
      "88/88 [==============================] - 0s 2ms/step - loss: 0.4276 - accuracy: 0.8096 - val_loss: 0.5140 - val_accuracy: 0.7818\n",
      "Epoch 10/100\n",
      "88/88 [==============================] - 0s 2ms/step - loss: 0.4757 - accuracy: 0.7717 - val_loss: 0.5199 - val_accuracy: 0.7576\n",
      "Epoch 11/100\n",
      "88/88 [==============================] - 0s 2ms/step - loss: 0.4580 - accuracy: 0.7789 - val_loss: 0.5158 - val_accuracy: 0.7636\n",
      "Epoch 12/100\n",
      "88/88 [==============================] - 0s 2ms/step - loss: 0.5014 - accuracy: 0.7445 - val_loss: 0.5190 - val_accuracy: 0.7636\n",
      "Epoch 13/100\n",
      "88/88 [==============================] - 0s 2ms/step - loss: 0.4392 - accuracy: 0.7903 - val_loss: 0.5151 - val_accuracy: 0.7697\n",
      "Epoch 14/100\n",
      "88/88 [==============================] - 0s 2ms/step - loss: 0.4497 - accuracy: 0.7474 - val_loss: 0.5167 - val_accuracy: 0.7697\n",
      "Epoch 15/100\n",
      "88/88 [==============================] - 0s 2ms/step - loss: 0.4812 - accuracy: 0.7725 - val_loss: 0.5174 - val_accuracy: 0.7697\n",
      "Epoch 16/100\n",
      "88/88 [==============================] - 0s 2ms/step - loss: 0.4673 - accuracy: 0.7552 - val_loss: 0.5208 - val_accuracy: 0.7758\n",
      "Epoch 17/100\n",
      "88/88 [==============================] - 0s 2ms/step - loss: 0.4517 - accuracy: 0.7941 - val_loss: 0.5204 - val_accuracy: 0.7758\n",
      "Epoch 18/100\n",
      "88/88 [==============================] - 0s 2ms/step - loss: 0.4188 - accuracy: 0.7933 - val_loss: 0.5186 - val_accuracy: 0.7818\n",
      "Epoch 19/100\n",
      "88/88 [==============================] - 0s 2ms/step - loss: 0.4109 - accuracy: 0.8028 - val_loss: 0.5223 - val_accuracy: 0.7818\n",
      "Epoch 20/100\n",
      "88/88 [==============================] - 0s 1ms/step - loss: 0.4074 - accuracy: 0.8144 - val_loss: 0.5197 - val_accuracy: 0.7758\n",
      "Epoch 21/100\n",
      "88/88 [==============================] - 0s 2ms/step - loss: 0.4021 - accuracy: 0.8023 - val_loss: 0.5178 - val_accuracy: 0.7758\n",
      "Epoch 22/100\n",
      "88/88 [==============================] - 0s 2ms/step - loss: 0.4327 - accuracy: 0.8126 - val_loss: 0.5287 - val_accuracy: 0.7636\n",
      "Epoch 23/100\n",
      "88/88 [==============================] - 0s 2ms/step - loss: 0.4528 - accuracy: 0.7720 - val_loss: 0.5218 - val_accuracy: 0.7818\n",
      "Epoch 24/100\n",
      "88/88 [==============================] - 0s 2ms/step - loss: 0.3850 - accuracy: 0.8114 - val_loss: 0.5199 - val_accuracy: 0.7636\n",
      "Epoch 25/100\n",
      "88/88 [==============================] - 0s 2ms/step - loss: 0.4424 - accuracy: 0.7739 - val_loss: 0.5219 - val_accuracy: 0.7697\n",
      "Epoch 26/100\n",
      "88/88 [==============================] - 0s 1ms/step - loss: 0.4084 - accuracy: 0.7983 - val_loss: 0.5230 - val_accuracy: 0.7697\n",
      "Epoch 27/100\n",
      "88/88 [==============================] - 0s 2ms/step - loss: 0.4254 - accuracy: 0.7811 - val_loss: 0.5273 - val_accuracy: 0.7697\n",
      "Epoch 28/100\n",
      "88/88 [==============================] - 0s 2ms/step - loss: 0.4248 - accuracy: 0.8164 - val_loss: 0.5258 - val_accuracy: 0.7697\n",
      "Epoch 29/100\n",
      "88/88 [==============================] - 0s 2ms/step - loss: 0.3896 - accuracy: 0.8010 - val_loss: 0.5245 - val_accuracy: 0.7636\n",
      "Epoch 30/100\n",
      "88/88 [==============================] - 0s 2ms/step - loss: 0.4689 - accuracy: 0.7518 - val_loss: 0.5301 - val_accuracy: 0.7758\n",
      "Epoch 31/100\n",
      "88/88 [==============================] - 0s 2ms/step - loss: 0.4028 - accuracy: 0.7974 - val_loss: 0.5254 - val_accuracy: 0.7576\n",
      "Epoch 32/100\n",
      "88/88 [==============================] - 0s 1ms/step - loss: 0.3672 - accuracy: 0.8251 - val_loss: 0.5281 - val_accuracy: 0.7515\n",
      "Epoch 33/100\n",
      "88/88 [==============================] - 0s 2ms/step - loss: 0.3909 - accuracy: 0.8202 - val_loss: 0.5241 - val_accuracy: 0.7636\n",
      "Epoch 34/100\n",
      "88/88 [==============================] - 0s 2ms/step - loss: 0.4053 - accuracy: 0.7975 - val_loss: 0.5316 - val_accuracy: 0.7515\n",
      "Epoch 35/100\n",
      "88/88 [==============================] - 0s 2ms/step - loss: 0.4392 - accuracy: 0.7761 - val_loss: 0.5286 - val_accuracy: 0.7515\n",
      "Epoch 36/100\n",
      "88/88 [==============================] - 0s 2ms/step - loss: 0.3871 - accuracy: 0.8318 - val_loss: 0.5271 - val_accuracy: 0.7576\n",
      "Epoch 37/100\n",
      "88/88 [==============================] - 0s 1ms/step - loss: 0.3984 - accuracy: 0.8148 - val_loss: 0.5284 - val_accuracy: 0.7455\n",
      "Epoch 38/100\n",
      "88/88 [==============================] - 0s 1ms/step - loss: 0.4063 - accuracy: 0.8143 - val_loss: 0.5249 - val_accuracy: 0.7636\n",
      "Epoch 39/100\n",
      "88/88 [==============================] - 0s 1ms/step - loss: 0.4271 - accuracy: 0.7730 - val_loss: 0.5285 - val_accuracy: 0.7515\n",
      "Epoch 40/100\n",
      "88/88 [==============================] - 0s 1ms/step - loss: 0.4336 - accuracy: 0.7940 - val_loss: 0.5300 - val_accuracy: 0.7576\n",
      "Epoch 41/100\n",
      "88/88 [==============================] - 0s 1ms/step - loss: 0.4430 - accuracy: 0.7904 - val_loss: 0.5349 - val_accuracy: 0.7636\n",
      "Epoch 42/100\n",
      "88/88 [==============================] - 0s 1ms/step - loss: 0.4042 - accuracy: 0.7920 - val_loss: 0.5314 - val_accuracy: 0.7515\n",
      "Epoch 43/100\n",
      "88/88 [==============================] - 0s 1ms/step - loss: 0.3879 - accuracy: 0.8148 - val_loss: 0.5294 - val_accuracy: 0.7515\n",
      "Epoch 44/100\n",
      "88/88 [==============================] - 0s 2ms/step - loss: 0.4203 - accuracy: 0.7898 - val_loss: 0.5326 - val_accuracy: 0.7697\n",
      "Epoch 45/100\n",
      "88/88 [==============================] - 0s 1ms/step - loss: 0.4093 - accuracy: 0.7955 - val_loss: 0.5310 - val_accuracy: 0.7576\n",
      "Epoch 46/100\n",
      "88/88 [==============================] - 0s 1ms/step - loss: 0.4191 - accuracy: 0.8128 - val_loss: 0.5295 - val_accuracy: 0.7515\n",
      "Epoch 47/100\n",
      "88/88 [==============================] - 0s 1ms/step - loss: 0.3763 - accuracy: 0.8409 - val_loss: 0.5344 - val_accuracy: 0.7576\n",
      "Epoch 48/100\n",
      "88/88 [==============================] - 0s 1ms/step - loss: 0.3622 - accuracy: 0.8256 - val_loss: 0.5334 - val_accuracy: 0.7515\n",
      "Epoch 49/100\n",
      "88/88 [==============================] - 0s 2ms/step - loss: 0.3806 - accuracy: 0.8138 - val_loss: 0.5289 - val_accuracy: 0.7455\n",
      "Epoch 50/100\n",
      "88/88 [==============================] - 0s 1ms/step - loss: 0.4062 - accuracy: 0.7923 - val_loss: 0.5327 - val_accuracy: 0.7455\n",
      "Epoch 51/100\n",
      "88/88 [==============================] - 0s 1ms/step - loss: 0.3881 - accuracy: 0.8183 - val_loss: 0.5347 - val_accuracy: 0.7394\n",
      "Epoch 52/100\n",
      "88/88 [==============================] - 0s 1ms/step - loss: 0.4126 - accuracy: 0.7925 - val_loss: 0.5376 - val_accuracy: 0.7515\n",
      "Epoch 53/100\n",
      "88/88 [==============================] - 0s 1ms/step - loss: 0.3928 - accuracy: 0.8053 - val_loss: 0.5415 - val_accuracy: 0.7455\n",
      "Epoch 54/100\n",
      "88/88 [==============================] - 0s 1ms/step - loss: 0.3772 - accuracy: 0.8206 - val_loss: 0.5355 - val_accuracy: 0.7455\n",
      "Epoch 55/100\n",
      "88/88 [==============================] - 0s 1ms/step - loss: 0.4232 - accuracy: 0.7867 - val_loss: 0.5352 - val_accuracy: 0.7455\n",
      "Epoch 56/100\n",
      "88/88 [==============================] - 0s 1ms/step - loss: 0.3613 - accuracy: 0.8134 - val_loss: 0.5416 - val_accuracy: 0.7394\n",
      "Epoch 57/100\n",
      "88/88 [==============================] - 0s 1ms/step - loss: 0.4065 - accuracy: 0.7955 - val_loss: 0.5377 - val_accuracy: 0.7394\n",
      "Epoch 58/100\n",
      "88/88 [==============================] - 0s 1ms/step - loss: 0.3762 - accuracy: 0.8132 - val_loss: 0.5398 - val_accuracy: 0.7455\n"
     ]
    },
    {
     "name": "stdout",
     "output_type": "stream",
     "text": [
      "Epoch 59/100\n",
      "88/88 [==============================] - 0s 1ms/step - loss: 0.3947 - accuracy: 0.8222 - val_loss: 0.5399 - val_accuracy: 0.7455\n",
      "Epoch 60/100\n",
      "88/88 [==============================] - 0s 1ms/step - loss: 0.4176 - accuracy: 0.7759 - val_loss: 0.5442 - val_accuracy: 0.7455\n",
      "Epoch 61/100\n",
      "88/88 [==============================] - 0s 1ms/step - loss: 0.4039 - accuracy: 0.8222 - val_loss: 0.5463 - val_accuracy: 0.7455\n",
      "Epoch 62/100\n",
      "88/88 [==============================] - 0s 1ms/step - loss: 0.3852 - accuracy: 0.8053 - val_loss: 0.5452 - val_accuracy: 0.7455\n",
      "Epoch 63/100\n",
      "88/88 [==============================] - 0s 1ms/step - loss: 0.4025 - accuracy: 0.8189 - val_loss: 0.5448 - val_accuracy: 0.7455\n",
      "Epoch 64/100\n",
      "88/88 [==============================] - 0s 1ms/step - loss: 0.3853 - accuracy: 0.7937 - val_loss: 0.5499 - val_accuracy: 0.7455\n",
      "Epoch 65/100\n",
      "88/88 [==============================] - 0s 1ms/step - loss: 0.3562 - accuracy: 0.8344 - val_loss: 0.5501 - val_accuracy: 0.7455\n",
      "Epoch 66/100\n",
      "88/88 [==============================] - 0s 1ms/step - loss: 0.3721 - accuracy: 0.8393 - val_loss: 0.5417 - val_accuracy: 0.7394\n",
      "Epoch 67/100\n",
      "88/88 [==============================] - 0s 1ms/step - loss: 0.3832 - accuracy: 0.8155 - val_loss: 0.5511 - val_accuracy: 0.7515\n",
      "Epoch 68/100\n",
      "88/88 [==============================] - 0s 1ms/step - loss: 0.3542 - accuracy: 0.8318 - val_loss: 0.5497 - val_accuracy: 0.7455\n",
      "Epoch 69/100\n",
      "88/88 [==============================] - 0s 1ms/step - loss: 0.4080 - accuracy: 0.8047 - val_loss: 0.5487 - val_accuracy: 0.7455\n",
      "Epoch 70/100\n",
      "88/88 [==============================] - 0s 1ms/step - loss: 0.3729 - accuracy: 0.7951 - val_loss: 0.5506 - val_accuracy: 0.7455\n",
      "Epoch 71/100\n",
      "88/88 [==============================] - 0s 1ms/step - loss: 0.3628 - accuracy: 0.8196 - val_loss: 0.5497 - val_accuracy: 0.7455\n",
      "Epoch 72/100\n",
      "88/88 [==============================] - 0s 1ms/step - loss: 0.3797 - accuracy: 0.8150 - val_loss: 0.5527 - val_accuracy: 0.7455\n",
      "Epoch 73/100\n",
      "88/88 [==============================] - 0s 1ms/step - loss: 0.3737 - accuracy: 0.8152 - val_loss: 0.5556 - val_accuracy: 0.7515\n",
      "Epoch 74/100\n",
      "88/88 [==============================] - 0s 1ms/step - loss: 0.3945 - accuracy: 0.7913 - val_loss: 0.5517 - val_accuracy: 0.7455\n",
      "Epoch 75/100\n",
      "88/88 [==============================] - 0s 1ms/step - loss: 0.3763 - accuracy: 0.8164 - val_loss: 0.5559 - val_accuracy: 0.7515\n",
      "Epoch 76/100\n",
      "88/88 [==============================] - 0s 1ms/step - loss: 0.3647 - accuracy: 0.8192 - val_loss: 0.5550 - val_accuracy: 0.7455\n",
      "Epoch 77/100\n",
      "88/88 [==============================] - 0s 1ms/step - loss: 0.3950 - accuracy: 0.7957 - val_loss: 0.5526 - val_accuracy: 0.7455\n",
      "Epoch 78/100\n",
      "88/88 [==============================] - 0s 1ms/step - loss: 0.3956 - accuracy: 0.8031 - val_loss: 0.5597 - val_accuracy: 0.7515\n",
      "Epoch 79/100\n",
      "88/88 [==============================] - 0s 1ms/step - loss: 0.3858 - accuracy: 0.8155 - val_loss: 0.5531 - val_accuracy: 0.7515\n",
      "Epoch 80/100\n",
      "88/88 [==============================] - 0s 2ms/step - loss: 0.3861 - accuracy: 0.8188 - val_loss: 0.5599 - val_accuracy: 0.7515\n",
      "Epoch 81/100\n",
      "88/88 [==============================] - 0s 1ms/step - loss: 0.3554 - accuracy: 0.8157 - val_loss: 0.5542 - val_accuracy: 0.7515\n",
      "Epoch 82/100\n",
      "88/88 [==============================] - 0s 1ms/step - loss: 0.3779 - accuracy: 0.8444 - val_loss: 0.5586 - val_accuracy: 0.7515\n",
      "Epoch 83/100\n",
      "88/88 [==============================] - 0s 2ms/step - loss: 0.3447 - accuracy: 0.8510 - val_loss: 0.5548 - val_accuracy: 0.7576\n",
      "Epoch 84/100\n",
      "88/88 [==============================] - 0s 1ms/step - loss: 0.3577 - accuracy: 0.8315 - val_loss: 0.5598 - val_accuracy: 0.7455\n",
      "Epoch 85/100\n",
      "88/88 [==============================] - 0s 1ms/step - loss: 0.3720 - accuracy: 0.8118 - val_loss: 0.5596 - val_accuracy: 0.7576\n",
      "Epoch 86/100\n",
      "88/88 [==============================] - 0s 1ms/step - loss: 0.3684 - accuracy: 0.8328 - val_loss: 0.5657 - val_accuracy: 0.7515\n",
      "Epoch 87/100\n",
      "88/88 [==============================] - 0s 1ms/step - loss: 0.4008 - accuracy: 0.8062 - val_loss: 0.5590 - val_accuracy: 0.7515\n",
      "Epoch 88/100\n",
      "88/88 [==============================] - 0s 1ms/step - loss: 0.3567 - accuracy: 0.8353 - val_loss: 0.5617 - val_accuracy: 0.7515\n",
      "Epoch 89/100\n",
      "88/88 [==============================] - 0s 2ms/step - loss: 0.3702 - accuracy: 0.8435 - val_loss: 0.5602 - val_accuracy: 0.7515\n",
      "Epoch 90/100\n",
      "88/88 [==============================] - 0s 2ms/step - loss: 0.3861 - accuracy: 0.8132 - val_loss: 0.5628 - val_accuracy: 0.7515\n",
      "Epoch 91/100\n",
      "88/88 [==============================] - 0s 1ms/step - loss: 0.3626 - accuracy: 0.8159 - val_loss: 0.5651 - val_accuracy: 0.7515\n",
      "Epoch 92/100\n",
      "88/88 [==============================] - 0s 1ms/step - loss: 0.3815 - accuracy: 0.8076 - val_loss: 0.5663 - val_accuracy: 0.7515\n",
      "Epoch 93/100\n",
      "88/88 [==============================] - 0s 1ms/step - loss: 0.3657 - accuracy: 0.8410 - val_loss: 0.5634 - val_accuracy: 0.7576\n",
      "Epoch 94/100\n",
      "88/88 [==============================] - 0s 1ms/step - loss: 0.3392 - accuracy: 0.8385 - val_loss: 0.5651 - val_accuracy: 0.7515\n",
      "Epoch 95/100\n",
      "88/88 [==============================] - 0s 2ms/step - loss: 0.3591 - accuracy: 0.8219 - val_loss: 0.5658 - val_accuracy: 0.7515\n",
      "Epoch 96/100\n",
      "88/88 [==============================] - 0s 1ms/step - loss: 0.3715 - accuracy: 0.8204 - val_loss: 0.5672 - val_accuracy: 0.7515\n",
      "Epoch 97/100\n",
      "88/88 [==============================] - 0s 1ms/step - loss: 0.3650 - accuracy: 0.8359 - val_loss: 0.5612 - val_accuracy: 0.7576\n",
      "Epoch 98/100\n",
      "88/88 [==============================] - 0s 1ms/step - loss: 0.3524 - accuracy: 0.8416 - val_loss: 0.5642 - val_accuracy: 0.7576\n",
      "Epoch 99/100\n",
      "88/88 [==============================] - 0s 1ms/step - loss: 0.3438 - accuracy: 0.8256 - val_loss: 0.5658 - val_accuracy: 0.7576\n",
      "Epoch 100/100\n",
      "88/88 [==============================] - 0s 1ms/step - loss: 0.3555 - accuracy: 0.8398 - val_loss: 0.5704 - val_accuracy: 0.7515\n"
     ]
    }
   ],
   "source": [
    "# Fit the DNN with your train data\n",
    "#Train using train data and validate with valid data\n",
    "DL_model= model.fit(X_train, Y_train, validation_data=(X_valid, Y_valid), epochs=100, batch_size=5)"
   ]
  },
  {
   "cell_type": "markdown",
   "metadata": {},
   "source": [
    "# Make Epoch versus train set accuracy, and validation set accuracy"
   ]
  },
  {
   "cell_type": "code",
   "execution_count": 48,
   "metadata": {},
   "outputs": [
    {
     "data": {
      "image/png": "[encoded data removed]",
      "text/plain": [
       "<Figure size 432x288 with 1 Axes>"
      ]
     },
     "metadata": {
      "needs_background": "light"
     },
     "output_type": "display_data"
    }
   ],
   "source": [
    "import matplotlib.pyplot as plt\n",
    "# Get training and test loss histories\n",
    "training_loss = DL_model.history['loss']\n",
    "test_loss = DL_model.history['val_loss']\n",
    "\n",
    "# Create count of the number of epochs\n",
    "epoch_count = range(1, len(training_loss) + 1)\n",
    "\n",
    "# Visualize loss history\n",
    "plt.plot(epoch_count, training_loss, 'g--')\n",
    "plt.plot(epoch_count, test_loss, 'y-')\n",
    "plt.legend(['Training Loss', 'Valid Loss'])\n",
    "plt.xlabel('Epoch')\n",
    "plt.ylabel('Loss')\n",
    "plt.show();"
   ]
  },
  {
   "cell_type": "code",
   "execution_count": 49,
   "metadata": {},
   "outputs": [
    {
     "data": {
      "image/png": "[encoded data removed]",
      "text/plain": [
       "<Figure size 432x288 with 1 Axes>"
      ]
     },
     "metadata": {
      "needs_background": "light"
     },
     "output_type": "display_data"
    }
   ],
   "source": [
    "# Get training and test loss histories\n",
    "training_loss = DL_model.history['accuracy']\n",
    "test_loss = DL_model.history['val_accuracy']\n",
    "\n",
    "# Create count of the number of epochs\n",
    "epoch_count = range(1, len(training_loss) + 1)\n",
    "\n",
    "# Visualize loss history\n",
    "plt.plot(epoch_count, training_loss, 'g--')\n",
    "plt.plot(epoch_count, test_loss, 'y-')\n",
    "plt.legend(['Training Accuracy', 'Valid Accuracy'])\n",
    "plt.xlabel('Epoch')\n",
    "plt.ylabel('Accuracy')\n",
    "plt.show();"
   ]
  },
  {
   "cell_type": "code",
   "execution_count": 50,
   "metadata": {},
   "outputs": [
    {
     "name": "stdout",
     "output_type": "stream",
     "text": [
      "11/11 [==============================] - 0s 1ms/step - loss: 0.5256 - accuracy: 0.7674\n",
      "Accuracy: 76.74%\n"
     ]
    }
   ],
   "source": [
    "# Evaluate the model using test data\n",
    "scores = model.evaluate(X_test, Y_test)\n",
    "print (\"Accuracy: %.2f%%\" %(scores[1]*100))"
   ]
  },
  {
   "cell_type": "markdown",
   "metadata": {},
   "source": [
    "# Report results using nice ROC curves, report AUC values. Feel free to use code form our course, or from elsewhere"
   ]
  },
  {
   "cell_type": "code",
   "execution_count": 51,
   "metadata": {},
   "outputs": [],
   "source": [
    "from sklearn.metrics import classification_report,roc_curve,roc_auc_score\n",
    "DNN_Pred = model.predict(X_test).ravel()\n",
    "rec, fall_out, thresholds = roc_curve(Y_test,DNN_Pred)"
   ]
  },
  {
   "cell_type": "code",
   "execution_count": 52,
   "metadata": {},
   "outputs": [
    {
     "data": {
      "image/png": "[encoded data removed]",
      "text/plain": [
       "<Figure size 432x288 with 1 Axes>"
      ]
     },
     "metadata": {
      "needs_background": "light"
     },
     "output_type": "display_data"
    }
   ],
   "source": [
    "\n",
    "rec, fall_out, thresholds = roc_curve(Y_test,DNN_Pred)\n",
    "plt.plot([0,1],[0,1],'k--')\n",
    "plt.plot(rec,fall_out, label='Knn')\n",
    "plt.xlabel('Output')\n",
    "plt.ylabel('Accuracy')\n",
    "plt.title('Deep Learning ROC curve')\n",
    "plt.show()"
   ]
  },
  {
   "cell_type": "code",
   "execution_count": 53,
   "metadata": {},
   "outputs": [
    {
     "data": {
      "text/plain": [
       "0.821711506784846"
      ]
     },
     "execution_count": 53,
     "metadata": {},
     "output_type": "execute_result"
    }
   ],
   "source": [
    "roc_auc_score(Y_test,DNN_Pred)"
   ]
  },
  {
   "cell_type": "code",
   "execution_count": 54,
   "metadata": {},
   "outputs": [],
   "source": [
    "DNN_Pred = model.predict(X_test).ravel()\n",
    "rec, fall_out, thresholds = roc_curve(Y_test,DNN_Pred)"
   ]
  },
  {
   "cell_type": "code",
   "execution_count": 55,
   "metadata": {},
   "outputs": [
    {
     "data": {
      "image/png": "[encoded data removed]",
      "text/plain": [
       "<Figure size 432x288 with 1 Axes>"
      ]
     },
     "metadata": {
      "needs_background": "light"
     },
     "output_type": "display_data"
    }
   ],
   "source": [
    "\n",
    "from sklearn.metrics import classification_report,roc_curve,roc_auc_score\n",
    "rec, fall_out, thresholds = roc_curve(Y_test,DNN_Pred)\n",
    "plt.plot([0,1],[0,1],'k--')\n",
    "plt.plot(rec,fall_out, label='Knn')\n",
    "plt.xlabel('Output')\n",
    "plt.ylabel('Accuracy')\n",
    "plt.title('Deep Learning ROC curve')\n",
    "plt.show()"
   ]
  },
  {
   "cell_type": "code",
   "execution_count": 56,
   "metadata": {},
   "outputs": [
    {
     "data": {
      "text/plain": [
       "0.821711506784846"
      ]
     },
     "execution_count": 56,
     "metadata": {},
     "output_type": "execute_result"
    }
   ],
   "source": [
    "roc_auc_score(Y_test,DNN_Pred)"
   ]
  },
  {
   "cell_type": "markdown",
   "metadata": {},
   "source": [
    "Some of the methods used to increase the Dataset is: 1.Normal generation Method, 2. Uniform generation Method"
   ]
  },
  {
   "cell_type": "markdown",
   "metadata": {},
   "source": [
    "# Increase Dataset Size using Normal generation Method"
   ]
  },
  {
   "cell_type": "code",
   "execution_count": 57,
   "metadata": {},
   "outputs": [
    {
     "name": "stdout",
     "output_type": "stream",
     "text": [
      "(768, 9)\n"
     ]
    },
    {
     "data": {
      "text/html": [
       "<div>\n",
       "<style scoped>\n",
       "    .dataframe tbody tr th:only-of-type {\n",
       "        vertical-align: middle;\n",
       "    }\n",
       "\n",
       "    .dataframe tbody tr th {\n",
       "        vertical-align: top;\n",
       "    }\n",
       "\n",
       "    .dataframe thead th {\n",
       "        text-align: right;\n",
       "    }\n",
       "</style>\n",
       "<table border=\"1\" class=\"dataframe\">\n",
       "  <thead>\n",
       "    <tr style=\"text-align: right;\">\n",
       "      <th></th>\n",
       "      <th>0</th>\n",
       "      <th>1</th>\n",
       "      <th>2</th>\n",
       "      <th>3</th>\n",
       "      <th>4</th>\n",
       "      <th>5</th>\n",
       "      <th>6</th>\n",
       "      <th>7</th>\n",
       "      <th>8</th>\n",
       "    </tr>\n",
       "  </thead>\n",
       "  <tbody>\n",
       "    <tr>\n",
       "      <th>0</th>\n",
       "      <td>6</td>\n",
       "      <td>148</td>\n",
       "      <td>72</td>\n",
       "      <td>35</td>\n",
       "      <td>0</td>\n",
       "      <td>33.6</td>\n",
       "      <td>0.627</td>\n",
       "      <td>50</td>\n",
       "      <td>1</td>\n",
       "    </tr>\n",
       "    <tr>\n",
       "      <th>1</th>\n",
       "      <td>1</td>\n",
       "      <td>85</td>\n",
       "      <td>66</td>\n",
       "      <td>29</td>\n",
       "      <td>0</td>\n",
       "      <td>26.6</td>\n",
       "      <td>0.351</td>\n",
       "      <td>31</td>\n",
       "      <td>0</td>\n",
       "    </tr>\n",
       "  </tbody>\n",
       "</table>\n",
       "</div>"
      ],
      "text/plain": [
       "   0    1   2   3  4     5      6   7  8\n",
       "0  6  148  72  35  0  33.6  0.627  50  1\n",
       "1  1   85  66  29  0  26.6  0.351  31  0"
      ]
     },
     "execution_count": 57,
     "metadata": {},
     "output_type": "execute_result"
    }
   ],
   "source": [
    "df_norm = pd.read_csv(f'{path}\\\\pima-indians-diabetes(2).data',header = None)\n",
    "print(df_norm.shape)\n",
    "df_norm.head(2)"
   ]
  },
  {
   "cell_type": "code",
   "execution_count": 58,
   "metadata": {},
   "outputs": [
    {
     "data": {
      "text/html": [
       "<div>\n",
       "<style scoped>\n",
       "    .dataframe tbody tr th:only-of-type {\n",
       "        vertical-align: middle;\n",
       "    }\n",
       "\n",
       "    .dataframe tbody tr th {\n",
       "        vertical-align: top;\n",
       "    }\n",
       "\n",
       "    .dataframe thead th {\n",
       "        text-align: right;\n",
       "    }\n",
       "</style>\n",
       "<table border=\"1\" class=\"dataframe\">\n",
       "  <thead>\n",
       "    <tr style=\"text-align: right;\">\n",
       "      <th></th>\n",
       "      <th>0</th>\n",
       "      <th>1</th>\n",
       "      <th>2</th>\n",
       "      <th>3</th>\n",
       "      <th>4</th>\n",
       "      <th>5</th>\n",
       "      <th>6</th>\n",
       "      <th>7</th>\n",
       "      <th>8</th>\n",
       "    </tr>\n",
       "  </thead>\n",
       "  <tbody>\n",
       "    <tr>\n",
       "      <th>2299</th>\n",
       "      <td>10.0</td>\n",
       "      <td>139.0</td>\n",
       "      <td>40.0</td>\n",
       "      <td>0.0</td>\n",
       "      <td>88.0</td>\n",
       "      <td>23.3</td>\n",
       "      <td>0.232</td>\n",
       "      <td>50.0</td>\n",
       "      <td>1.0</td>\n",
       "    </tr>\n",
       "    <tr>\n",
       "      <th>2300</th>\n",
       "      <td>1.0</td>\n",
       "      <td>78.0</td>\n",
       "      <td>74.0</td>\n",
       "      <td>23.0</td>\n",
       "      <td>175.0</td>\n",
       "      <td>33.6</td>\n",
       "      <td>0.201</td>\n",
       "      <td>57.0</td>\n",
       "      <td>1.0</td>\n",
       "    </tr>\n",
       "    <tr>\n",
       "      <th>2301</th>\n",
       "      <td>1.0</td>\n",
       "      <td>189.0</td>\n",
       "      <td>92.0</td>\n",
       "      <td>29.0</td>\n",
       "      <td>543.0</td>\n",
       "      <td>26.6</td>\n",
       "      <td>0.351</td>\n",
       "      <td>26.0</td>\n",
       "      <td>0.0</td>\n",
       "    </tr>\n",
       "    <tr>\n",
       "      <th>2302</th>\n",
       "      <td>5.0</td>\n",
       "      <td>125.0</td>\n",
       "      <td>92.0</td>\n",
       "      <td>23.0</td>\n",
       "      <td>0.0</td>\n",
       "      <td>28.1</td>\n",
       "      <td>0.587</td>\n",
       "      <td>31.0</td>\n",
       "      <td>1.0</td>\n",
       "    </tr>\n",
       "    <tr>\n",
       "      <th>2303</th>\n",
       "      <td>1.0</td>\n",
       "      <td>168.0</td>\n",
       "      <td>70.0</td>\n",
       "      <td>29.0</td>\n",
       "      <td>0.0</td>\n",
       "      <td>26.6</td>\n",
       "      <td>0.587</td>\n",
       "      <td>54.0</td>\n",
       "      <td>0.0</td>\n",
       "    </tr>\n",
       "  </tbody>\n",
       "</table>\n",
       "</div>"
      ],
      "text/plain": [
       "         0      1     2     3      4     5      6     7    8\n",
       "2299  10.0  139.0  40.0   0.0   88.0  23.3  0.232  50.0  1.0\n",
       "2300   1.0   78.0  74.0  23.0  175.0  33.6  0.201  57.0  1.0\n",
       "2301   1.0  189.0  92.0  29.0  543.0  26.6  0.351  26.0  0.0\n",
       "2302   5.0  125.0  92.0  23.0    0.0  28.1  0.587  31.0  1.0\n",
       "2303   1.0  168.0  70.0  29.0    0.0  26.6  0.587  54.0  0.0"
      ]
     },
     "execution_count": 58,
     "metadata": {},
     "output_type": "execute_result"
    }
   ],
   "source": [
    "columns = df_norm.columns.to_numpy()\n",
    "iteration_count = 2\n",
    "new_df = pd.DataFrame(columns=columns)\n",
    "\n",
    "for i in range(iteration_count):\n",
    "    for k in df_norm.iterrows():\n",
    "        data_obj = {}\n",
    "        for j in range(columns.size):\n",
    "            random_index = np.random.randint(0,15, dtype='int')\n",
    "            data_obj[columns[j]] = df.loc[random_index][columns[j]]\n",
    "        new_df = new_df.append(data_obj, ignore_index=True)\n",
    "\n",
    "Norm_data = df_norm.append(new_df, ignore_index=True)\n",
    "Norm_data.shape\n",
    "Norm_data.tail()"
   ]
  },
  {
   "cell_type": "code",
   "execution_count": 59,
   "metadata": {},
   "outputs": [
    {
     "name": "stdout",
     "output_type": "stream",
     "text": [
      "(2304, 8)\n"
     ]
    }
   ],
   "source": [
    "#Separate out X and Y\n",
    "\n",
    "X_norm = Norm_data.iloc[:, :8]\n",
    "Y_norm = Norm_data.iloc[:, 8:9]\n",
    "print(X_norm.shape)"
   ]
  },
  {
   "cell_type": "code",
   "execution_count": 60,
   "metadata": {},
   "outputs": [
    {
     "name": "stdout",
     "output_type": "stream",
     "text": [
      "(2304, 8)\n"
     ]
    },
    {
     "data": {
      "text/html": [
       "<div>\n",
       "<style scoped>\n",
       "    .dataframe tbody tr th:only-of-type {\n",
       "        vertical-align: middle;\n",
       "    }\n",
       "\n",
       "    .dataframe tbody tr th {\n",
       "        vertical-align: top;\n",
       "    }\n",
       "\n",
       "    .dataframe thead th {\n",
       "        text-align: right;\n",
       "    }\n",
       "</style>\n",
       "<table border=\"1\" class=\"dataframe\">\n",
       "  <thead>\n",
       "    <tr style=\"text-align: right;\">\n",
       "      <th></th>\n",
       "      <th>0</th>\n",
       "      <th>1</th>\n",
       "      <th>2</th>\n",
       "      <th>3</th>\n",
       "      <th>4</th>\n",
       "      <th>5</th>\n",
       "      <th>6</th>\n",
       "      <th>7</th>\n",
       "    </tr>\n",
       "  </thead>\n",
       "  <tbody>\n",
       "    <tr>\n",
       "      <th>0</th>\n",
       "      <td>0.419741</td>\n",
       "      <td>0.452117</td>\n",
       "      <td>0.253431</td>\n",
       "      <td>1.088365</td>\n",
       "      <td>-0.548512</td>\n",
       "      <td>0.389527</td>\n",
       "      <td>0.187455</td>\n",
       "      <td>1.019128</td>\n",
       "    </tr>\n",
       "    <tr>\n",
       "      <th>1</th>\n",
       "      <td>-1.025393</td>\n",
       "      <td>-1.264575</td>\n",
       "      <td>-0.030041</td>\n",
       "      <td>0.715886</td>\n",
       "      <td>-0.548512</td>\n",
       "      <td>-0.367987</td>\n",
       "      <td>-0.353818</td>\n",
       "      <td>-0.498230</td>\n",
       "    </tr>\n",
       "  </tbody>\n",
       "</table>\n",
       "</div>"
      ],
      "text/plain": [
       "          0         1         2         3         4         5         6  \\\n",
       "0  0.419741  0.452117  0.253431  1.088365 -0.548512  0.389527  0.187455   \n",
       "1 -1.025393 -1.264575 -0.030041  0.715886 -0.548512 -0.367987 -0.353818   \n",
       "\n",
       "          7  \n",
       "0  1.019128  \n",
       "1 -0.498230  "
      ]
     },
     "execution_count": 60,
     "metadata": {},
     "output_type": "execute_result"
    }
   ],
   "source": [
    "from sklearn import preprocessing\n",
    "scaler = preprocessing.StandardScaler().fit(X_norm)\n",
    "X_scn = pd.DataFrame(scaler.transform(X_norm))\n",
    "print(X_scn.shape)\n",
    "X_scn.head(2)"
   ]
  },
  {
   "cell_type": "code",
   "execution_count": 61,
   "metadata": {},
   "outputs": [
    {
     "name": "stdout",
     "output_type": "stream",
     "text": [
      "(1313, 8) (991, 8) (1313, 1) (991, 1)\n"
     ]
    }
   ],
   "source": [
    "# Train- Test Split\n",
    "(X_trainm, X_testm, Y_trainm, Y_testm) = train_test_split(X_scn, Y_norm, test_size=0.43, random_state=1)\n",
    "print(X_trainm.shape,X_testm.shape,Y_trainm.shape,Y_testm.shape)"
   ]
  },
  {
   "cell_type": "code",
   "execution_count": 62,
   "metadata": {},
   "outputs": [
    {
     "name": "stdout",
     "output_type": "stream",
     "text": [
      "(991, 8) (991, 1)\n"
     ]
    }
   ],
   "source": [
    "print(X_testm.shape,Y_testm.shape)"
   ]
  },
  {
   "cell_type": "code",
   "execution_count": 63,
   "metadata": {},
   "outputs": [
    {
     "name": "stdout",
     "output_type": "stream",
     "text": [
      "(495, 8) (496, 8) (495, 1) (496, 1)\n"
     ]
    }
   ],
   "source": [
    "(X_validm,X_Testm,Y_validm,Y_Testm) = train_test_split(X_testm, Y_testm, test_size=0.50, random_state=1)\n",
    "print(X_validm.shape,X_Testm.shape,Y_validm.shape,Y_Testm.shape)"
   ]
  },
  {
   "cell_type": "code",
   "execution_count": 64,
   "metadata": {},
   "outputs": [
    {
     "name": "stdout",
     "output_type": "stream",
     "text": [
      "Epoch 1/100\n",
      "263/263 [==============================] - 1s 2ms/step - loss: 0.6920 - accuracy: 0.5322 - val_loss: 0.6771 - val_accuracy: 0.5515\n",
      "Epoch 2/100\n",
      "263/263 [==============================] - 0s 1ms/step - loss: 0.6882 - accuracy: 0.5509 - val_loss: 0.6666 - val_accuracy: 0.6101\n",
      "Epoch 3/100\n",
      "263/263 [==============================] - 0s 1ms/step - loss: 0.6737 - accuracy: 0.5663 - val_loss: 0.6569 - val_accuracy: 0.6364\n",
      "Epoch 4/100\n",
      "263/263 [==============================] - 0s 2ms/step - loss: 0.6538 - accuracy: 0.6282 - val_loss: 0.6496 - val_accuracy: 0.6343\n",
      "Epoch 5/100\n",
      "263/263 [==============================] - 0s 2ms/step - loss: 0.6631 - accuracy: 0.6026 - val_loss: 0.6423 - val_accuracy: 0.6263\n",
      "Epoch 6/100\n",
      "263/263 [==============================] - 0s 2ms/step - loss: 0.6410 - accuracy: 0.6242 - val_loss: 0.6397 - val_accuracy: 0.6364\n",
      "Epoch 7/100\n",
      "263/263 [==============================] - 0s 2ms/step - loss: 0.6356 - accuracy: 0.6342 - val_loss: 0.6366 - val_accuracy: 0.6364\n",
      "Epoch 8/100\n",
      "263/263 [==============================] - 0s 1ms/step - loss: 0.6480 - accuracy: 0.5970 - val_loss: 0.6352 - val_accuracy: 0.6444\n",
      "Epoch 9/100\n",
      "263/263 [==============================] - 0s 1ms/step - loss: 0.6439 - accuracy: 0.6106 - val_loss: 0.6349 - val_accuracy: 0.6343\n",
      "Epoch 10/100\n",
      "263/263 [==============================] - 0s 1ms/step - loss: 0.6370 - accuracy: 0.6312 - val_loss: 0.6349 - val_accuracy: 0.6343\n",
      "Epoch 11/100\n",
      "263/263 [==============================] - 0s 1ms/step - loss: 0.6299 - accuracy: 0.6294 - val_loss: 0.6383 - val_accuracy: 0.6364\n",
      "Epoch 12/100\n",
      "263/263 [==============================] - 0s 1ms/step - loss: 0.6385 - accuracy: 0.6294 - val_loss: 0.6379 - val_accuracy: 0.6323\n",
      "Epoch 13/100\n",
      "263/263 [==============================] - 0s 1ms/step - loss: 0.6328 - accuracy: 0.6179 - val_loss: 0.6388 - val_accuracy: 0.6323\n",
      "Epoch 14/100\n",
      "263/263 [==============================] - 0s 1ms/step - loss: 0.6342 - accuracy: 0.6160 - val_loss: 0.6372 - val_accuracy: 0.6343\n",
      "Epoch 15/100\n",
      "263/263 [==============================] - 0s 1ms/step - loss: 0.6248 - accuracy: 0.6481 - val_loss: 0.6383 - val_accuracy: 0.6303\n",
      "Epoch 16/100\n",
      "263/263 [==============================] - 0s 1ms/step - loss: 0.6337 - accuracy: 0.6206 - val_loss: 0.6386 - val_accuracy: 0.6222\n",
      "Epoch 17/100\n",
      "263/263 [==============================] - 0s 1ms/step - loss: 0.6238 - accuracy: 0.6472 - val_loss: 0.6386 - val_accuracy: 0.6202\n",
      "Epoch 18/100\n",
      "263/263 [==============================] - 0s 1ms/step - loss: 0.6317 - accuracy: 0.6278 - val_loss: 0.6400 - val_accuracy: 0.6263\n",
      "Epoch 19/100\n",
      "263/263 [==============================] - 0s 2ms/step - loss: 0.6285 - accuracy: 0.6271 - val_loss: 0.6406 - val_accuracy: 0.6040\n",
      "Epoch 20/100\n",
      "263/263 [==============================] - 0s 1ms/step - loss: 0.6306 - accuracy: 0.6358 - val_loss: 0.6395 - val_accuracy: 0.6162\n",
      "Epoch 21/100\n",
      "263/263 [==============================] - 0s 1ms/step - loss: 0.6265 - accuracy: 0.6463 - val_loss: 0.6406 - val_accuracy: 0.6242\n",
      "Epoch 22/100\n",
      "263/263 [==============================] - 0s 1ms/step - loss: 0.6359 - accuracy: 0.6294 - val_loss: 0.6430 - val_accuracy: 0.6081\n",
      "Epoch 23/100\n",
      "263/263 [==============================] - 0s 1ms/step - loss: 0.6193 - accuracy: 0.6513 - val_loss: 0.6439 - val_accuracy: 0.6020\n",
      "Epoch 24/100\n",
      "263/263 [==============================] - 0s 1ms/step - loss: 0.6312 - accuracy: 0.6350 - val_loss: 0.6458 - val_accuracy: 0.6020\n",
      "Epoch 25/100\n",
      "263/263 [==============================] - 0s 1ms/step - loss: 0.6061 - accuracy: 0.6485 - val_loss: 0.6473 - val_accuracy: 0.6020\n",
      "Epoch 26/100\n",
      "263/263 [==============================] - 0s 1ms/step - loss: 0.6168 - accuracy: 0.6673 - val_loss: 0.6472 - val_accuracy: 0.5960\n",
      "Epoch 27/100\n",
      "263/263 [==============================] - 0s 1ms/step - loss: 0.6245 - accuracy: 0.6383 - val_loss: 0.6513 - val_accuracy: 0.5980\n",
      "Epoch 28/100\n",
      "263/263 [==============================] - 0s 1ms/step - loss: 0.6116 - accuracy: 0.6302 - val_loss: 0.6523 - val_accuracy: 0.6020\n",
      "Epoch 29/100\n",
      "263/263 [==============================] - 0s 1ms/step - loss: 0.6326 - accuracy: 0.6201 - val_loss: 0.6487 - val_accuracy: 0.6020\n",
      "Epoch 30/100\n",
      "263/263 [==============================] - 0s 1ms/step - loss: 0.6119 - accuracy: 0.6466 - val_loss: 0.6536 - val_accuracy: 0.5859\n",
      "Epoch 31/100\n",
      "263/263 [==============================] - 0s 1ms/step - loss: 0.6160 - accuracy: 0.6442 - val_loss: 0.6543 - val_accuracy: 0.5838\n",
      "Epoch 32/100\n",
      "263/263 [==============================] - 0s 1ms/step - loss: 0.6047 - accuracy: 0.6569 - val_loss: 0.6521 - val_accuracy: 0.6081\n",
      "Epoch 33/100\n",
      "263/263 [==============================] - 0s 1ms/step - loss: 0.5953 - accuracy: 0.6719 - val_loss: 0.6541 - val_accuracy: 0.6061\n",
      "Epoch 34/100\n",
      "263/263 [==============================] - 0s 1ms/step - loss: 0.6168 - accuracy: 0.6538 - val_loss: 0.6559 - val_accuracy: 0.6040\n",
      "Epoch 35/100\n",
      "263/263 [==============================] - 0s 1ms/step - loss: 0.6068 - accuracy: 0.6521 - val_loss: 0.6555 - val_accuracy: 0.5939\n",
      "Epoch 36/100\n",
      "263/263 [==============================] - 0s 1ms/step - loss: 0.6142 - accuracy: 0.6400 - val_loss: 0.6556 - val_accuracy: 0.5980\n",
      "Epoch 37/100\n",
      "263/263 [==============================] - 0s 1ms/step - loss: 0.5908 - accuracy: 0.6835 - val_loss: 0.6577 - val_accuracy: 0.6000\n",
      "Epoch 38/100\n",
      "263/263 [==============================] - 0s 1ms/step - loss: 0.5949 - accuracy: 0.6864 - val_loss: 0.6560 - val_accuracy: 0.6000\n",
      "Epoch 39/100\n",
      "263/263 [==============================] - 0s 1ms/step - loss: 0.5885 - accuracy: 0.6804 - val_loss: 0.6594 - val_accuracy: 0.5939\n",
      "Epoch 40/100\n",
      "263/263 [==============================] - 0s 1ms/step - loss: 0.5953 - accuracy: 0.6798 - val_loss: 0.6573 - val_accuracy: 0.5980\n",
      "Epoch 41/100\n",
      "263/263 [==============================] - 0s 1ms/step - loss: 0.5886 - accuracy: 0.6930 - val_loss: 0.6562 - val_accuracy: 0.5960\n",
      "Epoch 42/100\n",
      "263/263 [==============================] - 0s 1ms/step - loss: 0.6041 - accuracy: 0.6731 - val_loss: 0.6582 - val_accuracy: 0.6000\n",
      "Epoch 43/100\n",
      "263/263 [==============================] - 0s 2ms/step - loss: 0.5931 - accuracy: 0.6770 - val_loss: 0.6585 - val_accuracy: 0.6020\n",
      "Epoch 44/100\n",
      "263/263 [==============================] - 0s 1ms/step - loss: 0.5966 - accuracy: 0.6712 - val_loss: 0.6554 - val_accuracy: 0.5980\n",
      "Epoch 45/100\n",
      "263/263 [==============================] - 0s 1ms/step - loss: 0.6055 - accuracy: 0.6604 - val_loss: 0.6595 - val_accuracy: 0.6040\n",
      "Epoch 46/100\n",
      "263/263 [==============================] - 0s 1ms/step - loss: 0.5862 - accuracy: 0.6865 - val_loss: 0.6564 - val_accuracy: 0.6020\n",
      "Epoch 47/100\n",
      "263/263 [==============================] - 0s 1ms/step - loss: 0.5898 - accuracy: 0.6703 - val_loss: 0.6585 - val_accuracy: 0.6020\n",
      "Epoch 48/100\n",
      "263/263 [==============================] - 0s 1ms/step - loss: 0.6056 - accuracy: 0.6574 - val_loss: 0.6629 - val_accuracy: 0.5980\n",
      "Epoch 49/100\n",
      "263/263 [==============================] - 0s 1ms/step - loss: 0.5823 - accuracy: 0.6889 - val_loss: 0.6656 - val_accuracy: 0.5980\n",
      "Epoch 50/100\n",
      "263/263 [==============================] - 0s 1ms/step - loss: 0.5850 - accuracy: 0.6772 - val_loss: 0.6589 - val_accuracy: 0.5980\n",
      "Epoch 51/100\n",
      "263/263 [==============================] - 0s 1ms/step - loss: 0.5900 - accuracy: 0.6911 - val_loss: 0.6645 - val_accuracy: 0.5879\n",
      "Epoch 52/100\n",
      "263/263 [==============================] - 0s 2ms/step - loss: 0.5855 - accuracy: 0.6780 - val_loss: 0.6633 - val_accuracy: 0.5939\n",
      "Epoch 53/100\n",
      "263/263 [==============================] - 0s 1ms/step - loss: 0.5742 - accuracy: 0.6790 - val_loss: 0.6610 - val_accuracy: 0.5980\n",
      "Epoch 54/100\n",
      "263/263 [==============================] - 0s 1ms/step - loss: 0.5831 - accuracy: 0.6935 - val_loss: 0.6636 - val_accuracy: 0.5980\n",
      "Epoch 55/100\n",
      "263/263 [==============================] - 0s 1ms/step - loss: 0.5946 - accuracy: 0.6757 - val_loss: 0.6654 - val_accuracy: 0.5960\n",
      "Epoch 56/100\n",
      "263/263 [==============================] - 0s 1ms/step - loss: 0.5909 - accuracy: 0.6709 - val_loss: 0.6647 - val_accuracy: 0.5939\n",
      "Epoch 57/100\n",
      "263/263 [==============================] - 0s 1ms/step - loss: 0.5850 - accuracy: 0.6772 - val_loss: 0.6611 - val_accuracy: 0.5980\n"
     ]
    },
    {
     "name": "stdout",
     "output_type": "stream",
     "text": [
      "Epoch 58/100\n",
      "263/263 [==============================] - 0s 1ms/step - loss: 0.5976 - accuracy: 0.6656 - val_loss: 0.6664 - val_accuracy: 0.5899\n",
      "Epoch 59/100\n",
      "263/263 [==============================] - 0s 1ms/step - loss: 0.5990 - accuracy: 0.6571 - val_loss: 0.6696 - val_accuracy: 0.5899\n",
      "Epoch 60/100\n",
      "263/263 [==============================] - 0s 1ms/step - loss: 0.5808 - accuracy: 0.6965 - val_loss: 0.6661 - val_accuracy: 0.5939\n",
      "Epoch 61/100\n",
      "263/263 [==============================] - 0s 1ms/step - loss: 0.5837 - accuracy: 0.6841 - val_loss: 0.6675 - val_accuracy: 0.5939\n",
      "Epoch 62/100\n",
      "263/263 [==============================] - 0s 2ms/step - loss: 0.5882 - accuracy: 0.6759 - val_loss: 0.6713 - val_accuracy: 0.6040\n",
      "Epoch 63/100\n",
      "263/263 [==============================] - 0s 1ms/step - loss: 0.5723 - accuracy: 0.6905 - val_loss: 0.6764 - val_accuracy: 0.5818\n",
      "Epoch 64/100\n",
      "263/263 [==============================] - 0s 1ms/step - loss: 0.5885 - accuracy: 0.6760 - val_loss: 0.6699 - val_accuracy: 0.5939\n",
      "Epoch 65/100\n",
      "263/263 [==============================] - 0s 1ms/step - loss: 0.5824 - accuracy: 0.6690 - val_loss: 0.6731 - val_accuracy: 0.5899\n",
      "Epoch 66/100\n",
      "263/263 [==============================] - 0s 1ms/step - loss: 0.5781 - accuracy: 0.6888 - val_loss: 0.6754 - val_accuracy: 0.5980\n",
      "Epoch 67/100\n",
      "263/263 [==============================] - 0s 1ms/step - loss: 0.5774 - accuracy: 0.6842 - val_loss: 0.6769 - val_accuracy: 0.5980\n",
      "Epoch 68/100\n",
      "263/263 [==============================] - 0s 1ms/step - loss: 0.5835 - accuracy: 0.6752 - val_loss: 0.6753 - val_accuracy: 0.6000\n",
      "Epoch 69/100\n",
      "263/263 [==============================] - 0s 1ms/step - loss: 0.5805 - accuracy: 0.6828 - val_loss: 0.6782 - val_accuracy: 0.6081\n",
      "Epoch 70/100\n",
      "263/263 [==============================] - 0s 1ms/step - loss: 0.5819 - accuracy: 0.6698 - val_loss: 0.6739 - val_accuracy: 0.6040\n",
      "Epoch 71/100\n",
      "263/263 [==============================] - 0s 1ms/step - loss: 0.5927 - accuracy: 0.6737 - val_loss: 0.6821 - val_accuracy: 0.6061\n",
      "Epoch 72/100\n",
      "263/263 [==============================] - 0s 1ms/step - loss: 0.5675 - accuracy: 0.6948 - val_loss: 0.6758 - val_accuracy: 0.6000\n",
      "Epoch 73/100\n",
      "263/263 [==============================] - 0s 1ms/step - loss: 0.5754 - accuracy: 0.6968 - val_loss: 0.6775 - val_accuracy: 0.6020\n",
      "Epoch 74/100\n",
      "263/263 [==============================] - 0s 2ms/step - loss: 0.5769 - accuracy: 0.6752 - val_loss: 0.6779 - val_accuracy: 0.5859\n",
      "Epoch 75/100\n",
      "263/263 [==============================] - 0s 1ms/step - loss: 0.5744 - accuracy: 0.6700 - val_loss: 0.6746 - val_accuracy: 0.5879\n",
      "Epoch 76/100\n",
      "263/263 [==============================] - 0s 1ms/step - loss: 0.5708 - accuracy: 0.6977 - val_loss: 0.6775 - val_accuracy: 0.5818\n",
      "Epoch 77/100\n",
      "263/263 [==============================] - 0s 1ms/step - loss: 0.5732 - accuracy: 0.6880 - val_loss: 0.6776 - val_accuracy: 0.5879\n",
      "Epoch 78/100\n",
      "263/263 [==============================] - 0s 1ms/step - loss: 0.5824 - accuracy: 0.6928 - val_loss: 0.6801 - val_accuracy: 0.5899\n",
      "Epoch 79/100\n",
      "263/263 [==============================] - 0s 1ms/step - loss: 0.5926 - accuracy: 0.6739 - val_loss: 0.6789 - val_accuracy: 0.6101\n",
      "Epoch 80/100\n",
      "263/263 [==============================] - 0s 1ms/step - loss: 0.5765 - accuracy: 0.6983 - val_loss: 0.6827 - val_accuracy: 0.5919\n",
      "Epoch 81/100\n",
      "263/263 [==============================] - 0s 1ms/step - loss: 0.5781 - accuracy: 0.6851 - val_loss: 0.6886 - val_accuracy: 0.6000\n",
      "Epoch 82/100\n",
      "263/263 [==============================] - 0s 1ms/step - loss: 0.5896 - accuracy: 0.6860 - val_loss: 0.6807 - val_accuracy: 0.5818\n",
      "Epoch 83/100\n",
      "263/263 [==============================] - 0s 1ms/step - loss: 0.5771 - accuracy: 0.6850 - val_loss: 0.6828 - val_accuracy: 0.5939\n",
      "Epoch 84/100\n",
      "263/263 [==============================] - 0s 1ms/step - loss: 0.5650 - accuracy: 0.7054 - val_loss: 0.6836 - val_accuracy: 0.5859\n",
      "Epoch 85/100\n",
      "263/263 [==============================] - 0s 1ms/step - loss: 0.5590 - accuracy: 0.7027 - val_loss: 0.6797 - val_accuracy: 0.5899\n",
      "Epoch 86/100\n",
      "263/263 [==============================] - 0s 1ms/step - loss: 0.5669 - accuracy: 0.6839 - val_loss: 0.6828 - val_accuracy: 0.5737\n",
      "Epoch 87/100\n",
      "263/263 [==============================] - 0s 1ms/step - loss: 0.5625 - accuracy: 0.7166 - val_loss: 0.6788 - val_accuracy: 0.5818\n",
      "Epoch 88/100\n",
      "263/263 [==============================] - 0s 1ms/step - loss: 0.5745 - accuracy: 0.6814 - val_loss: 0.6847 - val_accuracy: 0.5758\n",
      "Epoch 89/100\n",
      "263/263 [==============================] - 0s 1ms/step - loss: 0.5710 - accuracy: 0.6780 - val_loss: 0.6893 - val_accuracy: 0.5778\n",
      "Epoch 90/100\n",
      "263/263 [==============================] - 0s 1ms/step - loss: 0.5793 - accuracy: 0.6852 - val_loss: 0.6857 - val_accuracy: 0.5798\n",
      "Epoch 91/100\n",
      "263/263 [==============================] - 0s 1ms/step - loss: 0.5730 - accuracy: 0.6982 - val_loss: 0.6879 - val_accuracy: 0.5818\n",
      "Epoch 92/100\n",
      "263/263 [==============================] - 0s 1ms/step - loss: 0.5781 - accuracy: 0.6894 - val_loss: 0.6900 - val_accuracy: 0.5838\n",
      "Epoch 93/100\n",
      "263/263 [==============================] - 0s 1ms/step - loss: 0.5758 - accuracy: 0.6944 - val_loss: 0.6886 - val_accuracy: 0.5960\n",
      "Epoch 94/100\n",
      "263/263 [==============================] - 0s 1ms/step - loss: 0.5755 - accuracy: 0.6893 - val_loss: 0.6908 - val_accuracy: 0.5778\n",
      "Epoch 95/100\n",
      "263/263 [==============================] - 0s 1ms/step - loss: 0.5652 - accuracy: 0.7091 - val_loss: 0.6931 - val_accuracy: 0.5818\n",
      "Epoch 96/100\n",
      "263/263 [==============================] - 0s 1ms/step - loss: 0.5606 - accuracy: 0.7005 - val_loss: 0.6893 - val_accuracy: 0.5758\n",
      "Epoch 97/100\n",
      "263/263 [==============================] - 0s 1ms/step - loss: 0.5786 - accuracy: 0.6847 - val_loss: 0.6924 - val_accuracy: 0.5717\n",
      "Epoch 98/100\n",
      "263/263 [==============================] - 0s 1ms/step - loss: 0.5809 - accuracy: 0.6777 - val_loss: 0.6931 - val_accuracy: 0.5798\n",
      "Epoch 99/100\n",
      "263/263 [==============================] - 0s 1ms/step - loss: 0.5735 - accuracy: 0.7027 - val_loss: 0.6901 - val_accuracy: 0.5778\n",
      "Epoch 100/100\n",
      "263/263 [==============================] - 0s 1ms/step - loss: 0.5445 - accuracy: 0.7115 - val_loss: 0.6933 - val_accuracy: 0.5778\n"
     ]
    }
   ],
   "source": [
    "model = Sequential()\n",
    "model.add(Dense(10, kernel_initializer=\"glorot_uniform\",input_dim=8, activation='relu'))\n",
    "model.add(Dense(8, kernel_initializer=\"glorot_uniform\",activation='relu'))\n",
    "model.add(Dense(1, kernel_initializer=\"glorot_uniform\",activation='sigmoid'))\n",
    "# Compile the DNN\n",
    "\n",
    "model.compile(loss='binary_crossentropy', optimizer='adam', metrics=['accuracy'])\n",
    "# Fit the DNN with your train data\n",
    "\n",
    "DL_modelm= model.fit(X_trainm, Y_trainm, validation_data=(X_validm, Y_validm), epochs=100, batch_size=5)"
   ]
  },
  {
   "cell_type": "code",
   "execution_count": 65,
   "metadata": {},
   "outputs": [
    {
     "data": {
      "image/png": "[encoded data removed]",
      "text/plain": [
       "<Figure size 432x288 with 1 Axes>"
      ]
     },
     "metadata": {
      "needs_background": "light"
     },
     "output_type": "display_data"
    }
   ],
   "source": [
    "import matplotlib.pyplot as plt\n",
    "# Get training and test loss histories\n",
    "training_loss = DL_modelm.history['loss']\n",
    "test_loss = DL_modelm.history['val_loss']\n",
    "\n",
    "# Create count of the number of epochs\n",
    "epoch_count = range(1, len(training_loss) + 1)\n",
    "\n",
    "# Visualize loss history\n",
    "plt.plot(epoch_count, training_loss, 'g--')\n",
    "plt.plot(epoch_count, test_loss, 'y-')\n",
    "plt.legend(['Training Loss', 'Valid Loss'])\n",
    "plt.xlabel('Epoch')\n",
    "plt.ylabel('Loss')\n",
    "plt.show();"
   ]
  },
  {
   "cell_type": "code",
   "execution_count": 66,
   "metadata": {},
   "outputs": [
    {
     "data": {
      "image/png": "[encoded data removed]",
      "text/plain": [
       "<Figure size 432x288 with 1 Axes>"
      ]
     },
     "metadata": {
      "needs_background": "light"
     },
     "output_type": "display_data"
    }
   ],
   "source": [
    "# Get training and test loss histories\n",
    "training_loss = DL_modelm.history['accuracy']\n",
    "test_loss = DL_modelm.history['val_accuracy']\n",
    "\n",
    "# Create count of the number of epochs\n",
    "epoch_count = range(1, len(training_loss) + 1)\n",
    "\n",
    "# Visualize loss history\n",
    "plt.plot(epoch_count, training_loss, 'g--')\n",
    "plt.plot(epoch_count, test_loss, 'y-')\n",
    "plt.legend(['Training Accuracy', 'Valid Accuracy'])\n",
    "plt.xlabel('Epoch')\n",
    "plt.ylabel('Accuracy')\n",
    "plt.show();"
   ]
  },
  {
   "cell_type": "code",
   "execution_count": 67,
   "metadata": {},
   "outputs": [
    {
     "name": "stdout",
     "output_type": "stream",
     "text": [
      "31/31 [==============================] - 0s 1ms/step - loss: 0.6990 - accuracy: 0.5863\n",
      "Accuracy: 58.63%\n"
     ]
    }
   ],
   "source": [
    "# Evaluate the model\n",
    "scores = model.evaluate(X_testm, Y_testm)\n",
    "print (\"Accuracy: %.2f%%\" %(scores[1]*100))"
   ]
  },
  {
   "cell_type": "code",
   "execution_count": 68,
   "metadata": {},
   "outputs": [
    {
     "data": {
      "image/png": "[encoded data removed]",
      "text/plain": [
       "<Figure size 432x288 with 1 Axes>"
      ]
     },
     "metadata": {
      "needs_background": "light"
     },
     "output_type": "display_data"
    },
    {
     "data": {
      "text/plain": [
       "0.6147244879611619"
      ]
     },
     "execution_count": 68,
     "metadata": {},
     "output_type": "execute_result"
    }
   ],
   "source": [
    "DNN_Predm = model.predict(X_testm).ravel()\n",
    "rec, fall_out, thresholds = roc_curve(Y_testm,DNN_Predm)\n",
    "\n",
    "from sklearn.metrics import classification_report,roc_curve,roc_auc_score\n",
    "rec, fall_out, thresholds = roc_curve(Y_testm,DNN_Predm)\n",
    "plt.plot([0,1],[0,1],'k--')\n",
    "plt.plot(rec,fall_out, label='Knn')\n",
    "plt.xlabel('Output')\n",
    "plt.ylabel('Accuracy')\n",
    "plt.title('Deep Learning ROC curve')\n",
    "plt.show()\n",
    "\n",
    "roc_auc_score(Y_testm,DNN_Predm)"
   ]
  },
  {
   "cell_type": "markdown",
   "metadata": {},
   "source": [
    "# Increase Dataset Size using Uniform generation Method"
   ]
  },
  {
   "cell_type": "code",
   "execution_count": 69,
   "metadata": {},
   "outputs": [
    {
     "name": "stdout",
     "output_type": "stream",
     "text": [
      "(768, 9)\n"
     ]
    },
    {
     "data": {
      "text/html": [
       "<div>\n",
       "<style scoped>\n",
       "    .dataframe tbody tr th:only-of-type {\n",
       "        vertical-align: middle;\n",
       "    }\n",
       "\n",
       "    .dataframe tbody tr th {\n",
       "        vertical-align: top;\n",
       "    }\n",
       "\n",
       "    .dataframe thead th {\n",
       "        text-align: right;\n",
       "    }\n",
       "</style>\n",
       "<table border=\"1\" class=\"dataframe\">\n",
       "  <thead>\n",
       "    <tr style=\"text-align: right;\">\n",
       "      <th></th>\n",
       "      <th>0</th>\n",
       "      <th>1</th>\n",
       "      <th>2</th>\n",
       "      <th>3</th>\n",
       "      <th>4</th>\n",
       "      <th>5</th>\n",
       "      <th>6</th>\n",
       "      <th>7</th>\n",
       "      <th>8</th>\n",
       "    </tr>\n",
       "  </thead>\n",
       "  <tbody>\n",
       "    <tr>\n",
       "      <th>0</th>\n",
       "      <td>6</td>\n",
       "      <td>148</td>\n",
       "      <td>72</td>\n",
       "      <td>35</td>\n",
       "      <td>0</td>\n",
       "      <td>33.6</td>\n",
       "      <td>0.627</td>\n",
       "      <td>50</td>\n",
       "      <td>1</td>\n",
       "    </tr>\n",
       "    <tr>\n",
       "      <th>1</th>\n",
       "      <td>1</td>\n",
       "      <td>85</td>\n",
       "      <td>66</td>\n",
       "      <td>29</td>\n",
       "      <td>0</td>\n",
       "      <td>26.6</td>\n",
       "      <td>0.351</td>\n",
       "      <td>31</td>\n",
       "      <td>0</td>\n",
       "    </tr>\n",
       "  </tbody>\n",
       "</table>\n",
       "</div>"
      ],
      "text/plain": [
       "   0    1   2   3  4     5      6   7  8\n",
       "0  6  148  72  35  0  33.6  0.627  50  1\n",
       "1  1   85  66  29  0  26.6  0.351  31  0"
      ]
     },
     "execution_count": 69,
     "metadata": {},
     "output_type": "execute_result"
    }
   ],
   "source": [
    "df_unif = pd.read_csv(f'{path}\\\\pima-indians-diabetes(2).data',header = None)\n",
    "print(df_unif.shape)\n",
    "df_unif.head(2)"
   ]
  },
  {
   "cell_type": "code",
   "execution_count": 70,
   "metadata": {},
   "outputs": [
    {
     "data": {
      "text/html": [
       "<div>\n",
       "<style scoped>\n",
       "    .dataframe tbody tr th:only-of-type {\n",
       "        vertical-align: middle;\n",
       "    }\n",
       "\n",
       "    .dataframe tbody tr th {\n",
       "        vertical-align: top;\n",
       "    }\n",
       "\n",
       "    .dataframe thead th {\n",
       "        text-align: right;\n",
       "    }\n",
       "</style>\n",
       "<table border=\"1\" class=\"dataframe\">\n",
       "  <thead>\n",
       "    <tr style=\"text-align: right;\">\n",
       "      <th></th>\n",
       "      <th>0</th>\n",
       "      <th>1</th>\n",
       "      <th>2</th>\n",
       "      <th>3</th>\n",
       "      <th>4</th>\n",
       "      <th>5</th>\n",
       "      <th>6</th>\n",
       "      <th>7</th>\n",
       "      <th>8</th>\n",
       "    </tr>\n",
       "  </thead>\n",
       "  <tbody>\n",
       "    <tr>\n",
       "      <th>2299</th>\n",
       "      <td>1.0</td>\n",
       "      <td>148.0</td>\n",
       "      <td>96.0</td>\n",
       "      <td>35.0</td>\n",
       "      <td>0.0</td>\n",
       "      <td>25.8</td>\n",
       "      <td>0.134</td>\n",
       "      <td>51.0</td>\n",
       "      <td>0.0</td>\n",
       "    </tr>\n",
       "    <tr>\n",
       "      <th>2300</th>\n",
       "      <td>10.0</td>\n",
       "      <td>115.0</td>\n",
       "      <td>60.0</td>\n",
       "      <td>0.0</td>\n",
       "      <td>0.0</td>\n",
       "      <td>30.1</td>\n",
       "      <td>0.537</td>\n",
       "      <td>21.0</td>\n",
       "      <td>1.0</td>\n",
       "    </tr>\n",
       "    <tr>\n",
       "      <th>2301</th>\n",
       "      <td>8.0</td>\n",
       "      <td>85.0</td>\n",
       "      <td>60.0</td>\n",
       "      <td>0.0</td>\n",
       "      <td>0.0</td>\n",
       "      <td>28.1</td>\n",
       "      <td>0.158</td>\n",
       "      <td>30.0</td>\n",
       "      <td>1.0</td>\n",
       "    </tr>\n",
       "    <tr>\n",
       "      <th>2302</th>\n",
       "      <td>2.0</td>\n",
       "      <td>115.0</td>\n",
       "      <td>74.0</td>\n",
       "      <td>19.0</td>\n",
       "      <td>88.0</td>\n",
       "      <td>25.6</td>\n",
       "      <td>0.627</td>\n",
       "      <td>32.0</td>\n",
       "      <td>1.0</td>\n",
       "    </tr>\n",
       "    <tr>\n",
       "      <th>2303</th>\n",
       "      <td>1.0</td>\n",
       "      <td>189.0</td>\n",
       "      <td>72.0</td>\n",
       "      <td>0.0</td>\n",
       "      <td>0.0</td>\n",
       "      <td>37.6</td>\n",
       "      <td>0.134</td>\n",
       "      <td>30.0</td>\n",
       "      <td>1.0</td>\n",
       "    </tr>\n",
       "  </tbody>\n",
       "</table>\n",
       "</div>"
      ],
      "text/plain": [
       "         0      1     2     3     4     5      6     7    8\n",
       "2299   1.0  148.0  96.0  35.0   0.0  25.8  0.134  51.0  0.0\n",
       "2300  10.0  115.0  60.0   0.0   0.0  30.1  0.537  21.0  1.0\n",
       "2301   8.0   85.0  60.0   0.0   0.0  28.1  0.158  30.0  1.0\n",
       "2302   2.0  115.0  74.0  19.0  88.0  25.6  0.627  32.0  1.0\n",
       "2303   1.0  189.0  72.0   0.0   0.0  37.6  0.134  30.0  1.0"
      ]
     },
     "execution_count": 70,
     "metadata": {},
     "output_type": "execute_result"
    }
   ],
   "source": [
    "#Uniform Generation\n",
    "columns = df_unif.columns.to_numpy()\n",
    "iteration_count = 2\n",
    "new_dfu = pd.DataFrame(columns=columns)\n",
    "\n",
    "for i in range(iteration_count):\n",
    "    for k in df.iterrows():\n",
    "        data_obj = {}\n",
    "        for j in range(columns.size):\n",
    "            random_index_1 = np.random.randint(0,15)\n",
    "            data_obj[columns[j]] = df.loc[random_index_1][columns[j]]\n",
    "            \n",
    "        new_dfu = new_dfu.append(data_obj, ignore_index=True)\n",
    "\n",
    "df_unif = df_unif.append(new_dfu, ignore_index=True)\n",
    "df_unif.shape\n",
    "df_unif.tail()"
   ]
  },
  {
   "cell_type": "code",
   "execution_count": 71,
   "metadata": {},
   "outputs": [
    {
     "name": "stdout",
     "output_type": "stream",
     "text": [
      "(2304, 8)\n"
     ]
    }
   ],
   "source": [
    "#Separate out X and Y\n",
    "\n",
    "X_uni = df_unif.iloc[:, :8]\n",
    "Y_uni = df_unif.iloc[:, 8:9]\n",
    "print(X_uni.shape)"
   ]
  },
  {
   "cell_type": "code",
   "execution_count": 72,
   "metadata": {},
   "outputs": [
    {
     "name": "stdout",
     "output_type": "stream",
     "text": [
      "(2304, 8)\n"
     ]
    },
    {
     "data": {
      "text/html": [
       "<div>\n",
       "<style scoped>\n",
       "    .dataframe tbody tr th:only-of-type {\n",
       "        vertical-align: middle;\n",
       "    }\n",
       "\n",
       "    .dataframe tbody tr th {\n",
       "        vertical-align: top;\n",
       "    }\n",
       "\n",
       "    .dataframe thead th {\n",
       "        text-align: right;\n",
       "    }\n",
       "</style>\n",
       "<table border=\"1\" class=\"dataframe\">\n",
       "  <thead>\n",
       "    <tr style=\"text-align: right;\">\n",
       "      <th></th>\n",
       "      <th>0</th>\n",
       "      <th>1</th>\n",
       "      <th>2</th>\n",
       "      <th>3</th>\n",
       "      <th>4</th>\n",
       "      <th>5</th>\n",
       "      <th>6</th>\n",
       "      <th>7</th>\n",
       "    </tr>\n",
       "  </thead>\n",
       "  <tbody>\n",
       "    <tr>\n",
       "      <th>0</th>\n",
       "      <td>0.432951</td>\n",
       "      <td>0.431091</td>\n",
       "      <td>0.259633</td>\n",
       "      <td>1.070832</td>\n",
       "      <td>-0.55571</td>\n",
       "      <td>0.408388</td>\n",
       "      <td>0.223332</td>\n",
       "      <td>0.985688</td>\n",
       "    </tr>\n",
       "    <tr>\n",
       "      <th>1</th>\n",
       "      <td>-1.012728</td>\n",
       "      <td>-1.313318</td>\n",
       "      <td>-0.021056</td>\n",
       "      <td>0.701085</td>\n",
       "      <td>-0.55571</td>\n",
       "      <td>-0.319714</td>\n",
       "      <td>-0.333914</td>\n",
       "      <td>-0.522086</td>\n",
       "    </tr>\n",
       "  </tbody>\n",
       "</table>\n",
       "</div>"
      ],
      "text/plain": [
       "          0         1         2         3        4         5         6  \\\n",
       "0  0.432951  0.431091  0.259633  1.070832 -0.55571  0.408388  0.223332   \n",
       "1 -1.012728 -1.313318 -0.021056  0.701085 -0.55571 -0.319714 -0.333914   \n",
       "\n",
       "          7  \n",
       "0  0.985688  \n",
       "1 -0.522086  "
      ]
     },
     "execution_count": 72,
     "metadata": {},
     "output_type": "execute_result"
    }
   ],
   "source": [
    "from sklearn import preprocessing\n",
    "scaler = preprocessing.StandardScaler().fit(X_uni)\n",
    "X_scu = pd.DataFrame(scaler.transform(X_uni))\n",
    "print(X_scu.shape)\n",
    "X_scu.head(2)"
   ]
  },
  {
   "cell_type": "code",
   "execution_count": 73,
   "metadata": {},
   "outputs": [
    {
     "name": "stdout",
     "output_type": "stream",
     "text": [
      "(1313, 8) (991, 8) (1313, 1) (991, 1)\n"
     ]
    }
   ],
   "source": [
    "# Train- Test Split\n",
    "(X_trainu, X_testu, Y_trainu, Y_testu) = train_test_split(X_scu, Y_uni, test_size=0.43, random_state=1)\n",
    "print(X_trainu.shape,X_testu.shape,Y_trainu.shape,Y_testu.shape)"
   ]
  },
  {
   "cell_type": "code",
   "execution_count": 74,
   "metadata": {},
   "outputs": [
    {
     "name": "stdout",
     "output_type": "stream",
     "text": [
      "(495, 8) (496, 8) (495, 1) (496, 1)\n"
     ]
    }
   ],
   "source": [
    "(X_validu,X_Testu,Y_validu,Y_Testu) = train_test_split(X_testu, Y_testu, test_size=0.50, random_state=1)\n",
    "print(X_validu.shape,X_Testu.shape,Y_validu.shape,Y_Testu.shape)"
   ]
  },
  {
   "cell_type": "code",
   "execution_count": 75,
   "metadata": {},
   "outputs": [
    {
     "name": "stdout",
     "output_type": "stream",
     "text": [
      "Epoch 1/100\n",
      "263/263 [==============================] - 1s 2ms/step - loss: 0.7414 - accuracy: 0.4692 - val_loss: 0.7133 - val_accuracy: 0.4485\n",
      "Epoch 2/100\n",
      "263/263 [==============================] - 0s 1ms/step - loss: 0.6932 - accuracy: 0.4947 - val_loss: 0.6985 - val_accuracy: 0.5313\n",
      "Epoch 3/100\n",
      "263/263 [==============================] - 0s 1ms/step - loss: 0.6890 - accuracy: 0.5745 - val_loss: 0.6914 - val_accuracy: 0.5576\n",
      "Epoch 4/100\n",
      "263/263 [==============================] - 0s 1ms/step - loss: 0.6745 - accuracy: 0.6178 - val_loss: 0.6852 - val_accuracy: 0.5657\n",
      "Epoch 5/100\n",
      "263/263 [==============================] - 0s 1ms/step - loss: 0.6784 - accuracy: 0.5834 - val_loss: 0.6791 - val_accuracy: 0.5939\n",
      "Epoch 6/100\n",
      "263/263 [==============================] - 0s 1ms/step - loss: 0.6655 - accuracy: 0.5990 - val_loss: 0.6740 - val_accuracy: 0.5980\n",
      "Epoch 7/100\n",
      "263/263 [==============================] - 0s 2ms/step - loss: 0.6577 - accuracy: 0.5993 - val_loss: 0.6707 - val_accuracy: 0.6061\n",
      "Epoch 8/100\n",
      "263/263 [==============================] - 0s 1ms/step - loss: 0.6488 - accuracy: 0.6148 - val_loss: 0.6668 - val_accuracy: 0.6121\n",
      "Epoch 9/100\n",
      "263/263 [==============================] - 0s 1ms/step - loss: 0.6545 - accuracy: 0.6173 - val_loss: 0.6634 - val_accuracy: 0.6121\n",
      "Epoch 10/100\n",
      "263/263 [==============================] - 0s 1ms/step - loss: 0.6358 - accuracy: 0.6326 - val_loss: 0.6624 - val_accuracy: 0.6040\n",
      "Epoch 11/100\n",
      "263/263 [==============================] - 0s 1ms/step - loss: 0.6417 - accuracy: 0.6187 - val_loss: 0.6612 - val_accuracy: 0.6061\n",
      "Epoch 12/100\n",
      "263/263 [==============================] - 0s 2ms/step - loss: 0.6352 - accuracy: 0.6225 - val_loss: 0.6609 - val_accuracy: 0.6061\n",
      "Epoch 13/100\n",
      "263/263 [==============================] - 0s 1ms/step - loss: 0.6395 - accuracy: 0.6206 - val_loss: 0.6632 - val_accuracy: 0.6040\n",
      "Epoch 14/100\n",
      "263/263 [==============================] - 0s 2ms/step - loss: 0.6305 - accuracy: 0.6321 - val_loss: 0.6626 - val_accuracy: 0.6081\n",
      "Epoch 15/100\n",
      "263/263 [==============================] - 0s 1ms/step - loss: 0.6095 - accuracy: 0.6504 - val_loss: 0.6608 - val_accuracy: 0.6000\n",
      "Epoch 16/100\n",
      "263/263 [==============================] - 0s 1ms/step - loss: 0.6209 - accuracy: 0.6408 - val_loss: 0.6635 - val_accuracy: 0.6061\n",
      "Epoch 17/100\n",
      "263/263 [==============================] - 0s 1ms/step - loss: 0.6238 - accuracy: 0.6450 - val_loss: 0.6606 - val_accuracy: 0.5980\n",
      "Epoch 18/100\n",
      "263/263 [==============================] - 0s 1ms/step - loss: 0.6174 - accuracy: 0.6520 - val_loss: 0.6600 - val_accuracy: 0.5980\n",
      "Epoch 19/100\n",
      "263/263 [==============================] - 0s 1ms/step - loss: 0.6297 - accuracy: 0.6381 - val_loss: 0.6593 - val_accuracy: 0.6020\n",
      "Epoch 20/100\n",
      "263/263 [==============================] - 0s 1ms/step - loss: 0.6247 - accuracy: 0.6355 - val_loss: 0.6586 - val_accuracy: 0.6000\n",
      "Epoch 21/100\n",
      "263/263 [==============================] - 0s 2ms/step - loss: 0.6267 - accuracy: 0.6227 - val_loss: 0.6629 - val_accuracy: 0.6162\n",
      "Epoch 22/100\n",
      "263/263 [==============================] - 0s 2ms/step - loss: 0.6261 - accuracy: 0.6371 - val_loss: 0.6618 - val_accuracy: 0.6101\n",
      "Epoch 23/100\n",
      "263/263 [==============================] - 0s 2ms/step - loss: 0.6221 - accuracy: 0.6421 - val_loss: 0.6609 - val_accuracy: 0.5980\n",
      "Epoch 24/100\n",
      "263/263 [==============================] - 0s 1ms/step - loss: 0.6184 - accuracy: 0.6353 - val_loss: 0.6614 - val_accuracy: 0.6020\n",
      "Epoch 25/100\n",
      "263/263 [==============================] - 0s 2ms/step - loss: 0.6279 - accuracy: 0.6325 - val_loss: 0.6641 - val_accuracy: 0.6101\n",
      "Epoch 26/100\n",
      "263/263 [==============================] - 0s 1ms/step - loss: 0.6271 - accuracy: 0.6294 - val_loss: 0.6643 - val_accuracy: 0.6061\n",
      "Epoch 27/100\n",
      "263/263 [==============================] - 0s 1ms/step - loss: 0.5971 - accuracy: 0.6605 - val_loss: 0.6603 - val_accuracy: 0.6040\n",
      "Epoch 28/100\n",
      "263/263 [==============================] - 0s 1ms/step - loss: 0.6118 - accuracy: 0.6440 - val_loss: 0.6610 - val_accuracy: 0.6061\n",
      "Epoch 29/100\n",
      "263/263 [==============================] - 0s 1ms/step - loss: 0.6120 - accuracy: 0.6524 - val_loss: 0.6644 - val_accuracy: 0.6061\n",
      "Epoch 30/100\n",
      "263/263 [==============================] - 0s 2ms/step - loss: 0.5929 - accuracy: 0.6780 - val_loss: 0.6632 - val_accuracy: 0.6020\n",
      "Epoch 31/100\n",
      "263/263 [==============================] - 0s 2ms/step - loss: 0.6367 - accuracy: 0.6173 - val_loss: 0.6659 - val_accuracy: 0.6040\n",
      "Epoch 32/100\n",
      "263/263 [==============================] - 0s 1ms/step - loss: 0.6119 - accuracy: 0.6466 - val_loss: 0.6622 - val_accuracy: 0.6020\n",
      "Epoch 33/100\n",
      "263/263 [==============================] - 0s 1ms/step - loss: 0.6028 - accuracy: 0.6633 - val_loss: 0.6622 - val_accuracy: 0.6040\n",
      "Epoch 34/100\n",
      "263/263 [==============================] - 0s 1ms/step - loss: 0.6015 - accuracy: 0.6494 - val_loss: 0.6618 - val_accuracy: 0.6040\n",
      "Epoch 35/100\n",
      "263/263 [==============================] - 0s 1ms/step - loss: 0.6166 - accuracy: 0.6247 - val_loss: 0.6688 - val_accuracy: 0.6020\n",
      "Epoch 36/100\n",
      "263/263 [==============================] - 0s 1ms/step - loss: 0.6075 - accuracy: 0.6507 - val_loss: 0.6657 - val_accuracy: 0.6081\n",
      "Epoch 37/100\n",
      "263/263 [==============================] - 0s 1ms/step - loss: 0.6119 - accuracy: 0.6422 - val_loss: 0.6614 - val_accuracy: 0.6162\n",
      "Epoch 38/100\n",
      "263/263 [==============================] - 0s 1ms/step - loss: 0.6075 - accuracy: 0.6653 - val_loss: 0.6665 - val_accuracy: 0.6081\n",
      "Epoch 39/100\n",
      "263/263 [==============================] - 0s 1ms/step - loss: 0.6117 - accuracy: 0.6534 - val_loss: 0.6648 - val_accuracy: 0.6040\n",
      "Epoch 40/100\n",
      "263/263 [==============================] - 0s 1ms/step - loss: 0.6123 - accuracy: 0.6391 - val_loss: 0.6649 - val_accuracy: 0.6081\n",
      "Epoch 41/100\n",
      "263/263 [==============================] - 0s 1ms/step - loss: 0.6050 - accuracy: 0.6441 - val_loss: 0.6698 - val_accuracy: 0.6040\n",
      "Epoch 42/100\n",
      "263/263 [==============================] - 0s 2ms/step - loss: 0.6158 - accuracy: 0.6603 - val_loss: 0.6702 - val_accuracy: 0.6040\n",
      "Epoch 43/100\n",
      "263/263 [==============================] - 0s 1ms/step - loss: 0.6079 - accuracy: 0.6650 - val_loss: 0.6693 - val_accuracy: 0.6020\n",
      "Epoch 44/100\n",
      "263/263 [==============================] - 0s 1ms/step - loss: 0.6116 - accuracy: 0.6450 - val_loss: 0.6672 - val_accuracy: 0.6020\n",
      "Epoch 45/100\n",
      "263/263 [==============================] - 0s 1ms/step - loss: 0.6036 - accuracy: 0.6641 - val_loss: 0.6691 - val_accuracy: 0.5960\n",
      "Epoch 46/100\n",
      "263/263 [==============================] - 0s 1ms/step - loss: 0.6156 - accuracy: 0.6608 - val_loss: 0.6688 - val_accuracy: 0.6000\n",
      "Epoch 47/100\n",
      "263/263 [==============================] - 0s 1ms/step - loss: 0.6149 - accuracy: 0.6658 - val_loss: 0.6715 - val_accuracy: 0.5960\n",
      "Epoch 48/100\n",
      "263/263 [==============================] - 0s 1ms/step - loss: 0.5986 - accuracy: 0.6692 - val_loss: 0.6658 - val_accuracy: 0.6020\n",
      "Epoch 49/100\n",
      "263/263 [==============================] - 0s 1ms/step - loss: 0.5950 - accuracy: 0.6669 - val_loss: 0.6659 - val_accuracy: 0.6000\n",
      "Epoch 50/100\n",
      "263/263 [==============================] - 0s 1ms/step - loss: 0.6085 - accuracy: 0.6661 - val_loss: 0.6683 - val_accuracy: 0.6040\n",
      "Epoch 51/100\n",
      "263/263 [==============================] - 0s 1ms/step - loss: 0.6098 - accuracy: 0.6603 - val_loss: 0.6687 - val_accuracy: 0.5980\n",
      "Epoch 52/100\n",
      "263/263 [==============================] - 0s 1ms/step - loss: 0.6077 - accuracy: 0.6645 - val_loss: 0.6698 - val_accuracy: 0.6000\n",
      "Epoch 53/100\n",
      "263/263 [==============================] - 0s 1ms/step - loss: 0.6174 - accuracy: 0.6450 - val_loss: 0.6698 - val_accuracy: 0.5960\n",
      "Epoch 54/100\n",
      "263/263 [==============================] - 0s 1ms/step - loss: 0.6172 - accuracy: 0.6418 - val_loss: 0.6725 - val_accuracy: 0.5960\n",
      "Epoch 55/100\n",
      "263/263 [==============================] - 0s 1ms/step - loss: 0.6178 - accuracy: 0.6492 - val_loss: 0.6731 - val_accuracy: 0.5919\n",
      "Epoch 56/100\n",
      "263/263 [==============================] - 0s 1ms/step - loss: 0.6037 - accuracy: 0.6724 - val_loss: 0.6683 - val_accuracy: 0.5980\n",
      "Epoch 57/100\n",
      "263/263 [==============================] - 0s 1ms/step - loss: 0.5846 - accuracy: 0.6908 - val_loss: 0.6696 - val_accuracy: 0.5980\n"
     ]
    },
    {
     "name": "stdout",
     "output_type": "stream",
     "text": [
      "Epoch 58/100\n",
      "263/263 [==============================] - 0s 1ms/step - loss: 0.6016 - accuracy: 0.6549 - val_loss: 0.6682 - val_accuracy: 0.6000\n",
      "Epoch 59/100\n",
      "263/263 [==============================] - 0s 1ms/step - loss: 0.5926 - accuracy: 0.6699 - val_loss: 0.6735 - val_accuracy: 0.6000\n",
      "Epoch 60/100\n",
      "263/263 [==============================] - 0s 1ms/step - loss: 0.5885 - accuracy: 0.6758 - val_loss: 0.6721 - val_accuracy: 0.5899\n",
      "Epoch 61/100\n",
      "263/263 [==============================] - 0s 1ms/step - loss: 0.6030 - accuracy: 0.6626 - val_loss: 0.6712 - val_accuracy: 0.5939\n",
      "Epoch 62/100\n",
      "263/263 [==============================] - 0s 1ms/step - loss: 0.5894 - accuracy: 0.6801 - val_loss: 0.6699 - val_accuracy: 0.6081\n",
      "Epoch 63/100\n",
      "263/263 [==============================] - 0s 1ms/step - loss: 0.5919 - accuracy: 0.6775 - val_loss: 0.6752 - val_accuracy: 0.5980\n",
      "Epoch 64/100\n",
      "263/263 [==============================] - 0s 1ms/step - loss: 0.6054 - accuracy: 0.6738 - val_loss: 0.6736 - val_accuracy: 0.5919\n",
      "Epoch 65/100\n",
      "263/263 [==============================] - 0s 1ms/step - loss: 0.5878 - accuracy: 0.6786 - val_loss: 0.6751 - val_accuracy: 0.5980\n",
      "Epoch 66/100\n",
      "263/263 [==============================] - 0s 1ms/step - loss: 0.5672 - accuracy: 0.7043 - val_loss: 0.6718 - val_accuracy: 0.5980\n",
      "Epoch 67/100\n",
      "263/263 [==============================] - 0s 1ms/step - loss: 0.6045 - accuracy: 0.6596 - val_loss: 0.6758 - val_accuracy: 0.5980\n",
      "Epoch 68/100\n",
      "263/263 [==============================] - 0s 1ms/step - loss: 0.6091 - accuracy: 0.6576 - val_loss: 0.6730 - val_accuracy: 0.6020\n",
      "Epoch 69/100\n",
      "263/263 [==============================] - 0s 1ms/step - loss: 0.5772 - accuracy: 0.6888 - val_loss: 0.6754 - val_accuracy: 0.5980\n",
      "Epoch 70/100\n",
      "263/263 [==============================] - 0s 1ms/step - loss: 0.5948 - accuracy: 0.6779 - val_loss: 0.6786 - val_accuracy: 0.5879\n",
      "Epoch 71/100\n",
      "263/263 [==============================] - 0s 1ms/step - loss: 0.5864 - accuracy: 0.6832 - val_loss: 0.6728 - val_accuracy: 0.6081\n",
      "Epoch 72/100\n",
      "263/263 [==============================] - 0s 1ms/step - loss: 0.5952 - accuracy: 0.6595 - val_loss: 0.6773 - val_accuracy: 0.5859\n",
      "Epoch 73/100\n",
      "263/263 [==============================] - 0s 1ms/step - loss: 0.5886 - accuracy: 0.6647 - val_loss: 0.6800 - val_accuracy: 0.5818\n",
      "Epoch 74/100\n",
      "263/263 [==============================] - 0s 1ms/step - loss: 0.5994 - accuracy: 0.6763 - val_loss: 0.6822 - val_accuracy: 0.5879\n",
      "Epoch 75/100\n",
      "263/263 [==============================] - 0s 1ms/step - loss: 0.5877 - accuracy: 0.6880 - val_loss: 0.6776 - val_accuracy: 0.5838\n",
      "Epoch 76/100\n",
      "263/263 [==============================] - 0s 1ms/step - loss: 0.5925 - accuracy: 0.6758 - val_loss: 0.6760 - val_accuracy: 0.5879\n",
      "Epoch 77/100\n",
      "263/263 [==============================] - 0s 1ms/step - loss: 0.5945 - accuracy: 0.6583 - val_loss: 0.6763 - val_accuracy: 0.5798\n",
      "Epoch 78/100\n",
      "263/263 [==============================] - 0s 1ms/step - loss: 0.5802 - accuracy: 0.6948 - val_loss: 0.6806 - val_accuracy: 0.5737\n",
      "Epoch 79/100\n",
      "263/263 [==============================] - 0s 1ms/step - loss: 0.5859 - accuracy: 0.6965 - val_loss: 0.6769 - val_accuracy: 0.5859\n",
      "Epoch 80/100\n",
      "263/263 [==============================] - 0s 1ms/step - loss: 0.5790 - accuracy: 0.6714 - val_loss: 0.6787 - val_accuracy: 0.5838\n",
      "Epoch 81/100\n",
      "263/263 [==============================] - 0s 1ms/step - loss: 0.5775 - accuracy: 0.7062 - val_loss: 0.6770 - val_accuracy: 0.5818\n",
      "Epoch 82/100\n",
      "263/263 [==============================] - 0s 1ms/step - loss: 0.5923 - accuracy: 0.6699 - val_loss: 0.6773 - val_accuracy: 0.5919\n",
      "Epoch 83/100\n",
      "263/263 [==============================] - 0s 1ms/step - loss: 0.5961 - accuracy: 0.6815 - val_loss: 0.6835 - val_accuracy: 0.5758\n",
      "Epoch 84/100\n",
      "263/263 [==============================] - 0s 1ms/step - loss: 0.5847 - accuracy: 0.6792 - val_loss: 0.6795 - val_accuracy: 0.5798\n",
      "Epoch 85/100\n",
      "263/263 [==============================] - 0s 1ms/step - loss: 0.5846 - accuracy: 0.6871 - val_loss: 0.6777 - val_accuracy: 0.5737\n",
      "Epoch 86/100\n",
      "263/263 [==============================] - 0s 1ms/step - loss: 0.5845 - accuracy: 0.6844 - val_loss: 0.6794 - val_accuracy: 0.5838\n",
      "Epoch 87/100\n",
      "263/263 [==============================] - 0s 1ms/step - loss: 0.5694 - accuracy: 0.6851 - val_loss: 0.6904 - val_accuracy: 0.5879\n",
      "Epoch 88/100\n",
      "263/263 [==============================] - 0s 1ms/step - loss: 0.5778 - accuracy: 0.6909 - val_loss: 0.6804 - val_accuracy: 0.5798\n",
      "Epoch 89/100\n",
      "263/263 [==============================] - 0s 1ms/step - loss: 0.5703 - accuracy: 0.6928 - val_loss: 0.6788 - val_accuracy: 0.5778\n",
      "Epoch 90/100\n",
      "263/263 [==============================] - 0s 1ms/step - loss: 0.5726 - accuracy: 0.7000 - val_loss: 0.6831 - val_accuracy: 0.5778\n",
      "Epoch 91/100\n",
      "263/263 [==============================] - 0s 1ms/step - loss: 0.5912 - accuracy: 0.6742 - val_loss: 0.6838 - val_accuracy: 0.5818\n",
      "Epoch 92/100\n",
      "263/263 [==============================] - 0s 1ms/step - loss: 0.5725 - accuracy: 0.7028 - val_loss: 0.6842 - val_accuracy: 0.5798\n",
      "Epoch 93/100\n",
      "263/263 [==============================] - 0s 1ms/step - loss: 0.5753 - accuracy: 0.6867 - val_loss: 0.6909 - val_accuracy: 0.5677\n",
      "Epoch 94/100\n",
      "263/263 [==============================] - 0s 1ms/step - loss: 0.5826 - accuracy: 0.6954 - val_loss: 0.6931 - val_accuracy: 0.5818\n",
      "Epoch 95/100\n",
      "263/263 [==============================] - 0s 1ms/step - loss: 0.5667 - accuracy: 0.7005 - val_loss: 0.6829 - val_accuracy: 0.5778\n",
      "Epoch 96/100\n",
      "263/263 [==============================] - 0s 1ms/step - loss: 0.5983 - accuracy: 0.6725 - val_loss: 0.6940 - val_accuracy: 0.5818\n",
      "Epoch 97/100\n",
      "263/263 [==============================] - 0s 1ms/step - loss: 0.5848 - accuracy: 0.6818 - val_loss: 0.6914 - val_accuracy: 0.5778\n",
      "Epoch 98/100\n",
      "263/263 [==============================] - 0s 1ms/step - loss: 0.5659 - accuracy: 0.6953 - val_loss: 0.6937 - val_accuracy: 0.5677\n",
      "Epoch 99/100\n",
      "263/263 [==============================] - 0s 1ms/step - loss: 0.5682 - accuracy: 0.6858 - val_loss: 0.6932 - val_accuracy: 0.5697\n",
      "Epoch 100/100\n",
      "263/263 [==============================] - 0s 1ms/step - loss: 0.5756 - accuracy: 0.6687 - val_loss: 0.6926 - val_accuracy: 0.5697\n"
     ]
    }
   ],
   "source": [
    "model = Sequential()\n",
    "model.add(Dense(10, kernel_initializer=\"glorot_uniform\",input_dim=8, activation='relu'))\n",
    "model.add(Dense(8, kernel_initializer=\"glorot_uniform\",activation='relu'))\n",
    "model.add(Dense(1, kernel_initializer=\"glorot_uniform\",activation='sigmoid'))\n",
    "# Compile the DNN\n",
    "\n",
    "model.compile(loss='binary_crossentropy', optimizer='adam', metrics=['accuracy'])\n",
    "# Fit the DNN with your train data\n",
    "\n",
    "DL_modelu= model.fit(X_trainu, Y_trainu, validation_data=(X_validu, Y_validu), epochs=100, batch_size=5)"
   ]
  },
  {
   "cell_type": "code",
   "execution_count": 76,
   "metadata": {},
   "outputs": [
    {
     "data": {
      "image/png": "[encoded data removed]",
      "text/plain": [
       "<Figure size 432x288 with 1 Axes>"
      ]
     },
     "metadata": {
      "needs_background": "light"
     },
     "output_type": "display_data"
    }
   ],
   "source": [
    "import matplotlib.pyplot as plt\n",
    "# Get training and test loss histories\n",
    "training_loss = DL_modelu.history['loss']\n",
    "test_loss = DL_modelu.history['val_loss']\n",
    "\n",
    "# Create count of the number of epochs\n",
    "epoch_count = range(1, len(training_loss) + 1)\n",
    "\n",
    "# Visualize loss history\n",
    "plt.plot(epoch_count, training_loss, 'g--')\n",
    "plt.plot(epoch_count, test_loss, 'y-')\n",
    "plt.legend(['Training Loss', 'Valid Loss'])\n",
    "plt.xlabel('Epoch')\n",
    "plt.ylabel('Loss')\n",
    "plt.show();"
   ]
  },
  {
   "cell_type": "code",
   "execution_count": 77,
   "metadata": {},
   "outputs": [
    {
     "data": {
      "image/png": "[encoded data removed]",
      "text/plain": [
       "<Figure size 432x288 with 1 Axes>"
      ]
     },
     "metadata": {
      "needs_background": "light"
     },
     "output_type": "display_data"
    }
   ],
   "source": [
    "# Get training and test loss histories\n",
    "training_loss = DL_modelu.history['accuracy']\n",
    "test_loss = DL_modelu.history['val_accuracy']\n",
    "\n",
    "# Create count of the number of epochs\n",
    "epoch_count = range(1, len(training_loss) + 1)\n",
    "\n",
    "# Visualize loss history\n",
    "plt.plot(epoch_count, training_loss, 'g--')\n",
    "plt.plot(epoch_count, test_loss, 'y-')\n",
    "plt.legend(['Training Accuracy', 'Valid Accuracy'])\n",
    "plt.xlabel('Epoch')\n",
    "plt.ylabel('Accuracy')\n",
    "plt.show();"
   ]
  },
  {
   "cell_type": "code",
   "execution_count": 78,
   "metadata": {},
   "outputs": [
    {
     "name": "stdout",
     "output_type": "stream",
     "text": [
      "31/31 [==============================] - 0s 1ms/step - loss: 0.7002 - accuracy: 0.5701\n",
      "Accuracy: 57.01%\n"
     ]
    }
   ],
   "source": [
    "# Evaluate the model\n",
    "scores = model.evaluate(X_testu, Y_testu)\n",
    "print (\"Accuracy: %.2f%%\" %(scores[1]*100))"
   ]
  },
  {
   "cell_type": "code",
   "execution_count": 79,
   "metadata": {},
   "outputs": [
    {
     "data": {
      "image/png": "[encoded data removed]",
      "text/plain": [
       "<Figure size 432x288 with 1 Axes>"
      ]
     },
     "metadata": {
      "needs_background": "light"
     },
     "output_type": "display_data"
    },
    {
     "data": {
      "text/plain": [
       "0.6159329654608624"
      ]
     },
     "execution_count": 79,
     "metadata": {},
     "output_type": "execute_result"
    }
   ],
   "source": [
    "DNN_Predu = model.predict(X_testu).ravel()\n",
    "rec, fall_out, thresholds = roc_curve(Y_testu,DNN_Predu)\n",
    "\n",
    "from sklearn.metrics import classification_report,roc_curve,roc_auc_score\n",
    "rec, fall_out, thresholds = roc_curve(Y_testu,DNN_Predu)\n",
    "plt.plot([0,1],[0,1],'k--')\n",
    "plt.plot(rec,fall_out, label='Knn')\n",
    "plt.xlabel('Output')\n",
    "plt.ylabel('Accuracy')\n",
    "plt.title('Deep Learning ROC curve')\n",
    "plt.show()\n",
    "\n",
    "roc_auc_score(Y_testu,DNN_Predu)"
   ]
  },
  {
   "cell_type": "markdown",
   "metadata": {},
   "source": [
    "Accuracy Score for DNN model: 75.83%\n",
    "AUC value: 0.810"
   ]
  }
 ],
 "metadata": {
  "kernelspec": {
   "display_name": "Python 3",
   "language": "python",
   "name": "python3"
  },
  "language_info": {
   "codemirror_mode": {
    "name": "ipython",
    "version": 3
   },
   "file_extension": ".py",
   "mimetype": "text/x-python",
   "name": "python",
   "nbconvert_exporter": "python",
   "pygments_lexer": "ipython3",
   "version": "3.6.13"
  }
 },
 "nbformat": 4,
 "nbformat_minor": 2
}

{
 "cells": [
  {
   "cell_type": "markdown",
   "metadata": {},
   "source": [
    "Name:Tharoon Kumar Viswanathan\n",
    "NU-Id:001585510"
   ]
  },
  {
   "cell_type": "code",
   "execution_count": 1,
   "metadata": {
    "collapsed": true
   },
   "outputs": [],
   "source": [
    "'''Import all necessary packages...pandas for data munging, \n",
    "sklearn's data preprocessing module, seaborn for data visualization\n",
    "%matplotlib for making any plots show up inside of this notebook.\n",
    "joblib for saving models (serialize/deserialize module). We will discuss\n",
    "each of these packages as we use them for our analysis'''\n",
    "\n",
    "import pandas as pd\n",
    "from pandas.api.types import is_string_dtype,is_numeric_dtype\n",
    "from sklearn import preprocessing\n",
    "from sklearn.neighbors import KNeighborsClassifier\n",
    "from sklearn.metrics import confusion_matrix,accuracy_score,matthews_corrcoef,f1_score\n",
    "from sklearn.externals import joblib\n",
    "from matplotlib import pyplot as plt\n",
    "import seaborn as sns\n",
    "import joblib\n",
    "\n",
    "%matplotlib inline"
   ]
  },
  {
   "cell_type": "code",
   "execution_count": 2,
   "metadata": {},
   "outputs": [
    {
     "data": {
      "text/plain": [
       "'D:\\\\Information system\\\\Sem 1\\\\Info 6105\\\\knn_model_assignment_fin'"
      ]
     },
     "execution_count": 2,
     "metadata": {},
     "output_type": "execute_result"
    }
   ],
   "source": [
    "#Check the path to the directory where you are currently in\n",
    "%pwd"
   ]
  },
  {
   "cell_type": "code",
   "execution_count": 3,
   "metadata": {
    "collapsed": true
   },
   "outputs": [],
   "source": [
    "'''Define a variable that points to this. This will let you avoid typing\n",
    "the long path everytime you need to use it'''\n",
    "\n",
    "my_path = 'D:\\\\Information system\\\\Sem 1\\\\Info 6105'"
   ]
  },
  {
   "cell_type": "markdown",
   "metadata": {},
   "source": [
    "# II. Reading data into the notebook"
   ]
  },
  {
   "cell_type": "code",
   "execution_count": 4,
   "metadata": {},
   "outputs": [
    {
     "name": "stdout",
     "output_type": "stream",
     "text": [
      "(1309, 12)\n"
     ]
    },
    {
     "data": {
      "text/html": [
       "<div>\n",
       "<style>\n",
       "    .dataframe thead tr:only-child th {\n",
       "        text-align: right;\n",
       "    }\n",
       "\n",
       "    .dataframe thead th {\n",
       "        text-align: left;\n",
       "    }\n",
       "\n",
       "    .dataframe tbody tr th {\n",
       "        vertical-align: top;\n",
       "    }\n",
       "</style>\n",
       "<table border=\"1\" class=\"dataframe\">\n",
       "  <thead>\n",
       "    <tr style=\"text-align: right;\">\n",
       "      <th></th>\n",
       "      <th>PassengerId</th>\n",
       "      <th>Survived</th>\n",
       "      <th>Pclass</th>\n",
       "      <th>Name</th>\n",
       "      <th>Sex</th>\n",
       "      <th>Age</th>\n",
       "      <th>SibSp</th>\n",
       "      <th>Parch</th>\n",
       "      <th>Ticket</th>\n",
       "      <th>Fare</th>\n",
       "      <th>Cabin</th>\n",
       "      <th>Embarked</th>\n",
       "    </tr>\n",
       "  </thead>\n",
       "  <tbody>\n",
       "    <tr>\n",
       "      <th>0</th>\n",
       "      <td>1</td>\n",
       "      <td>0</td>\n",
       "      <td>3</td>\n",
       "      <td>Braund, Mr. Owen Harris</td>\n",
       "      <td>male</td>\n",
       "      <td>22.0</td>\n",
       "      <td>1</td>\n",
       "      <td>0</td>\n",
       "      <td>A/5 21171</td>\n",
       "      <td>7.2500</td>\n",
       "      <td>NaN</td>\n",
       "      <td>S</td>\n",
       "    </tr>\n",
       "    <tr>\n",
       "      <th>1</th>\n",
       "      <td>2</td>\n",
       "      <td>1</td>\n",
       "      <td>1</td>\n",
       "      <td>Cumings, Mrs. John Bradley (Florence Briggs Th...</td>\n",
       "      <td>female</td>\n",
       "      <td>38.0</td>\n",
       "      <td>1</td>\n",
       "      <td>0</td>\n",
       "      <td>PC 17599</td>\n",
       "      <td>71.2833</td>\n",
       "      <td>C85</td>\n",
       "      <td>C</td>\n",
       "    </tr>\n",
       "    <tr>\n",
       "      <th>2</th>\n",
       "      <td>3</td>\n",
       "      <td>1</td>\n",
       "      <td>3</td>\n",
       "      <td>Heikkinen, Miss. Laina</td>\n",
       "      <td>female</td>\n",
       "      <td>26.0</td>\n",
       "      <td>0</td>\n",
       "      <td>0</td>\n",
       "      <td>STON/O2. 3101282</td>\n",
       "      <td>7.9250</td>\n",
       "      <td>NaN</td>\n",
       "      <td>S</td>\n",
       "    </tr>\n",
       "  </tbody>\n",
       "</table>\n",
       "</div>"
      ],
      "text/plain": [
       "   PassengerId  Survived  Pclass  \\\n",
       "0            1         0       3   \n",
       "1            2         1       1   \n",
       "2            3         1       3   \n",
       "\n",
       "                                                Name     Sex   Age  SibSp  \\\n",
       "0                            Braund, Mr. Owen Harris    male  22.0      1   \n",
       "1  Cumings, Mrs. John Bradley (Florence Briggs Th...  female  38.0      1   \n",
       "2                             Heikkinen, Miss. Laina  female  26.0      0   \n",
       "\n",
       "   Parch            Ticket     Fare Cabin Embarked  \n",
       "0      0         A/5 21171   7.2500   NaN        S  \n",
       "1      0          PC 17599  71.2833   C85        C  \n",
       "2      0  STON/O2. 3101282   7.9250   NaN        S  "
      ]
     },
     "execution_count": 4,
     "metadata": {},
     "output_type": "execute_result"
    }
   ],
   "source": [
    "'''We will use the Titanic dataset, as supplied here (Titanic_full.csv).\n",
    "The same dataset can be downloaded from the Kaggle website. Check the\n",
    "shape and header of the data you just read in as a dataframe. The use of\n",
    "f and {} is specific to the recent versions of Python (3.x). You can as \n",
    "well type the full path here, and that works too!'''\n",
    "\n",
    "my_df = pd.read_csv(f'{my_path}/Titanic_full.csv')\n",
    "print(my_df.shape)\n",
    "my_df.head(3)"
   ]
  },
  {
   "cell_type": "markdown",
   "metadata": {},
   "source": [
    "# III. Train - Valid- Test Split"
   ]
  },
  {
   "cell_type": "code",
   "execution_count": 5,
   "metadata": {},
   "outputs": [
    {
     "name": "stdout",
     "output_type": "stream",
     "text": [
      "(1100, 12) (209, 12)\n"
     ]
    }
   ],
   "source": [
    "'''As we have seen, it's important to avoid the Texas sharp shooter logical\n",
    "fallacy. So, we plit the data into three sets in a 70-15-15 manner. \n",
    "This means 70% of the data rows go into building or training the model. \n",
    "This 70% is often called a training set. 15% of the data goes into \n",
    "evaluating model performance as you manually change or set the model \n",
    "hyperparameters (e.g. Value of K is a hyperparameter,in K-NN algorithm). \n",
    "This dataset is sometimes called a holdout set or the validation set. \n",
    "Finally, the last 15% of the data is the test set.  This dataset is \n",
    "never \"seen\" by the model for model building or hyperparamter tuning. After\n",
    "hyperparameter tuning and model selection, which we will discuss later,\n",
    "the model's final performance before sneidng it to production, will be\n",
    "evalauted on this test data set.\n",
    "The way the datarows are distributed will depend on the type of problem. \n",
    "Here, assuming the datarows of my_df are randomly arranged, and there's\n",
    "no time component, we will simply simply do the split, using a split \n",
    "function that we define. Also, this 15% split \n",
    "for the test set may change, if the actual test set size is predefined. \n",
    "In any case we will make sure the test set we choose from our dataset \n",
    "is as similar as it can get to the actual data that it will see in \n",
    "production'''\n",
    "\n",
    "#Calculate 15% of 1309. This is about 209 rows of data. \n",
    "#So, 1309 - 209 = 1100 rows of data will remain for the\n",
    "#train and valid sets which we will separate later. 200 rows of data will\n",
    "#go as test set data\n",
    "\n",
    "def mydf_splitter(my_df,num_rows):\n",
    "    return my_df[:num_rows].copy(),my_df[num_rows:]\n",
    "\n",
    "\n",
    "mydf_train_valid,mydf_test = mydf_splitter(my_df,1100)\n",
    "\n",
    "print(mydf_train_valid.shape,mydf_test.shape)\n",
    "\n",
    "#We are going to put away the mydf_test for now. \n",
    "#We will return to it later."
   ]
  },
  {
   "cell_type": "markdown",
   "metadata": {},
   "source": [
    "# IV. Data Pre-processing"
   ]
  },
  {
   "cell_type": "code",
   "execution_count": 6,
   "metadata": {},
   "outputs": [
    {
     "data": {
      "text/plain": [
       "<matplotlib.axes._subplots.AxesSubplot at 0x187f470e2b0>"
      ]
     },
     "execution_count": 6,
     "metadata": {},
     "output_type": "execute_result"
    },
    {
     "data": {
      "image/png": "[encoded data removed]",
      "text/plain": [
       "<matplotlib.figure.Figure at 0x187f470e8d0>"
      ]
     },
     "metadata": {},
     "output_type": "display_data"
    }
   ],
   "source": [
    "''' Deal with missing values. First, calculate the percentage of\n",
    "missing values for every column, and plot them as a bar chart'''\n",
    "\n",
    "null_vals = mydf_train_valid.isnull().sum()/len(mydf_train_valid)*100\n",
    "null_vals = pd.DataFrame(null_vals)\n",
    "null_vals.reset_index(inplace = True)\n",
    "null_vals.columns = [\"Feature\",\"Percent missing\"]\n",
    "plt.figure(figsize = (8,6))\n",
    "plt.xticks(rotation=45)\n",
    "sns.barplot(x = \"Feature\",y =\"Percent missing\",data = null_vals)"
   ]
  },
  {
   "cell_type": "markdown",
   "metadata": {},
   "source": [
    "From the above plot, it looks like Cabin has ~80%missing values.\n",
    "It would be meaningless to impute or fill in 80% values, so we drop the column.\n",
    "We will impute age (which has ~ 20% missing, but we'll try to impute),\n",
    "Fare, and Embarked column.These have very little missing values\n",
    "\n",
    "We are going to preprocess this dataset in these steps--\n",
    "\n",
    "1. Convert the entire dataframe to an array of numbers. This itself is going to happen in two steps -- (a) Convert object types and string types to category type (b) map and convert cateogries of numbers.\n",
    "\n",
    "2. Impute or \"fill in\" missing values or NaNs. Here, continuous (e.g. Fare column) and categorical values are treated separately. For filling up missing continuous values, we use the median value of that column, and filling up missing categorical values, we use 0. Also, we add a separate \"marker\" column for both that notes whether a value has been imputed or not.\n",
    "\n",
    "3. Finally, for a lot of the algorithms like k-NN, we scale the data to lie between 0 and 1 with mean zero and unit variance.\n"
   ]
  },
  {
   "cell_type": "code",
   "execution_count": 7,
   "metadata": {},
   "outputs": [
    {
     "name": "stdout",
     "output_type": "stream",
     "text": [
      "(1100, 11)\n"
     ]
    },
    {
     "data": {
      "text/html": [
       "<div>\n",
       "<style>\n",
       "    .dataframe thead tr:only-child th {\n",
       "        text-align: right;\n",
       "    }\n",
       "\n",
       "    .dataframe thead th {\n",
       "        text-align: left;\n",
       "    }\n",
       "\n",
       "    .dataframe tbody tr th {\n",
       "        vertical-align: top;\n",
       "    }\n",
       "</style>\n",
       "<table border=\"1\" class=\"dataframe\">\n",
       "  <thead>\n",
       "    <tr style=\"text-align: right;\">\n",
       "      <th></th>\n",
       "      <th>PassengerId</th>\n",
       "      <th>Survived</th>\n",
       "      <th>Pclass</th>\n",
       "      <th>Name</th>\n",
       "      <th>Sex</th>\n",
       "      <th>Age</th>\n",
       "      <th>SibSp</th>\n",
       "      <th>Parch</th>\n",
       "      <th>Ticket</th>\n",
       "      <th>Fare</th>\n",
       "      <th>Embarked</th>\n",
       "    </tr>\n",
       "  </thead>\n",
       "  <tbody>\n",
       "    <tr>\n",
       "      <th>0</th>\n",
       "      <td>1</td>\n",
       "      <td>0</td>\n",
       "      <td>3</td>\n",
       "      <td>Braund, Mr. Owen Harris</td>\n",
       "      <td>male</td>\n",
       "      <td>22.0</td>\n",
       "      <td>1</td>\n",
       "      <td>0</td>\n",
       "      <td>A/5 21171</td>\n",
       "      <td>7.2500</td>\n",
       "      <td>S</td>\n",
       "    </tr>\n",
       "    <tr>\n",
       "      <th>1</th>\n",
       "      <td>2</td>\n",
       "      <td>1</td>\n",
       "      <td>1</td>\n",
       "      <td>Cumings, Mrs. John Bradley (Florence Briggs Th...</td>\n",
       "      <td>female</td>\n",
       "      <td>38.0</td>\n",
       "      <td>1</td>\n",
       "      <td>0</td>\n",
       "      <td>PC 17599</td>\n",
       "      <td>71.2833</td>\n",
       "      <td>C</td>\n",
       "    </tr>\n",
       "  </tbody>\n",
       "</table>\n",
       "</div>"
      ],
      "text/plain": [
       "   PassengerId  Survived  Pclass  \\\n",
       "0            1         0       3   \n",
       "1            2         1       1   \n",
       "\n",
       "                                                Name     Sex   Age  SibSp  \\\n",
       "0                            Braund, Mr. Owen Harris    male  22.0      1   \n",
       "1  Cumings, Mrs. John Bradley (Florence Briggs Th...  female  38.0      1   \n",
       "\n",
       "   Parch     Ticket     Fare Embarked  \n",
       "0      0  A/5 21171   7.2500        S  \n",
       "1      0   PC 17599  71.2833        C  "
      ]
     },
     "execution_count": 7,
     "metadata": {},
     "output_type": "execute_result"
    }
   ],
   "source": [
    "mydf_train_valid_2 = mydf_train_valid.drop(\"Cabin\",axis = 1)\n",
    "print(mydf_train_valid_2.shape)\n",
    "mydf_train_valid_2.head(2)"
   ]
  },
  {
   "cell_type": "code",
   "execution_count": 8,
   "metadata": {},
   "outputs": [
    {
     "name": "stdout",
     "output_type": "stream",
     "text": [
      "<class 'pandas.core.frame.DataFrame'>\n",
      "RangeIndex: 1100 entries, 0 to 1099\n",
      "Data columns (total 11 columns):\n",
      "PassengerId    1100 non-null int64\n",
      "Survived       1100 non-null int64\n",
      "Pclass         1100 non-null int64\n",
      "Name           1100 non-null object\n",
      "Sex            1100 non-null object\n",
      "Age            881 non-null float64\n",
      "SibSp          1100 non-null int64\n",
      "Parch          1100 non-null int64\n",
      "Ticket         1100 non-null object\n",
      "Fare           1099 non-null float64\n",
      "Embarked       1098 non-null object\n",
      "dtypes: float64(2), int64(5), object(4)\n",
      "memory usage: 94.6+ KB\n"
     ]
    }
   ],
   "source": [
    "#Check types of each column with the dataframe info () method\n",
    "mydf_train_valid_2.info()"
   ]
  },
  {
   "cell_type": "code",
   "execution_count": 9,
   "metadata": {
    "collapsed": true
   },
   "outputs": [],
   "source": [
    "'''You can see that several of the columns or features are \"object\" type\n",
    "These need to be changed to category before we can convert those to \n",
    "mappings and numbers'''\n",
    "#1 (a) Define a function to convert object types and string types to category type\n",
    "\n",
    "def str_to_cat(my_df):\n",
    "    for p,q in my_df.items(): #my_df.items() is a generator in Python\n",
    "        if is_string_dtype(q): \n",
    "            my_df[p] = q.astype('category').cat.as_ordered()\n",
    "    return my_df"
   ]
  },
  {
   "cell_type": "code",
   "execution_count": 10,
   "metadata": {},
   "outputs": [
    {
     "name": "stdout",
     "output_type": "stream",
     "text": [
      "\n"
     ]
    }
   ],
   "source": [
    "mydf_train_valid_3 = str_to_cat(mydf_train_valid_2)\n",
    "print()"
   ]
  },
  {
   "cell_type": "code",
   "execution_count": 11,
   "metadata": {},
   "outputs": [
    {
     "name": "stdout",
     "output_type": "stream",
     "text": [
      "<class 'pandas.core.frame.DataFrame'>\n",
      "RangeIndex: 1100 entries, 0 to 1099\n",
      "Data columns (total 11 columns):\n",
      "PassengerId    1100 non-null int64\n",
      "Survived       1100 non-null int64\n",
      "Pclass         1100 non-null int64\n",
      "Name           1100 non-null category\n",
      "Sex            1100 non-null category\n",
      "Age            881 non-null float64\n",
      "SibSp          1100 non-null int64\n",
      "Parch          1100 non-null int64\n",
      "Ticket         1100 non-null category\n",
      "Fare           1099 non-null float64\n",
      "Embarked       1098 non-null category\n",
      "dtypes: category(4), float64(2), int64(5)\n",
      "memory usage: 161.8 KB\n"
     ]
    }
   ],
   "source": [
    "#Check dtypes of columns after this operation\n",
    "mydf_train_valid_3.info()"
   ]
  },
  {
   "cell_type": "code",
   "execution_count": 12,
   "metadata": {},
   "outputs": [
    {
     "name": "stdout",
     "output_type": "stream",
     "text": [
      "Index(['C', 'Q', 'S'], dtype='object')\n",
      "Index(['female', 'male'], dtype='object')\n"
     ]
    }
   ],
   "source": [
    "'''Check the cateogry mapping for Embarked and Sex column. We need this\n",
    "later'''\n",
    "print(mydf_train_valid_3.Embarked.cat.categories)\n",
    "print(mydf_train_valid_3.Sex.cat.categories)"
   ]
  },
  {
   "cell_type": "markdown",
   "metadata": {},
   "source": [
    "All object categories like Name, Sex, and Ticket have been converted to\n",
    "Category dtype !"
   ]
  },
  {
   "cell_type": "code",
   "execution_count": 13,
   "metadata": {
    "collapsed": true
   },
   "outputs": [],
   "source": [
    "'''Define impute functions. Impute categorical NaNs with -1, \n",
    "where we add 1 to make it 0. For each \n",
    "continuous variables, we impute missing values with median values of that\n",
    "column, and for every variable\n",
    "where any rows were imputed, add a separate 'imputed or not' column'''\n",
    "\n",
    "def mydf_to_nums(my_df, feature, null_status):\n",
    "    if not is_numeric_dtype(feature):\n",
    "        my_df[null_status] = feature.cat.codes + 1\n",
    "        \n",
    "def mydf_imputer(my_df, feature, null_status, null_table):\n",
    "    if is_numeric_dtype(feature):\n",
    "        if pd.isnull(feature).sum() or (null_status in null_table):\n",
    "            my_df[null_status+'_na'] = pd.isnull(feature)\n",
    "            filler = null_table[null_status] if null_status in null_table else feature.median()\n",
    "            my_df[null_status] = feature.fillna(filler)\n",
    "            null_table[null_status] = filler\n",
    "    return null_table   \n",
    "\n",
    "def mydf_preprocessor(my_df, null_table):\n",
    "    '''null_table  = your table or None'''\n",
    "    \n",
    "    if null_table is None: \n",
    "        null_table = dict()\n",
    "    for p,q in my_df.items(): \n",
    "        null_table = mydf_imputer(my_df, q, p, null_table)\n",
    "    for p,q in my_df.items(): \n",
    "        mydf_to_nums(my_df, q, p)\n",
    "    my_df = pd.get_dummies(my_df, dummy_na = True)\n",
    "    res = [my_df, null_table]\n",
    "    return res"
   ]
  },
  {
   "cell_type": "code",
   "execution_count": 14,
   "metadata": {
    "collapsed": true
   },
   "outputs": [],
   "source": [
    "mydf_train_valid_4,my_table = mydf_preprocessor(mydf_train_valid_3,null_table = None)"
   ]
  },
  {
   "cell_type": "code",
   "execution_count": 15,
   "metadata": {},
   "outputs": [
    {
     "data": {
      "text/html": [
       "<div>\n",
       "<style>\n",
       "    .dataframe thead tr:only-child th {\n",
       "        text-align: right;\n",
       "    }\n",
       "\n",
       "    .dataframe thead th {\n",
       "        text-align: left;\n",
       "    }\n",
       "\n",
       "    .dataframe tbody tr th {\n",
       "        vertical-align: top;\n",
       "    }\n",
       "</style>\n",
       "<table border=\"1\" class=\"dataframe\">\n",
       "  <thead>\n",
       "    <tr style=\"text-align: right;\">\n",
       "      <th></th>\n",
       "      <th>PassengerId</th>\n",
       "      <th>Survived</th>\n",
       "      <th>Pclass</th>\n",
       "      <th>Name</th>\n",
       "      <th>Sex</th>\n",
       "      <th>Age</th>\n",
       "      <th>SibSp</th>\n",
       "      <th>Parch</th>\n",
       "      <th>Ticket</th>\n",
       "      <th>Fare</th>\n",
       "      <th>Embarked</th>\n",
       "      <th>Age_na</th>\n",
       "      <th>Fare_na</th>\n",
       "    </tr>\n",
       "  </thead>\n",
       "  <tbody>\n",
       "    <tr>\n",
       "      <th>0</th>\n",
       "      <td>1</td>\n",
       "      <td>0</td>\n",
       "      <td>3</td>\n",
       "      <td>135</td>\n",
       "      <td>2</td>\n",
       "      <td>22.0</td>\n",
       "      <td>1</td>\n",
       "      <td>0</td>\n",
       "      <td>629</td>\n",
       "      <td>7.2500</td>\n",
       "      <td>3</td>\n",
       "      <td>False</td>\n",
       "      <td>False</td>\n",
       "    </tr>\n",
       "    <tr>\n",
       "      <th>1</th>\n",
       "      <td>2</td>\n",
       "      <td>1</td>\n",
       "      <td>1</td>\n",
       "      <td>245</td>\n",
       "      <td>1</td>\n",
       "      <td>38.0</td>\n",
       "      <td>1</td>\n",
       "      <td>0</td>\n",
       "      <td>713</td>\n",
       "      <td>71.2833</td>\n",
       "      <td>1</td>\n",
       "      <td>False</td>\n",
       "      <td>False</td>\n",
       "    </tr>\n",
       "    <tr>\n",
       "      <th>2</th>\n",
       "      <td>3</td>\n",
       "      <td>1</td>\n",
       "      <td>3</td>\n",
       "      <td>442</td>\n",
       "      <td>1</td>\n",
       "      <td>26.0</td>\n",
       "      <td>0</td>\n",
       "      <td>0</td>\n",
       "      <td>799</td>\n",
       "      <td>7.9250</td>\n",
       "      <td>3</td>\n",
       "      <td>False</td>\n",
       "      <td>False</td>\n",
       "    </tr>\n",
       "  </tbody>\n",
       "</table>\n",
       "</div>"
      ],
      "text/plain": [
       "   PassengerId  Survived  Pclass  Name  Sex   Age  SibSp  Parch  Ticket  \\\n",
       "0            1         0       3   135    2  22.0      1      0     629   \n",
       "1            2         1       1   245    1  38.0      1      0     713   \n",
       "2            3         1       3   442    1  26.0      0      0     799   \n",
       "\n",
       "      Fare  Embarked  Age_na  Fare_na  \n",
       "0   7.2500         3   False    False  \n",
       "1  71.2833         1   False    False  \n",
       "2   7.9250         3   False    False  "
      ]
     },
     "execution_count": 15,
     "metadata": {},
     "output_type": "execute_result"
    }
   ],
   "source": [
    "mydf_train_valid_4.head(3)"
   ]
  },
  {
   "cell_type": "code",
   "execution_count": 16,
   "metadata": {},
   "outputs": [
    {
     "data": {
      "text/plain": [
       "{'Age': 28.0, 'Fare': 14.4583}"
      ]
     },
     "execution_count": 16,
     "metadata": {},
     "output_type": "execute_result"
    }
   ],
   "source": [
    "'''Please store the null_table, category mapping separately.\n",
    "We will need to process the test dataset using these values'''\n",
    "my_table"
   ]
  },
  {
   "cell_type": "code",
   "execution_count": 17,
   "metadata": {},
   "outputs": [
    {
     "name": "stdout",
     "output_type": "stream",
     "text": [
      "(1100, 12) (1100,)\n"
     ]
    }
   ],
   "source": [
    "'''Now, let's separate the X and Y variables (vertical split of the \n",
    "dataframe). Here the Y column is the variable we are trying to predict, \n",
    "survived or not(0 = No, 1 = Yes)'''\n",
    "\n",
    "Y = mydf_train_valid_4[\"Survived\"]\n",
    "X = mydf_train_valid_4.drop([\"Survived\"],axis = 1)\n",
    "\n",
    "print(X.shape,Y.shape)"
   ]
  },
  {
   "cell_type": "code",
   "execution_count": 18,
   "metadata": {},
   "outputs": [
    {
     "name": "stdout",
     "output_type": "stream",
     "text": [
      "(1100, 10) (1100, 2)\n"
     ]
    }
   ],
   "source": [
    "'''Note that the different continuous variable columns of this dataframe \n",
    "have numbers in different ranges. For example, the Fare and age columns. \n",
    "For some machine learning algorithms like Decision Trees and \n",
    "their ensembles (Random Forests, for example) the above X and Y\n",
    "can be directly used as input. However, for a lot of other ML algorithms \n",
    "like K nearest neighbors (KNN), we need to scale the continuous variables \n",
    "so that their values are mapped to a number between 0 and 1. \n",
    "Let's split this dataframe into continuous variable \n",
    "columns and those with categorical variables. We will leave \n",
    "the categorical variables untouched because their \n",
    "values are treated as different levels and its kind of meaningless to\n",
    "scale them'''\n",
    "\n",
    "X_cat = X[['PassengerId', 'Pclass', 'Name', 'Sex', 'SibSp', 'Parch',\n",
    "       'Ticket', 'Embarked', 'Age_na', 'Fare_na']]\n",
    "X_con = X.drop(X_cat,axis = 1)\n",
    "print(X_cat.shape,X_con.shape)"
   ]
  },
  {
   "cell_type": "code",
   "execution_count": 19,
   "metadata": {},
   "outputs": [
    {
     "name": "stdout",
     "output_type": "stream",
     "text": [
      "(1100, 2)\n"
     ]
    },
    {
     "data": {
      "text/html": [
       "<div>\n",
       "<style>\n",
       "    .dataframe thead tr:only-child th {\n",
       "        text-align: right;\n",
       "    }\n",
       "\n",
       "    .dataframe thead th {\n",
       "        text-align: left;\n",
       "    }\n",
       "\n",
       "    .dataframe tbody tr th {\n",
       "        vertical-align: top;\n",
       "    }\n",
       "</style>\n",
       "<table border=\"1\" class=\"dataframe\">\n",
       "  <thead>\n",
       "    <tr style=\"text-align: right;\">\n",
       "      <th></th>\n",
       "      <th>Age</th>\n",
       "      <th>Fare</th>\n",
       "    </tr>\n",
       "  </thead>\n",
       "  <tbody>\n",
       "    <tr>\n",
       "      <th>0</th>\n",
       "      <td>-0.574896</td>\n",
       "      <td>-0.502155</td>\n",
       "    </tr>\n",
       "    <tr>\n",
       "      <th>1</th>\n",
       "      <td>0.659705</td>\n",
       "      <td>0.747957</td>\n",
       "    </tr>\n",
       "  </tbody>\n",
       "</table>\n",
       "</div>"
      ],
      "text/plain": [
       "        Age      Fare\n",
       "0 -0.574896 -0.502155\n",
       "1  0.659705  0.747957"
      ]
     },
     "execution_count": 19,
     "metadata": {},
     "output_type": "execute_result"
    }
   ],
   "source": [
    "'''Scale the continuous variables. To standardize (includes scaling), \n",
    "we subtract mean of that column from every value, then divide the results \n",
    "by the variable's standard deviation. There are different ways to \n",
    "standardize. Please see preprocessing under scikit-leanr page'''\n",
    "\n",
    "scaler = preprocessing.StandardScaler().fit(X_con)\n",
    "X_con_sc = pd.DataFrame(scaler.transform(X_con))\n",
    "X_con_sc.columns = [\"Age\",\"Fare\"]\n",
    "print(X_con_sc.shape)\n",
    "X_con_sc.head(2)"
   ]
  },
  {
   "cell_type": "code",
   "execution_count": 20,
   "metadata": {},
   "outputs": [
    {
     "name": "stdout",
     "output_type": "stream",
     "text": [
      "(1100, 12)\n"
     ]
    },
    {
     "data": {
      "text/html": [
       "<div>\n",
       "<style>\n",
       "    .dataframe thead tr:only-child th {\n",
       "        text-align: right;\n",
       "    }\n",
       "\n",
       "    .dataframe thead th {\n",
       "        text-align: left;\n",
       "    }\n",
       "\n",
       "    .dataframe tbody tr th {\n",
       "        vertical-align: top;\n",
       "    }\n",
       "</style>\n",
       "<table border=\"1\" class=\"dataframe\">\n",
       "  <thead>\n",
       "    <tr style=\"text-align: right;\">\n",
       "      <th></th>\n",
       "      <th>PassengerId</th>\n",
       "      <th>Pclass</th>\n",
       "      <th>Name</th>\n",
       "      <th>Sex</th>\n",
       "      <th>SibSp</th>\n",
       "      <th>Parch</th>\n",
       "      <th>Ticket</th>\n",
       "      <th>Embarked</th>\n",
       "      <th>Age_na</th>\n",
       "      <th>Fare_na</th>\n",
       "      <th>Age</th>\n",
       "      <th>Fare</th>\n",
       "    </tr>\n",
       "  </thead>\n",
       "  <tbody>\n",
       "    <tr>\n",
       "      <th>0</th>\n",
       "      <td>1</td>\n",
       "      <td>3</td>\n",
       "      <td>135</td>\n",
       "      <td>2</td>\n",
       "      <td>1</td>\n",
       "      <td>0</td>\n",
       "      <td>629</td>\n",
       "      <td>3</td>\n",
       "      <td>False</td>\n",
       "      <td>False</td>\n",
       "      <td>-0.574896</td>\n",
       "      <td>-0.502155</td>\n",
       "    </tr>\n",
       "    <tr>\n",
       "      <th>1</th>\n",
       "      <td>2</td>\n",
       "      <td>1</td>\n",
       "      <td>245</td>\n",
       "      <td>1</td>\n",
       "      <td>1</td>\n",
       "      <td>0</td>\n",
       "      <td>713</td>\n",
       "      <td>1</td>\n",
       "      <td>False</td>\n",
       "      <td>False</td>\n",
       "      <td>0.659705</td>\n",
       "      <td>0.747957</td>\n",
       "    </tr>\n",
       "  </tbody>\n",
       "</table>\n",
       "</div>"
      ],
      "text/plain": [
       "   PassengerId  Pclass  Name  Sex  SibSp  Parch  Ticket  Embarked  Age_na  \\\n",
       "0            1       3   135    2      1      0     629         3   False   \n",
       "1            2       1   245    1      1      0     713         1   False   \n",
       "\n",
       "   Fare_na       Age      Fare  \n",
       "0    False -0.574896 -0.502155  \n",
       "1    False  0.659705  0.747957  "
      ]
     },
     "execution_count": 20,
     "metadata": {},
     "output_type": "execute_result"
    }
   ],
   "source": [
    "'''Store this scaler variable or its mean and SD, by pickling or something;\n",
    "we need to use the same mean and SD scaler later while pre-processing \n",
    "the test set. Now, let's join the cateogrical and scaled continuous \n",
    "variables, back together into one dataframe'''\n",
    "\n",
    "df_list = [X_cat,X_con_sc]\n",
    "X_full = pd.concat(df_list,axis = 1)\n",
    "print(X_full.shape)\n",
    "X_full.head(2)"
   ]
  },
  {
   "cell_type": "code",
   "execution_count": 21,
   "metadata": {},
   "outputs": [
    {
     "name": "stdout",
     "output_type": "stream",
     "text": [
      "(900, 12) (200, 12) (900,) (200,)\n"
     ]
    }
   ],
   "source": [
    "'''Then, split into train and valid sets for model building \n",
    "and hyperparameter tuning, respectively !Remember, we need to \n",
    "split (horizontally the rows) X_full into train and validation sets.\n",
    "We use the dataframe splitter function we defined previously.\n",
    "Strictly for later use in another module, merge X and Y and store.\n",
    "Save it as train data. Reason explained in module III'''\n",
    "\n",
    "X_train,X_valid = mydf_splitter(X_full,900)\n",
    "Y_train,Y_valid = mydf_splitter(Y,900)\n",
    "\n",
    "print(X_train.shape,X_valid.shape,Y_train.shape,Y_valid.shape)\n"
   ]
  },
  {
   "cell_type": "code",
   "execution_count": 22,
   "metadata": {
    "collapsed": true
   },
   "outputs": [],
   "source": [
    "'''Time for training the model and evaluating it on the validation set. \n",
    "At first, let's use the default values for the kNN hyperparameters -\n",
    "n_neighbors = 3,weights = 'uniform'). KNN has more hyperparameters such as\n",
    "leaf_size, metric, etc. But, these two are key hyperparamters'''\n",
    "\n",
    "my_knn_model = KNeighborsClassifier(n_neighbors = 5,weights = 'uniform')\n",
    "my_knn_model.fit(X_train,Y_train)\n",
    "\n",
    "#Predict on the validation set\n",
    "Y_pred = my_knn_model.predict(X_valid)"
   ]
  },
  {
   "cell_type": "code",
   "execution_count": 23,
   "metadata": {},
   "outputs": [
    {
     "data": {
      "text/plain": [
       "<matplotlib.axes._subplots.AxesSubplot at 0x187f4a4dcf8>"
      ]
     },
     "execution_count": 23,
     "metadata": {},
     "output_type": "execute_result"
    },
    {
     "data": {
      "image/png": "[encoded data removed]",
      "text/plain": [
       "<matplotlib.figure.Figure at 0x187f4b90e48>"
      ]
     },
     "metadata": {},
     "output_type": "display_data"
    }
   ],
   "source": [
    "# Plot confusion matrix\n",
    "from sklearn.metrics import confusion_matrix\n",
    "\n",
    "my_knn_cmatrix = confusion_matrix(Y_valid,Y_pred)\n",
    "\n",
    "my_knn_df = pd.DataFrame(my_knn_cmatrix)\n",
    "plt.figure(figsize = (8,8))\n",
    "sns.heatmap(my_knn_df, xticklabels = [\"Unlucky\",\"Survived\"],\n",
    "            yticklabels = [\"Unlucky\",\"Survived\"],annot = True)"
   ]
  },
  {
   "cell_type": "code",
   "execution_count": 24,
   "metadata": {},
   "outputs": [
    {
     "name": "stdout",
     "output_type": "stream",
     "text": [
      "0.54 -0.0474697036788388 0.29230769230769227\n"
     ]
    }
   ],
   "source": [
    "print(accuracy_score(Y_valid,Y_pred),\n",
    "      matthews_corrcoef(Y_valid,Y_pred),f1_score(Y_valid,Y_pred))\n",
    "\n",
    "#An MCC of -0.0474 looks bad !We need to do model tuning or \n",
    "#hyperparameter tuning to try to make it better"
   ]
  },
  {
   "cell_type": "markdown",
   "metadata": {},
   "source": [
    "# V. Hyperparameter tuning"
   ]
  },
  {
   "cell_type": "code",
   "execution_count": 25,
   "metadata": {},
   "outputs": [
    {
     "name": "stdout",
     "output_type": "stream",
     "text": [
      "Fitting 3 folds for each of 456 candidates, totalling 1368 fits\n"
     ]
    },
    {
     "name": "stderr",
     "output_type": "stream",
     "text": [
      "[Parallel(n_jobs=-1)]: Done  34 tasks      | elapsed:   10.3s\n",
      "[Parallel(n_jobs=-1)]: Done 1368 out of 1368 | elapsed:   12.8s finished\n"
     ]
    }
   ],
   "source": [
    "#Implementing Grid Search Method\n",
    "'''Using Grid search method to tune the Hyper-Parameters for KNN Algorithm.\n",
    "I have added Five list which consists of several Hyper-Parameters.\n",
    "1.Number of neighbours(Value of k)\n",
    "2.Weight\n",
    "3.Metrics\n",
    "4.Leaf size \n",
    "5. Algorithms\n",
    "All these Hyper-Parameters will be iterated through cross validation and all combinations will be checked to find the effective \n",
    "one.The most effective Hyper-Parameter will be decided based on the Mean Score of each combination.'''\n",
    "from sklearn.model_selection import GridSearchCV\n",
    "import numpy as np\n",
    "k_range = list(range(1,20))\n",
    "weight_gs =  ['uniform','distance']\n",
    "metric_gs =  ['euclidean', 'manhattan']\n",
    "leaf_sizegs = [10,20,30]\n",
    "algorithmgs = ['auto', 'kd_tree']\n",
    "grid_parameters=dict(n_neighbors = k_range, weights = weight_gs, metric=metric_gs,leaf_size=leaf_sizegs,algorithm =algorithmgs)\n",
    "gs = GridSearchCV(KNeighborsClassifier(),grid_parameters,verbose=1,cv=3,n_jobs=-1,scoring ='accuracy')\n",
    "#Applying Grid Search to Training Set\n",
    "gs_results= gs.fit(X_train,Y_train)"
   ]
  },
  {
   "cell_type": "code",
   "execution_count": 26,
   "metadata": {},
   "outputs": [
    {
     "name": "stdout",
     "output_type": "stream",
     "text": [
      "{'algorithm': 'auto', 'leaf_size': 10, 'metric': 'manhattan', 'n_neighbors': 18, 'weights': 'uniform'}\n"
     ]
    },
    {
     "data": {
      "text/plain": [
       "dict"
      ]
     },
     "execution_count": 26,
     "metadata": {},
     "output_type": "execute_result"
    }
   ],
   "source": [
    "#Getting the best parameters for the Knn algorithm using Grid Search Algorithm\n",
    "best_parameters = gs_results.best_params_\n",
    "print(best_parameters)\n",
    "type(best_parameters)"
   ]
  },
  {
   "cell_type": "code",
   "execution_count": 27,
   "metadata": {},
   "outputs": [
    {
     "name": "stdout",
     "output_type": "stream",
     "text": [
      "0.6488888888888888\n"
     ]
    }
   ],
   "source": [
    "#Best result for Training Set\n",
    "best_result = gs_results.best_score_\n",
    "print(best_result)"
   ]
  },
  {
   "cell_type": "code",
   "execution_count": 28,
   "metadata": {},
   "outputs": [
    {
     "name": "stderr",
     "output_type": "stream",
     "text": [
      "C:\\Users\\Tharoon\\Anaconda3\\lib\\site-packages\\sklearn\\utils\\deprecation.py:122: FutureWarning: You are accessing a training score ('mean_train_score'), which will not be available by default any more in 0.21. If you need training scores, please set return_train_score=True\n",
      "  warnings.warn(*warn_args, **warn_kwargs)\n",
      "C:\\Users\\Tharoon\\Anaconda3\\lib\\site-packages\\sklearn\\utils\\deprecation.py:122: FutureWarning: You are accessing a training score ('split0_train_score'), which will not be available by default any more in 0.21. If you need training scores, please set return_train_score=True\n",
      "  warnings.warn(*warn_args, **warn_kwargs)\n",
      "C:\\Users\\Tharoon\\Anaconda3\\lib\\site-packages\\sklearn\\utils\\deprecation.py:122: FutureWarning: You are accessing a training score ('split1_train_score'), which will not be available by default any more in 0.21. If you need training scores, please set return_train_score=True\n",
      "  warnings.warn(*warn_args, **warn_kwargs)\n",
      "C:\\Users\\Tharoon\\Anaconda3\\lib\\site-packages\\sklearn\\utils\\deprecation.py:122: FutureWarning: You are accessing a training score ('split2_train_score'), which will not be available by default any more in 0.21. If you need training scores, please set return_train_score=True\n",
      "  warnings.warn(*warn_args, **warn_kwargs)\n",
      "C:\\Users\\Tharoon\\Anaconda3\\lib\\site-packages\\sklearn\\utils\\deprecation.py:122: FutureWarning: You are accessing a training score ('std_train_score'), which will not be available by default any more in 0.21. If you need training scores, please set return_train_score=True\n",
      "  warnings.warn(*warn_args, **warn_kwargs)\n"
     ]
    }
   ],
   "source": [
    "#Getting the results of each combination of Grid Serach\n",
    "gs_results_pd = pd.DataFrame(gs_results.cv_results_)"
   ]
  },
  {
   "cell_type": "code",
   "execution_count": 29,
   "metadata": {
    "collapsed": true
   },
   "outputs": [],
   "source": [
    "#Dataframe of Key Coloumns\n",
    "grid_result_plot = gs_results_pd[['param_n_neighbors','mean_test_score','param_algorithm','param_metric','param_weights']]"
   ]
  },
  {
   "cell_type": "code",
   "execution_count": 30,
   "metadata": {
    "collapsed": true
   },
   "outputs": [],
   "source": [
    "#Converting from Data frame to list the Number of Neighbor values and Mean test scores\n",
    "gs_list_kval =grid_result_plot[\"param_n_neighbors\"].tolist()\n",
    "gs_list_mean = grid_result_plot[\"mean_test_score\"].tolist()"
   ]
  },
  {
   "cell_type": "code",
   "execution_count": 31,
   "metadata": {},
   "outputs": [
    {
     "data": {
      "text/html": [
       "<div>\n",
       "<style>\n",
       "    .dataframe thead tr:only-child th {\n",
       "        text-align: right;\n",
       "    }\n",
       "\n",
       "    .dataframe thead th {\n",
       "        text-align: left;\n",
       "    }\n",
       "\n",
       "    .dataframe tbody tr th {\n",
       "        vertical-align: top;\n",
       "    }\n",
       "</style>\n",
       "<table border=\"1\" class=\"dataframe\">\n",
       "  <thead>\n",
       "    <tr style=\"text-align: right;\">\n",
       "      <th></th>\n",
       "      <th>MeanScore</th>\n",
       "      <th>Num of neighbors</th>\n",
       "    </tr>\n",
       "  </thead>\n",
       "  <tbody>\n",
       "    <tr>\n",
       "      <th>0</th>\n",
       "      <td>0.553333</td>\n",
       "      <td>1</td>\n",
       "    </tr>\n",
       "    <tr>\n",
       "      <th>1</th>\n",
       "      <td>0.553333</td>\n",
       "      <td>1</td>\n",
       "    </tr>\n",
       "    <tr>\n",
       "      <th>2</th>\n",
       "      <td>0.600000</td>\n",
       "      <td>2</td>\n",
       "    </tr>\n",
       "    <tr>\n",
       "      <th>3</th>\n",
       "      <td>0.553333</td>\n",
       "      <td>2</td>\n",
       "    </tr>\n",
       "    <tr>\n",
       "      <th>4</th>\n",
       "      <td>0.602222</td>\n",
       "      <td>3</td>\n",
       "    </tr>\n",
       "  </tbody>\n",
       "</table>\n",
       "</div>"
      ],
      "text/plain": [
       "   MeanScore  Num of neighbors\n",
       "0   0.553333                 1\n",
       "1   0.553333                 1\n",
       "2   0.600000                 2\n",
       "3   0.553333                 2\n",
       "4   0.602222                 3"
      ]
     },
     "execution_count": 31,
     "metadata": {},
     "output_type": "execute_result"
    }
   ],
   "source": [
    "#Creating a Data frame of the List created\n",
    "plot_df =  pd.DataFrame({\"Num of neighbors\": gs_list_kval,\"MeanScore\": gs_list_mean})\n",
    "plot_df.head()"
   ]
  },
  {
   "cell_type": "code",
   "execution_count": 32,
   "metadata": {},
   "outputs": [
    {
     "data": {
      "image/png": "[encoded data removed]",
      "text/plain": [
       "<matplotlib.figure.Figure at 0x187f4c82e80>"
      ]
     },
     "metadata": {},
     "output_type": "display_data"
    }
   ],
   "source": [
    "#Plot Mean Score Vs Number of Neighbours of the model\n",
    "sns.set_style(\"darkgrid\")\n",
    "s= sns.pairplot(plot_df,x_vars = \"Num of neighbors\",\n",
    "             y_vars = \"MeanScore\",plot_kws = {'s': 30})\n",
    "s.fig.set_figwidth(8.27)\n",
    "s.fig.set_figheight(8.7)"
   ]
  },
  {
   "cell_type": "code",
   "execution_count": 33,
   "metadata": {},
   "outputs": [
    {
     "name": "stdout",
     "output_type": "stream",
     "text": [
      "Accuracy Score for Validation Set\n",
      "0.565\n"
     ]
    }
   ],
   "source": [
    "#Applying the model to the Validation Set and getting the Accuracy score\n",
    "my_knn_model_fin = KNeighborsClassifier(**gs_results.best_params_)\n",
    "my_knn_model_fin.fit(X_train,Y_train)\n",
    "Y_pred = my_knn_model_fin.predict(X_valid)\n",
    "accuracy_fin = accuracy_score(Y_valid,Y_pred)\n",
    "print(\"Accuracy Score for Validation Set\")\n",
    "print(accuracy_fin)"
   ]
  },
  {
   "cell_type": "markdown",
   "metadata": {},
   "source": [
    "# VI. Evaluating test set accuracy with the trained model"
   ]
  },
  {
   "cell_type": "code",
   "execution_count": 34,
   "metadata": {},
   "outputs": [
    {
     "name": "stdout",
     "output_type": "stream",
     "text": [
      "(209, 12)\n"
     ]
    },
    {
     "data": {
      "text/html": [
       "<div>\n",
       "<style>\n",
       "    .dataframe thead tr:only-child th {\n",
       "        text-align: right;\n",
       "    }\n",
       "\n",
       "    .dataframe thead th {\n",
       "        text-align: left;\n",
       "    }\n",
       "\n",
       "    .dataframe tbody tr th {\n",
       "        vertical-align: top;\n",
       "    }\n",
       "</style>\n",
       "<table border=\"1\" class=\"dataframe\">\n",
       "  <thead>\n",
       "    <tr style=\"text-align: right;\">\n",
       "      <th></th>\n",
       "      <th>PassengerId</th>\n",
       "      <th>Survived</th>\n",
       "      <th>Pclass</th>\n",
       "      <th>Name</th>\n",
       "      <th>Sex</th>\n",
       "      <th>Age</th>\n",
       "      <th>SibSp</th>\n",
       "      <th>Parch</th>\n",
       "      <th>Ticket</th>\n",
       "      <th>Fare</th>\n",
       "      <th>Cabin</th>\n",
       "      <th>Embarked</th>\n",
       "    </tr>\n",
       "  </thead>\n",
       "  <tbody>\n",
       "    <tr>\n",
       "      <th>1100</th>\n",
       "      <td>1101</td>\n",
       "      <td>1</td>\n",
       "      <td>3</td>\n",
       "      <td>Delalic, Mr. Redjo</td>\n",
       "      <td>male</td>\n",
       "      <td>25.0</td>\n",
       "      <td>0</td>\n",
       "      <td>0</td>\n",
       "      <td>349250</td>\n",
       "      <td>7.8958</td>\n",
       "      <td>NaN</td>\n",
       "      <td>S</td>\n",
       "    </tr>\n",
       "    <tr>\n",
       "      <th>1101</th>\n",
       "      <td>1102</td>\n",
       "      <td>0</td>\n",
       "      <td>3</td>\n",
       "      <td>Andersen, Mr. Albert Karvin</td>\n",
       "      <td>male</td>\n",
       "      <td>32.0</td>\n",
       "      <td>0</td>\n",
       "      <td>0</td>\n",
       "      <td>C 4001</td>\n",
       "      <td>22.5250</td>\n",
       "      <td>NaN</td>\n",
       "      <td>S</td>\n",
       "    </tr>\n",
       "    <tr>\n",
       "      <th>1102</th>\n",
       "      <td>1103</td>\n",
       "      <td>1</td>\n",
       "      <td>3</td>\n",
       "      <td>Finoli, Mr. Luigi</td>\n",
       "      <td>male</td>\n",
       "      <td>NaN</td>\n",
       "      <td>0</td>\n",
       "      <td>0</td>\n",
       "      <td>SOTON/O.Q. 3101308</td>\n",
       "      <td>7.0500</td>\n",
       "      <td>NaN</td>\n",
       "      <td>S</td>\n",
       "    </tr>\n",
       "  </tbody>\n",
       "</table>\n",
       "</div>"
      ],
      "text/plain": [
       "      PassengerId  Survived  Pclass                         Name   Sex   Age  \\\n",
       "1100         1101         1       3           Delalic, Mr. Redjo  male  25.0   \n",
       "1101         1102         0       3  Andersen, Mr. Albert Karvin  male  32.0   \n",
       "1102         1103         1       3            Finoli, Mr. Luigi  male   NaN   \n",
       "\n",
       "      SibSp  Parch              Ticket     Fare Cabin Embarked  \n",
       "1100      0      0              349250   7.8958   NaN        S  \n",
       "1101      0      0              C 4001  22.5250   NaN        S  \n",
       "1102      0      0  SOTON/O.Q. 3101308   7.0500   NaN        S  "
      ]
     },
     "execution_count": 34,
     "metadata": {},
     "output_type": "execute_result"
    }
   ],
   "source": [
    "'''Before we can apply this on the test set, we\n",
    "need to pre-process the test set in exactly the same way we did the\n",
    "train_valid set !!!'''\n",
    "\n",
    "print(mydf_test.shape)\n",
    "mydf_test.head(3)\n"
   ]
  },
  {
   "cell_type": "code",
   "execution_count": 35,
   "metadata": {},
   "outputs": [
    {
     "name": "stdout",
     "output_type": "stream",
     "text": [
      "(209, 11)\n"
     ]
    },
    {
     "data": {
      "text/html": [
       "<div>\n",
       "<style>\n",
       "    .dataframe thead tr:only-child th {\n",
       "        text-align: right;\n",
       "    }\n",
       "\n",
       "    .dataframe thead th {\n",
       "        text-align: left;\n",
       "    }\n",
       "\n",
       "    .dataframe tbody tr th {\n",
       "        vertical-align: top;\n",
       "    }\n",
       "</style>\n",
       "<table border=\"1\" class=\"dataframe\">\n",
       "  <thead>\n",
       "    <tr style=\"text-align: right;\">\n",
       "      <th></th>\n",
       "      <th>PassengerId</th>\n",
       "      <th>Survived</th>\n",
       "      <th>Pclass</th>\n",
       "      <th>Name</th>\n",
       "      <th>Sex</th>\n",
       "      <th>Age</th>\n",
       "      <th>SibSp</th>\n",
       "      <th>Parch</th>\n",
       "      <th>Ticket</th>\n",
       "      <th>Fare</th>\n",
       "      <th>Embarked</th>\n",
       "    </tr>\n",
       "  </thead>\n",
       "  <tbody>\n",
       "    <tr>\n",
       "      <th>1100</th>\n",
       "      <td>1101</td>\n",
       "      <td>1</td>\n",
       "      <td>3</td>\n",
       "      <td>Delalic, Mr. Redjo</td>\n",
       "      <td>male</td>\n",
       "      <td>25.0</td>\n",
       "      <td>0</td>\n",
       "      <td>0</td>\n",
       "      <td>349250</td>\n",
       "      <td>7.8958</td>\n",
       "      <td>S</td>\n",
       "    </tr>\n",
       "    <tr>\n",
       "      <th>1101</th>\n",
       "      <td>1102</td>\n",
       "      <td>0</td>\n",
       "      <td>3</td>\n",
       "      <td>Andersen, Mr. Albert Karvin</td>\n",
       "      <td>male</td>\n",
       "      <td>32.0</td>\n",
       "      <td>0</td>\n",
       "      <td>0</td>\n",
       "      <td>C 4001</td>\n",
       "      <td>22.5250</td>\n",
       "      <td>S</td>\n",
       "    </tr>\n",
       "    <tr>\n",
       "      <th>1102</th>\n",
       "      <td>1103</td>\n",
       "      <td>1</td>\n",
       "      <td>3</td>\n",
       "      <td>Finoli, Mr. Luigi</td>\n",
       "      <td>male</td>\n",
       "      <td>NaN</td>\n",
       "      <td>0</td>\n",
       "      <td>0</td>\n",
       "      <td>SOTON/O.Q. 3101308</td>\n",
       "      <td>7.0500</td>\n",
       "      <td>S</td>\n",
       "    </tr>\n",
       "  </tbody>\n",
       "</table>\n",
       "</div>"
      ],
      "text/plain": [
       "      PassengerId  Survived  Pclass                         Name   Sex   Age  \\\n",
       "1100         1101         1       3           Delalic, Mr. Redjo  male  25.0   \n",
       "1101         1102         0       3  Andersen, Mr. Albert Karvin  male  32.0   \n",
       "1102         1103         1       3            Finoli, Mr. Luigi  male   NaN   \n",
       "\n",
       "      SibSp  Parch              Ticket     Fare Embarked  \n",
       "1100      0      0              349250   7.8958        S  \n",
       "1101      0      0              C 4001  22.5250        S  \n",
       "1102      0      0  SOTON/O.Q. 3101308   7.0500        S  "
      ]
     },
     "execution_count": 35,
     "metadata": {},
     "output_type": "execute_result"
    }
   ],
   "source": [
    "#get rid of the \"cabin\" column as we did before with the train_valid set\n",
    "mydf_test1 = mydf_test.drop(\"Cabin\",axis = 1)\n",
    "print(mydf_test1.shape)\n",
    "mydf_test1.head(3)"
   ]
  },
  {
   "cell_type": "code",
   "execution_count": 36,
   "metadata": {},
   "outputs": [
    {
     "data": {
      "text/plain": [
       "Index(['female', 'male'], dtype='object')"
      ]
     },
     "execution_count": 36,
     "metadata": {},
     "output_type": "execute_result"
    }
   ],
   "source": [
    "'''Make sure the category codes for train and test sets are the same as \n",
    "the ones we used previously! Here, we have coded, Name, Sex, Ticket and \n",
    "embarked. Because Name and Ticket ids will not be repeated, \n",
    "we will check Sex and embarked. Checking category codes for the test set...'''\n",
    "\n",
    "mydf_test2 = str_to_cat(mydf_test1)\n",
    "mydf_test2.Sex.cat.categories"
   ]
  },
  {
   "cell_type": "code",
   "execution_count": 37,
   "metadata": {},
   "outputs": [
    {
     "data": {
      "text/plain": [
       "Index(['C', 'Q', 'S'], dtype='object')"
      ]
     },
     "execution_count": 37,
     "metadata": {},
     "output_type": "execute_result"
    }
   ],
   "source": [
    "#Check for the Embarked column\n",
    "mydf_test2.Embarked.cat.categories"
   ]
  },
  {
   "cell_type": "code",
   "execution_count": 38,
   "metadata": {},
   "outputs": [
    {
     "name": "stdout",
     "output_type": "stream",
     "text": [
      "(209, 13)\n"
     ]
    },
    {
     "data": {
      "text/html": [
       "<div>\n",
       "<style>\n",
       "    .dataframe thead tr:only-child th {\n",
       "        text-align: right;\n",
       "    }\n",
       "\n",
       "    .dataframe thead th {\n",
       "        text-align: left;\n",
       "    }\n",
       "\n",
       "    .dataframe tbody tr th {\n",
       "        vertical-align: top;\n",
       "    }\n",
       "</style>\n",
       "<table border=\"1\" class=\"dataframe\">\n",
       "  <thead>\n",
       "    <tr style=\"text-align: right;\">\n",
       "      <th></th>\n",
       "      <th>PassengerId</th>\n",
       "      <th>Survived</th>\n",
       "      <th>Pclass</th>\n",
       "      <th>Name</th>\n",
       "      <th>Sex</th>\n",
       "      <th>Age</th>\n",
       "      <th>SibSp</th>\n",
       "      <th>Parch</th>\n",
       "      <th>Ticket</th>\n",
       "      <th>Fare</th>\n",
       "      <th>Embarked</th>\n",
       "      <th>Age_na</th>\n",
       "      <th>Fare_na</th>\n",
       "    </tr>\n",
       "  </thead>\n",
       "  <tbody>\n",
       "    <tr>\n",
       "      <th>1100</th>\n",
       "      <td>1101</td>\n",
       "      <td>1</td>\n",
       "      <td>3</td>\n",
       "      <td>47</td>\n",
       "      <td>2</td>\n",
       "      <td>25.0</td>\n",
       "      <td>0</td>\n",
       "      <td>0</td>\n",
       "      <td>106</td>\n",
       "      <td>7.8958</td>\n",
       "      <td>3</td>\n",
       "      <td>False</td>\n",
       "      <td>False</td>\n",
       "    </tr>\n",
       "    <tr>\n",
       "      <th>1101</th>\n",
       "      <td>1102</td>\n",
       "      <td>0</td>\n",
       "      <td>3</td>\n",
       "      <td>6</td>\n",
       "      <td>2</td>\n",
       "      <td>32.0</td>\n",
       "      <td>0</td>\n",
       "      <td>0</td>\n",
       "      <td>146</td>\n",
       "      <td>22.5250</td>\n",
       "      <td>3</td>\n",
       "      <td>False</td>\n",
       "      <td>False</td>\n",
       "    </tr>\n",
       "    <tr>\n",
       "      <th>1102</th>\n",
       "      <td>1103</td>\n",
       "      <td>1</td>\n",
       "      <td>3</td>\n",
       "      <td>62</td>\n",
       "      <td>2</td>\n",
       "      <td>28.0</td>\n",
       "      <td>0</td>\n",
       "      <td>0</td>\n",
       "      <td>187</td>\n",
       "      <td>7.0500</td>\n",
       "      <td>3</td>\n",
       "      <td>True</td>\n",
       "      <td>False</td>\n",
       "    </tr>\n",
       "  </tbody>\n",
       "</table>\n",
       "</div>"
      ],
      "text/plain": [
       "      PassengerId  Survived  Pclass  Name  Sex   Age  SibSp  Parch  Ticket  \\\n",
       "1100         1101         1       3    47    2  25.0      0      0     106   \n",
       "1101         1102         0       3     6    2  32.0      0      0     146   \n",
       "1102         1103         1       3    62    2  28.0      0      0     187   \n",
       "\n",
       "         Fare  Embarked  Age_na  Fare_na  \n",
       "1100   7.8958         3   False    False  \n",
       "1101  22.5250         3   False    False  \n",
       "1102   7.0500         3    True    False  "
      ]
     },
     "execution_count": 38,
     "metadata": {},
     "output_type": "execute_result"
    }
   ],
   "source": [
    "#Cool, this means the category codes are the same. We can proceed.\n",
    "#Make sure you use the same impute values of median.\n",
    "mydf_test3,my_table1 = mydf_preprocessor(mydf_test2,\n",
    "                                         null_table = my_table)\n",
    "print(mydf_test3.shape)\n",
    "mydf_test3.head(3)"
   ]
  },
  {
   "cell_type": "code",
   "execution_count": 39,
   "metadata": {},
   "outputs": [
    {
     "data": {
      "text/plain": [
       "{'Age': 28.0, 'Fare': 14.4583}"
      ]
     },
     "execution_count": 39,
     "metadata": {},
     "output_type": "execute_result"
    }
   ],
   "source": [
    "my_table1"
   ]
  },
  {
   "cell_type": "code",
   "execution_count": 40,
   "metadata": {},
   "outputs": [
    {
     "name": "stdout",
     "output_type": "stream",
     "text": [
      "(209, 12) (209,)\n"
     ]
    }
   ],
   "source": [
    "# Now, let's split out the X and Y variables (vertical split of the dataframe)\n",
    "#Remember we did this previously!\n",
    "\n",
    "\n",
    "Y_t = mydf_test3[\"Survived\"]\n",
    "X_t = mydf_test3.drop([\"Survived\"],axis = 1)\n",
    "\n",
    "print(X_t.shape,Y_t.shape)"
   ]
  },
  {
   "cell_type": "code",
   "execution_count": 41,
   "metadata": {},
   "outputs": [
    {
     "name": "stdout",
     "output_type": "stream",
     "text": [
      "(209, 10) (209, 2)\n"
     ]
    }
   ],
   "source": [
    "#Separate continuous and categorical variables/columns for scaling\n",
    "\n",
    "X_cat_t = X_t[['PassengerId', 'Pclass', 'Name', 'Sex', 'SibSp', 'Parch',\n",
    "       'Ticket', 'Embarked', 'Age_na', 'Fare_na']]\n",
    "X_con_t = X_t.drop(X_cat_t,axis = 1)\n",
    "print(X_cat_t.shape,X_con_t.shape)"
   ]
  },
  {
   "cell_type": "code",
   "execution_count": 42,
   "metadata": {},
   "outputs": [
    {
     "name": "stdout",
     "output_type": "stream",
     "text": [
      "(209, 2)\n"
     ]
    },
    {
     "data": {
      "text/html": [
       "<div>\n",
       "<style>\n",
       "    .dataframe thead tr:only-child th {\n",
       "        text-align: right;\n",
       "    }\n",
       "\n",
       "    .dataframe thead th {\n",
       "        text-align: left;\n",
       "    }\n",
       "\n",
       "    .dataframe tbody tr th {\n",
       "        vertical-align: top;\n",
       "    }\n",
       "</style>\n",
       "<table border=\"1\" class=\"dataframe\">\n",
       "  <thead>\n",
       "    <tr style=\"text-align: right;\">\n",
       "      <th></th>\n",
       "      <th>Age</th>\n",
       "      <th>Fare</th>\n",
       "    </tr>\n",
       "  </thead>\n",
       "  <tbody>\n",
       "    <tr>\n",
       "      <th>0</th>\n",
       "      <td>-0.343408</td>\n",
       "      <td>-0.489547</td>\n",
       "    </tr>\n",
       "    <tr>\n",
       "      <th>1</th>\n",
       "      <td>0.196729</td>\n",
       "      <td>-0.203944</td>\n",
       "    </tr>\n",
       "  </tbody>\n",
       "</table>\n",
       "</div>"
      ],
      "text/plain": [
       "        Age      Fare\n",
       "0 -0.343408 -0.489547\n",
       "1  0.196729 -0.203944"
      ]
     },
     "execution_count": 42,
     "metadata": {},
     "output_type": "execute_result"
    }
   ],
   "source": [
    "'''Scale using the training set mean and SD. This is already captured in\n",
    "the scaler object we made. Else, save that in a joblib dump too to reload'''\n",
    "\n",
    "X_con_sct = pd.DataFrame(scaler.transform(X_con_t))\n",
    "X_con_sct.columns = [\"Age\",\"Fare\"]\n",
    "print(X_con_sct.shape)\n",
    "X_con_sct.head(2)\n"
   ]
  },
  {
   "cell_type": "code",
   "execution_count": 43,
   "metadata": {},
   "outputs": [
    {
     "name": "stdout",
     "output_type": "stream",
     "text": [
      "(209, 10) (209, 2)\n"
     ]
    }
   ],
   "source": [
    "print(X_cat_t.shape,X_con_sct.shape)"
   ]
  },
  {
   "cell_type": "code",
   "execution_count": 44,
   "metadata": {
    "collapsed": true
   },
   "outputs": [],
   "source": [
    "#Re-index before merging\n",
    "X_cat_t.reset_index(inplace = True,drop = False)"
   ]
  },
  {
   "cell_type": "code",
   "execution_count": 45,
   "metadata": {},
   "outputs": [
    {
     "data": {
      "text/html": [
       "<div>\n",
       "<style>\n",
       "    .dataframe thead tr:only-child th {\n",
       "        text-align: right;\n",
       "    }\n",
       "\n",
       "    .dataframe thead th {\n",
       "        text-align: left;\n",
       "    }\n",
       "\n",
       "    .dataframe tbody tr th {\n",
       "        vertical-align: top;\n",
       "    }\n",
       "</style>\n",
       "<table border=\"1\" class=\"dataframe\">\n",
       "  <thead>\n",
       "    <tr style=\"text-align: right;\">\n",
       "      <th></th>\n",
       "      <th>index</th>\n",
       "      <th>PassengerId</th>\n",
       "      <th>Pclass</th>\n",
       "      <th>Name</th>\n",
       "      <th>Sex</th>\n",
       "      <th>SibSp</th>\n",
       "      <th>Parch</th>\n",
       "      <th>Ticket</th>\n",
       "      <th>Embarked</th>\n",
       "      <th>Age_na</th>\n",
       "      <th>Fare_na</th>\n",
       "    </tr>\n",
       "  </thead>\n",
       "  <tbody>\n",
       "    <tr>\n",
       "      <th>0</th>\n",
       "      <td>1100</td>\n",
       "      <td>1101</td>\n",
       "      <td>3</td>\n",
       "      <td>47</td>\n",
       "      <td>2</td>\n",
       "      <td>0</td>\n",
       "      <td>0</td>\n",
       "      <td>106</td>\n",
       "      <td>3</td>\n",
       "      <td>False</td>\n",
       "      <td>False</td>\n",
       "    </tr>\n",
       "    <tr>\n",
       "      <th>1</th>\n",
       "      <td>1101</td>\n",
       "      <td>1102</td>\n",
       "      <td>3</td>\n",
       "      <td>6</td>\n",
       "      <td>2</td>\n",
       "      <td>0</td>\n",
       "      <td>0</td>\n",
       "      <td>146</td>\n",
       "      <td>3</td>\n",
       "      <td>False</td>\n",
       "      <td>False</td>\n",
       "    </tr>\n",
       "    <tr>\n",
       "      <th>2</th>\n",
       "      <td>1102</td>\n",
       "      <td>1103</td>\n",
       "      <td>3</td>\n",
       "      <td>62</td>\n",
       "      <td>2</td>\n",
       "      <td>0</td>\n",
       "      <td>0</td>\n",
       "      <td>187</td>\n",
       "      <td>3</td>\n",
       "      <td>True</td>\n",
       "      <td>False</td>\n",
       "    </tr>\n",
       "    <tr>\n",
       "      <th>3</th>\n",
       "      <td>1103</td>\n",
       "      <td>1104</td>\n",
       "      <td>2</td>\n",
       "      <td>45</td>\n",
       "      <td>2</td>\n",
       "      <td>0</td>\n",
       "      <td>0</td>\n",
       "      <td>179</td>\n",
       "      <td>3</td>\n",
       "      <td>False</td>\n",
       "      <td>False</td>\n",
       "    </tr>\n",
       "    <tr>\n",
       "      <th>4</th>\n",
       "      <td>1104</td>\n",
       "      <td>1105</td>\n",
       "      <td>2</td>\n",
       "      <td>91</td>\n",
       "      <td>1</td>\n",
       "      <td>1</td>\n",
       "      <td>0</td>\n",
       "      <td>38</td>\n",
       "      <td>3</td>\n",
       "      <td>False</td>\n",
       "      <td>False</td>\n",
       "    </tr>\n",
       "  </tbody>\n",
       "</table>\n",
       "</div>"
      ],
      "text/plain": [
       "   index  PassengerId  Pclass  Name  Sex  SibSp  Parch  Ticket  Embarked  \\\n",
       "0   1100         1101       3    47    2      0      0     106         3   \n",
       "1   1101         1102       3     6    2      0      0     146         3   \n",
       "2   1102         1103       3    62    2      0      0     187         3   \n",
       "3   1103         1104       2    45    2      0      0     179         3   \n",
       "4   1104         1105       2    91    1      1      0      38         3   \n",
       "\n",
       "   Age_na  Fare_na  \n",
       "0   False    False  \n",
       "1   False    False  \n",
       "2    True    False  \n",
       "3   False    False  \n",
       "4   False    False  "
      ]
     },
     "execution_count": 45,
     "metadata": {},
     "output_type": "execute_result"
    }
   ],
   "source": [
    "X_cat_t.head()"
   ]
  },
  {
   "cell_type": "code",
   "execution_count": 46,
   "metadata": {},
   "outputs": [
    {
     "name": "stderr",
     "output_type": "stream",
     "text": [
      "C:\\Users\\Tharoon\\Anaconda3\\lib\\site-packages\\ipykernel_launcher.py:1: SettingWithCopyWarning: \n",
      "A value is trying to be set on a copy of a slice from a DataFrame\n",
      "\n",
      "See the caveats in the documentation: http://pandas.pydata.org/pandas-docs/stable/indexing.html#indexing-view-versus-copy\n",
      "  \"\"\"Entry point for launching an IPython kernel.\n"
     ]
    },
    {
     "data": {
      "text/html": [
       "<div>\n",
       "<style>\n",
       "    .dataframe thead tr:only-child th {\n",
       "        text-align: right;\n",
       "    }\n",
       "\n",
       "    .dataframe thead th {\n",
       "        text-align: left;\n",
       "    }\n",
       "\n",
       "    .dataframe tbody tr th {\n",
       "        vertical-align: top;\n",
       "    }\n",
       "</style>\n",
       "<table border=\"1\" class=\"dataframe\">\n",
       "  <thead>\n",
       "    <tr style=\"text-align: right;\">\n",
       "      <th></th>\n",
       "      <th>PassengerId</th>\n",
       "      <th>Pclass</th>\n",
       "      <th>Name</th>\n",
       "      <th>Sex</th>\n",
       "      <th>SibSp</th>\n",
       "      <th>Parch</th>\n",
       "      <th>Ticket</th>\n",
       "      <th>Embarked</th>\n",
       "      <th>Age_na</th>\n",
       "      <th>Fare_na</th>\n",
       "    </tr>\n",
       "  </thead>\n",
       "  <tbody>\n",
       "    <tr>\n",
       "      <th>0</th>\n",
       "      <td>1101</td>\n",
       "      <td>3</td>\n",
       "      <td>47</td>\n",
       "      <td>2</td>\n",
       "      <td>0</td>\n",
       "      <td>0</td>\n",
       "      <td>106</td>\n",
       "      <td>3</td>\n",
       "      <td>False</td>\n",
       "      <td>False</td>\n",
       "    </tr>\n",
       "    <tr>\n",
       "      <th>1</th>\n",
       "      <td>1102</td>\n",
       "      <td>3</td>\n",
       "      <td>6</td>\n",
       "      <td>2</td>\n",
       "      <td>0</td>\n",
       "      <td>0</td>\n",
       "      <td>146</td>\n",
       "      <td>3</td>\n",
       "      <td>False</td>\n",
       "      <td>False</td>\n",
       "    </tr>\n",
       "  </tbody>\n",
       "</table>\n",
       "</div>"
      ],
      "text/plain": [
       "   PassengerId  Pclass  Name  Sex  SibSp  Parch  Ticket  Embarked  Age_na  \\\n",
       "0         1101       3    47    2      0      0     106         3   False   \n",
       "1         1102       3     6    2      0      0     146         3   False   \n",
       "\n",
       "   Fare_na  \n",
       "0    False  \n",
       "1    False  "
      ]
     },
     "execution_count": 46,
     "metadata": {},
     "output_type": "execute_result"
    }
   ],
   "source": [
    "X_cat_t.drop(\"index\",inplace = True,axis = 1)\n",
    "X_cat_t.head(2)"
   ]
  },
  {
   "cell_type": "code",
   "execution_count": 47,
   "metadata": {},
   "outputs": [
    {
     "name": "stdout",
     "output_type": "stream",
     "text": [
      "(209, 12)\n"
     ]
    },
    {
     "data": {
      "text/html": [
       "<div>\n",
       "<style>\n",
       "    .dataframe thead tr:only-child th {\n",
       "        text-align: right;\n",
       "    }\n",
       "\n",
       "    .dataframe thead th {\n",
       "        text-align: left;\n",
       "    }\n",
       "\n",
       "    .dataframe tbody tr th {\n",
       "        vertical-align: top;\n",
       "    }\n",
       "</style>\n",
       "<table border=\"1\" class=\"dataframe\">\n",
       "  <thead>\n",
       "    <tr style=\"text-align: right;\">\n",
       "      <th></th>\n",
       "      <th>PassengerId</th>\n",
       "      <th>Pclass</th>\n",
       "      <th>Name</th>\n",
       "      <th>Sex</th>\n",
       "      <th>SibSp</th>\n",
       "      <th>Parch</th>\n",
       "      <th>Ticket</th>\n",
       "      <th>Embarked</th>\n",
       "      <th>Age_na</th>\n",
       "      <th>Fare_na</th>\n",
       "      <th>Age</th>\n",
       "      <th>Fare</th>\n",
       "    </tr>\n",
       "  </thead>\n",
       "  <tbody>\n",
       "    <tr>\n",
       "      <th>0</th>\n",
       "      <td>1101</td>\n",
       "      <td>3</td>\n",
       "      <td>47</td>\n",
       "      <td>2</td>\n",
       "      <td>0</td>\n",
       "      <td>0</td>\n",
       "      <td>106</td>\n",
       "      <td>3</td>\n",
       "      <td>False</td>\n",
       "      <td>False</td>\n",
       "      <td>-0.343408</td>\n",
       "      <td>-0.489547</td>\n",
       "    </tr>\n",
       "    <tr>\n",
       "      <th>1</th>\n",
       "      <td>1102</td>\n",
       "      <td>3</td>\n",
       "      <td>6</td>\n",
       "      <td>2</td>\n",
       "      <td>0</td>\n",
       "      <td>0</td>\n",
       "      <td>146</td>\n",
       "      <td>3</td>\n",
       "      <td>False</td>\n",
       "      <td>False</td>\n",
       "      <td>0.196729</td>\n",
       "      <td>-0.203944</td>\n",
       "    </tr>\n",
       "  </tbody>\n",
       "</table>\n",
       "</div>"
      ],
      "text/plain": [
       "   PassengerId  Pclass  Name  Sex  SibSp  Parch  Ticket  Embarked  Age_na  \\\n",
       "0         1101       3    47    2      0      0     106         3   False   \n",
       "1         1102       3     6    2      0      0     146         3   False   \n",
       "\n",
       "   Fare_na       Age      Fare  \n",
       "0    False -0.343408 -0.489547  \n",
       "1    False  0.196729 -0.203944  "
      ]
     },
     "execution_count": 47,
     "metadata": {},
     "output_type": "execute_result"
    }
   ],
   "source": [
    "#Merge the two sets of columns\n",
    "df_list_I = [X_cat_t,X_con_sct]\n",
    "X_test_I = (pd.concat(df_list_I,axis = 1))\n",
    "print(X_test_I.shape)\n",
    "X_test_I.head(2)"
   ]
  },
  {
   "cell_type": "code",
   "execution_count": 52,
   "metadata": {
    "collapsed": true
   },
   "outputs": [],
   "source": [
    "#Testing...\n",
    "Y_test_pred_fin = my_knn_model_fin.predict(X_test_I)"
   ]
  },
  {
   "cell_type": "code",
   "execution_count": 53,
   "metadata": {},
   "outputs": [
    {
     "name": "stdout",
     "output_type": "stream",
     "text": [
      "0.507177033492823 0.0987434885488775 0.5896414342629481\n"
     ]
    }
   ],
   "source": [
    "#Calculating the Accuracy Score, Mattews Correlation Coefficient and F1 score for the Validation set\n",
    "print(accuracy_score(Y_t,Y_test_pred_fin),\n",
    "      matthews_corrcoef(Y_t,Y_test_pred_fin),f1_score(Y_t,Y_test_pred_fin))"
   ]
  },
  {
   "cell_type": "code",
   "execution_count": 51,
   "metadata": {},
   "outputs": [
    {
     "data": {
      "text/plain": [
       "Text(52,0.5,'Predicted')"
      ]
     },
     "execution_count": 51,
     "metadata": {},
     "output_type": "execute_result"
    },
    {
     "data": {
      "image/png": "[encoded data removed]",
      "text/plain": [
       "<matplotlib.figure.Figure at 0x187f4d3d7f0>"
      ]
     },
     "metadata": {},
     "output_type": "display_data"
    }
   ],
   "source": [
    "#Implementing the Confusion Matrix\n",
    "c_mat = confusion_matrix(Y_t,Y_test_pred_fin)\n",
    "c_mat_df = pd.DataFrame(c_mat)\n",
    "c_mat_df.head(2)\n",
    "c_mat_df.columns = [\"Did not Survive\",\"Survived\"]\n",
    "c_mat_df.index = [\"Did not Survive\",\"Survived\"]\n",
    "c_mat_df = c_mat_df.T\n",
    "c_mat_df\n",
    "plt.figure(figsize = (8,6))\n",
    "sns.heatmap(c_mat_df,annot = True,fmt = 'g')\n",
    "plt.xlabel(\"Actual\")\n",
    "plt.ylabel(\"Predicted\")"
   ]
  },
  {
   "cell_type": "code",
   "execution_count": 54,
   "metadata": {},
   "outputs": [
    {
     "data": {
      "image/png": "[encoded data removed]",
      "text/plain": [
       "<matplotlib.figure.Figure at 0x187f4d3c710>"
      ]
     },
     "metadata": {},
     "output_type": "display_data"
    },
    {
     "name": "stdout",
     "output_type": "stream",
     "text": [
      "ROC value\n"
     ]
    },
    {
     "data": {
      "text/plain": [
       "0.5421866269323897"
      ]
     },
     "execution_count": 54,
     "metadata": {},
     "output_type": "execute_result"
    }
   ],
   "source": [
    "#Calculating and ploting the ROC curve\n",
    "from sklearn.metrics import classification_report,roc_curve,roc_auc_score\n",
    "rec, fall_out, thresholds = roc_curve(Y_t,Y_test_pred_fin)\n",
    "plt.plot([0,1],[0,1],'k--')\n",
    "plt.plot(rec,fall_out, label='Knn')\n",
    "plt.xlabel('Fall out')\n",
    "plt.ylabel('Recall/Sensitivity')\n",
    "plt.title('Knn(n_neighbors=18) ROC curve')\n",
    "plt.show()\n",
    "#Area under ROC curve\n",
    "print(\"ROC value\")\n",
    "roc_auc_score(Y_t,Y_test_pred_fin)"
   ]
  },
  {
   "cell_type": "markdown",
   "metadata": {},
   "source": [
    "# Hyper-Parameters"
   ]
  },
  {
   "cell_type": "markdown",
   "metadata": {},
   "source": [
    "Method Used: Grid Search\n",
    "\n",
    "Accuracy Score:\n",
    "1. Training Set: 0.6488888888888888\n",
    "2. Validation Set: 0.57\n",
    "3. Test Set : 0.507177033492823\n",
    "    \n",
    "Best Hyperparameters:'algorithm': 'auto', 'leaf_size': 10, 'metric': 'manhattan', 'n_neighbors': 18, 'weights': 'uniform'\n",
    "F1 score: 0.5896414342629481\n",
    "Matthews_corrcoef: 0.0987434885488775\n",
    "ROC_AUC_Score:0.5421866269323897"
   ]
  },
  {
   "cell_type": "markdown",
   "metadata": {},
   "source": [
    "# (A) What are some considerations while using K-NN on geo-coordinates data?"
   ]
  },
  {
   "cell_type": "markdown",
   "metadata": {},
   "source": [
    "KNN is a simple form of machine learning algorithm, it is not effective when using large datasets. \n",
    "KNN finds the nearest neighbours which is difficult to implement for Geo coordinate data. \n",
    "To implement KNN for coordinate data we could use haversine distance formula and we could use voronoi diagrams. \n",
    "We build cells around a data, the cell boundary is nothing but equidistant between two points. \n",
    "The voronoi diagram can be implemented using a spatial data structure such as an R-tree. \n",
    "This is a more efficient way to implement KNN for geo coordinate data."
   ]
  },
  {
   "cell_type": "markdown",
   "metadata": {},
   "source": [
    "# (B) Is KNN a parametric algorithm and if so, what are its implications?"
   ]
  },
  {
   "cell_type": "markdown",
   "metadata": {},
   "source": [
    "All the machine learning model which doesn’t have any parameters to learn falls under non parametric method/models and KNN is one of them. KNN classifier is a supervised algorithm which is Non-parametric and used for both regression and classification.In KNN, we give K (hyper parameters) to the model and model finds the nearest K neighbours and take majority votes or average (based on the problem statement) to produce the output. KNN uses a large set of data in training phase which makes training faster and testing phase slower and costlier."
   ]
  },
  {
   "cell_type": "markdown",
   "metadata": {},
   "source": [
    "# (C) Please list two disadvantages of using KNN learners."
   ]
  },
  {
   "cell_type": "markdown",
   "metadata": {},
   "source": [
    "1.K-NN works well with a small number of input variables but struggles when the number of inputs is very large.Since KNN uses all the dataset, it is best suited if the dataset is not too large.\n",
    "2.KNN is sensitive to noise in the dataset. We need to manually impute missing values and remove outliers and we need to do feature scaling (standardization and normalization) before applying KNN algorithm to any dataset. If we don't do so, KNN may generate wrong predictions."
   ]
  }
 ],
 "metadata": {
  "kernelspec": {
   "display_name": "Python 3",
   "language": "python",
   "name": "python3"
  },
  "language_info": {
   "codemirror_mode": {
    "name": "ipython",
    "version": 3
   },
   "file_extension": ".py",
   "mimetype": "text/x-python",
   "name": "python",
   "nbconvert_exporter": "python",
   "pygments_lexer": "ipython3",
   "version": "3.6.10"
  }
 },
 "nbformat": 4,
 "nbformat_minor": 2
}
